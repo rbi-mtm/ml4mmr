{
 "cells": [
  {
   "cell_type": "markdown",
   "id": "e0c7b214-dfd2-4c1d-9801-0cfcbde8f8e3",
   "metadata": {},
   "source": [
    "# Making predictions for all geometries on the 2D grid"
   ]
  },
  {
   "cell_type": "code",
   "execution_count": null,
   "id": "74253284-6760-47d0-8508-b02e8d0c1bef",
   "metadata": {},
   "outputs": [],
   "source": [
    "from ase.db import connect\n",
    "from spainn.interface import NacCalculator\n",
    "from schnetpack.transform import MatScipyNeighborList\n",
    "import ase\n",
    "import numpy as np\n",
    "from tqdm import tqdm"
   ]
  },
  {
   "cell_type": "markdown",
   "id": "1ef9ab00-1fd2-4adc-aa21-3ad215fbffd5",
   "metadata": {},
   "source": [
    "The SpaiNN interface provides a ASE-style calculator that loads the Schnetpack style models and converts the predictions into normal ASE Atom properies. This could then be combined with any ASE type of \"dynamics\"."
   ]
  },
  {
   "cell_type": "markdown",
   "id": "2f32168c-dd6c-4368-ba86-c91b014518ec",
   "metadata": {},
   "source": [
    "### Predictions for the PaiNN model"
   ]
  },
  {
   "cell_type": "code",
   "execution_count": null,
   "id": "f3eecad1-97e8-4ce5-85ac-29d1f975b424",
   "metadata": {},
   "outputs": [],
   "source": [
    "calc = NacCalculator(model_file=\"Painn_model/best_model\", neighbor_list=MatScipyNeighborList(cutoff=10.0))\n",
    "atom = ase.Atoms(symbols=\"CNHHHH\")\n",
    "atom.calc = calc"
   ]
  },
  {
   "cell_type": "code",
   "execution_count": null,
   "id": "b6006dbb-e3ef-4489-b2e0-1ce0eaaeeaf2",
   "metadata": {},
   "outputs": [],
   "source": [
    "db = connect(\"grid_configuration.db\")\n",
    "pred_energies = np.zeros(shape=(9191, 3))\n",
    "pred_nacs     = np.zeros(shape=(9191, 3))"
   ]
  },
  {
   "cell_type": "code",
   "execution_count": null,
   "id": "f12e1dfa-6f72-49bc-b695-61c653396b2e",
   "metadata": {},
   "outputs": [],
   "source": [
    "for idx in tqdm(range(len(db))):\n",
    "    atom.set_positions(db.get(idx+1).positions)\n",
    "    # NOTE: forces and nacs have the shape (Natoms, Nstates, xyz) -> here (6, 3, 3)\n",
    "    props = atom.get_properties(['energy', 'smooth_nacs'])\n",
    "    pred_energies[idx] = props['energy']\n",
    "    pred_nacs[idx] = np.sum(np.linalg.norm(props['smooth_nacs'], axis=2), axis=0)"
   ]
  },
  {
   "cell_type": "code",
   "execution_count": null,
   "id": "24b12ab9-c4ab-4890-99ad-5418561b0b2f",
   "metadata": {},
   "outputs": [],
   "source": [
    "np.savez(\"Predictions_Painn.npz\", energy = pred_energies, nacs = pred_nacs)"
   ]
  },
  {
   "cell_type": "code",
   "execution_count": null,
   "id": "027c7d5c-557f-4f00-aab8-3e9cdddbcb98",
   "metadata": {},
   "outputs": [],
   "source": []
  },
  {
   "cell_type": "markdown",
   "id": "0e41f038-e620-4c8d-a50b-f8e5733fa1ec",
   "metadata": {},
   "source": [
    "## Predictions for the SchNet model"
   ]
  },
  {
   "cell_type": "code",
   "execution_count": null,
   "id": "36af55e1-bff2-4f84-b7b1-25bc8ef7da20",
   "metadata": {},
   "outputs": [],
   "source": [
    "calc = NacCalculator(model_file=\"Schnet_model/best_model\", neighbor_list=MatScipyNeighborList(cutoff=10.0))\n",
    "atom = ase.Atoms(symbols=\"CNHHHH\")\n",
    "atom.calc = calc"
   ]
  },
  {
   "cell_type": "code",
   "execution_count": null,
   "id": "824df070-386e-4549-adb9-c06422281109",
   "metadata": {},
   "outputs": [],
   "source": [
    "db = connect(\"grid_configuration.db\")\n",
    "pred_energies = np.zeros(shape=(9191, 3))\n",
    "pred_nacs     = np.zeros(shape=(9191, 3))"
   ]
  },
  {
   "cell_type": "code",
   "execution_count": null,
   "id": "80438a18-8159-4ab5-9a74-ff1d0898f8a8",
   "metadata": {},
   "outputs": [],
   "source": [
    "for idx in tqdm(range(len(db))):\n",
    "    atom.set_positions(db.get(idx+1).positions)\n",
    "    # NOTE: forces and nacs have the shape (Natoms, Nstates, xyz) -> here (6, 3, 3)\n",
    "    props = atom.get_properties(['energy', 'smooth_nacs'])\n",
    "    pred_energies[idx] = props['energy']\n",
    "    pred_nacs[idx] = np.sum(np.linalg.norm(props['smooth_nacs'], axis=2), axis=0)"
   ]
  },
  {
   "cell_type": "code",
   "execution_count": null,
   "id": "cce9f79c-0b66-42b5-9d17-9310ca410742",
   "metadata": {},
   "outputs": [],
   "source": [
    "np.savez(\"Predictions_Schnet.npz\", energy = pred_energies, nacs = pred_nacs)"
   ]
  },
  {
   "cell_type": "code",
   "execution_count": null,
   "id": "fbe69643-e88d-48c7-b2e2-767777153ef7",
   "metadata": {},
   "outputs": [],
   "source": []
  }
 ],
 "metadata": {
  "kernelspec": {
   "display_name": "Python 3 (ipykernel)",
   "language": "python",
   "name": "python3"
  },
  "language_info": {
   "codemirror_mode": {
    "name": "ipython",
    "version": 3
   },
   "file_extension": ".py",
   "mimetype": "text/x-python",
   "name": "python",
   "nbconvert_exporter": "python",
   "pygments_lexer": "ipython3",
   "version": "3.12.7"
  }
 },
 "nbformat": 4,
 "nbformat_minor": 5
}
