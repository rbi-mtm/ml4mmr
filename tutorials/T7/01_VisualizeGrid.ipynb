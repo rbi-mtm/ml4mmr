{
 "cells": [
  {
   "cell_type": "markdown",
   "id": "496fa0df-fb6b-4566-8b68-74d77f45b369",
   "metadata": {},
   "source": [
    "# 🧪 Notebook 1: Visualizing Molecular Geometries and Energy Scans\n",
    "\n",
    "## Introduction: Exploring Excited-State PESs with Machine Learning\n",
    "\n",
    "In this tutorial series, we explore how machine learning (ML) models can be trained to describe excited-state potential energy surfaces (PESs) and non-adiabatic couplings (NACs). As a test case, we use the amino methyl cation, \n",
    "$\\mathrm{CH_2NH_2^+}$, a small system that nonetheless captures many of the essential features of photochemical reactivity.\n",
    "\n",
    "### Why $\\mathrm{CH_2NH_2^+}$?\n",
    "\n",
    "$\\mathrm{CH_2NH_2^+}$ is a prototypical molecule in photochemistry and non-adiabatic dynamics. It exhibits strong coupling between electronic states and undergoes ultrafast internal conversion processes. These characteristics make it a popular benchmark system for methods that go beyond the Born–Oppenheimer approximation. Importantly, its small size makes it computationally manageable while still containing enough electronic structure complexity to pose a challenge for both traditional and machine-learned approaches.\n",
    "\n",
    "### What we will do:\n",
    "\n",
    "In the first notebook, we load and visualize the molecular structure of $\\mathrm{CH_2NH_2^+}$ along with a collection of geometries that span different regions of its configuration space. These geometries represent snapshots that the molecule might explore during photoinduced dynamics."
   ]
  },
  {
   "cell_type": "code",
   "execution_count": null,
   "id": "0a1549d0-00f1-4662-9886-527f9138e4b7",
   "metadata": {},
   "outputs": [],
   "source": [
    "import ase\n",
    "from ase.db import connect\n",
    "import nglview\n",
    "import numpy as np\n",
    "import matplotlib.pyplot as plt\n",
    "from matplotlib import cm\n",
    "from mpl_toolkits.mplot3d import Axes3D\n",
    "from tqdm import tqdm"
   ]
  },
  {
   "cell_type": "markdown",
   "id": "de2b6bd7-0844-47b1-8db8-a35681a5fc60",
   "metadata": {},
   "source": [
    "### Inspecting the geometries"
   ]
  },
  {
   "cell_type": "code",
   "execution_count": null,
   "id": "a5a38f59-df73-4ece-b969-3a4668fb6000",
   "metadata": {},
   "outputs": [],
   "source": [
    "BOHR_TO_ANGSTROM = 0.529177249"
   ]
  },
  {
   "cell_type": "code",
   "execution_count": null,
   "id": "faa650b1-ecfd-42a2-99b0-31b67fd13d38",
   "metadata": {},
   "outputs": [],
   "source": [
    "db = connect('grid_configuration.db')"
   ]
  },
  {
   "cell_type": "code",
   "execution_count": null,
   "id": "0d7ff138-ee43-4099-994f-fac9fae6dc77",
   "metadata": {},
   "outputs": [],
   "source": [
    "# We need to convert the distance from the database, which is in atomic units, \n",
    "# to Angstrom to be able to visualize the structures properly\n",
    "\n",
    "traj_in_angstrom = []\n",
    "number_of_frames = len(db)\n",
    "for idx in tqdm(range(number_of_frames)):\n",
    "    atoms = db.get_atoms(idx+1)\n",
    "    atoms.set_positions(atoms.get_positions() * BOHR_TO_ANGSTROM)\n",
    "    traj_in_angstrom.append(atoms)"
   ]
  },
  {
   "cell_type": "code",
   "execution_count": null,
   "id": "1c48486d-a8ea-4c69-8680-7ccccf44086a",
   "metadata": {},
   "outputs": [],
   "source": [
    "nglview.show_asetraj(traj_in_angstrom)"
   ]
  },
  {
   "cell_type": "code",
   "execution_count": null,
   "id": "f8575586-787d-4f5d-b68b-dfbf74bd1443",
   "metadata": {},
   "outputs": [],
   "source": [
    "traj_in_angstrom[0].get_chemical_symbols()"
   ]
  },
  {
   "cell_type": "markdown",
   "id": "39ded7b5-7fab-4902-9e9b-70e7e97bfb17",
   "metadata": {},
   "source": [
    "## Inspecting the PES\n",
    "\n",
    "🌀 Where to Expect Conical Intersections in $\\mathrm{CH_2NH_2^+}$\n",
    " \n",
    "One of the defining features of excited-state dynamics is the presence of conical intersections (CIs)—points where two adiabatic potential energy surfaces become degenerate and the Born–Oppenheimer approximation breaks down. These regions allow for ultrafast nonradiative transitions between electronic states and often govern the outcome of photochemical processes.\n",
    "\n",
    "In the case of $\\mathrm{CH_2NH_2^+}$, conical intersections typically occur in distorted geometries, especially along coordinates that involve:\n",
    "- C–N bond stretching\n",
    "- Twisting around the C–N bond\n",
    "- Out-of-plane pyramidalization of the carbon or nitrogen atom\n",
    "\n",
    "These distortions break the planarity and symmetry of the molecule, allowing the $S_1$ and $S_0$ (or higher excited states) to approach each other closely in energy. \n",
    "For instance, a common motif involves a torsion around the C–N bond coupled with pyramidalization at carbon.\n",
    "\n",
    "These coordinates are not just theoretical curiosities—they are directly connected to actual relaxation pathways that the molecule follows after photoexcitation."
   ]
  },
  {
   "cell_type": "code",
   "execution_count": null,
   "id": "270713f3-2451-4220-9c0e-e376ee01cbad",
   "metadata": {},
   "outputs": [],
   "source": [
    "%matplotlib widget"
   ]
  },
  {
   "cell_type": "code",
   "execution_count": null,
   "id": "64cae4bc-e4a3-46f1-97a4-6aa050d8f855",
   "metadata": {},
   "outputs": [],
   "source": [
    "# loading the ground truth MRCI data for the configurations above\n",
    "\n",
    "data_grid = np.load(\"groundtruth_grid.npz\")\n",
    "data_grid.keys()"
   ]
  },
  {
   "cell_type": "code",
   "execution_count": null,
   "id": "da0138e2-0df2-4b5b-9a10-29197a4b2160",
   "metadata": {},
   "outputs": [],
   "source": [
    "bond_values = np.linspace(2.4321, 4.4321, 101)\n",
    "angle_values = np.linspace(0, 90, 91)\n",
    "X, Y = np.meshgrid(angle_values, bond_values)"
   ]
  },
  {
   "cell_type": "code",
   "execution_count": null,
   "id": "41c5508b-78c1-423d-ada1-cd2a87db70e7",
   "metadata": {},
   "outputs": [],
   "source": [
    "mask = data_grid['energy'][:,:,0] < -1 # geometries where the SCF did not converge"
   ]
  },
  {
   "cell_type": "code",
   "execution_count": null,
   "id": "f656f3c5-df1d-4a02-8f3c-66829130aa7e",
   "metadata": {},
   "outputs": [],
   "source": [
    "fig, ax = plt.subplots(subplot_kw={\"projection\": \"3d\"})\n",
    "\n",
    "for state in range(3):\n",
    "    Z = data_grid['energy'][:, :, state]\n",
    "    surf = ax.plot_trisurf(X[mask].flatten(), Y[mask].flatten(), Z[mask].flatten(), cmap=cm.coolwarm,\n",
    "                           linewidth=0, antialiased=False)\n",
    "\n",
    "# Z = results_model_comp[model_type]['energies'][:,2]#.reshape(targets_bond.shape[0], targets_angle.shape[0])\n",
    "# surf = ax.plot_trisurf(X, Y, Z, cmap=cm.coolwarm,\n",
    "#                        linewidth=0, antialiased=False)\n",
    "\n",
    "ax.set_ylabel(\"C-N bond length / bohr\")\n",
    "ax.set_xlabel(\"H-C-N-H angle / degree\")\n",
    "ax.set_zlabel(\"Energy / Ha\")\n",
    "plt.show()"
   ]
  },
  {
   "cell_type": "code",
   "execution_count": null,
   "id": "3cf1af44-dd7b-4a87-a6df-f6a03f67f103",
   "metadata": {},
   "outputs": [],
   "source": []
  }
 ],
 "metadata": {
  "kernelspec": {
   "display_name": "Python 3 (ipykernel)",
   "language": "python",
   "name": "python3"
  },
  "language_info": {
   "codemirror_mode": {
    "name": "ipython",
    "version": 3
   },
   "file_extension": ".py",
   "mimetype": "text/x-python",
   "name": "python",
   "nbconvert_exporter": "python",
   "pygments_lexer": "ipython3",
   "version": "3.10.15"
  }
 },
 "nbformat": 4,
 "nbformat_minor": 5
}
