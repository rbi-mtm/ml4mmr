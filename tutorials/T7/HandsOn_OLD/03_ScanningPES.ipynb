{
 "cells": [
  {
   "cell_type": "markdown",
   "id": "f031b213-1f2b-4e54-bad4-9aff9b206bb9",
   "metadata": {},
   "source": [
    "## Imports"
   ]
  },
  {
   "cell_type": "code",
   "execution_count": null,
   "id": "b8104b4d-ac3e-48e9-b4d7-a7962c263104",
   "metadata": {},
   "outputs": [],
   "source": [
    "import os\n",
    "cwd = os.getcwd()\n",
    "\n",
    "import sys\n",
    "sys.path.append(os.path.join(cwd, 'NFF'))"
   ]
  },
  {
   "cell_type": "code",
   "execution_count": null,
   "id": "edd7979a-112c-4c88-a878-a9c0e231bc91",
   "metadata": {},
   "outputs": [],
   "source": [
    "import numpy as np\n",
    "import matplotlib.pyplot as plt\n",
    "from matplotlib import cm\n",
    "from mpl_toolkits.mplot3d import Axes3D\n",
    "%matplotlib widget\n",
    "\n",
    "from ase.io import Trajectory as trajectory\n",
    "from ase.io import write, read\n",
    "from ase.optimize import BFGS"
   ]
  },
  {
   "cell_type": "code",
   "execution_count": null,
   "id": "dff81762-1cec-492a-b4a4-657d32c38cbc",
   "metadata": {},
   "outputs": [],
   "source": [
    "from nff.io.ase import NeuralFF, AtomsBatch\n",
    "from nff.md.colvars import ColVar\n",
    "from nff.io.bias_calculators import BiasBase\n",
    "from nff.train.builders.model import load_model"
   ]
  },
  {
   "cell_type": "code",
   "execution_count": null,
   "id": "e30821a3-c4a8-4df9-b1e8-0c709008f91d",
   "metadata": {},
   "outputs": [],
   "source": [
    "import nglview as nv\n",
    "from copy import deepcopy"
   ]
  },
  {
   "cell_type": "code",
   "execution_count": null,
   "id": "42b03b1a-c3cf-414c-a753-7c7794949f39",
   "metadata": {},
   "outputs": [],
   "source": [
    "def constrained_optimization(model,\n",
    "                             atoms, \n",
    "                             model_path: str,\n",
    "                             cv_defs: list[dict],\n",
    "                             energy_key: str = 'energy_0',\n",
    "                            ) -> tuple[AtomsBatch, list, list]:\n",
    "\n",
    "    calculator = BiasBase.from_file(model_path, \n",
    "                                cv_defs=cv_defs,\n",
    "                                directed=True,\n",
    "                                en_key=energy_key,\n",
    "                                device='cpu')\n",
    "    atoms.set_calculator(calculator)\n",
    "    dyn = BFGS(atoms)\n",
    "\n",
    "    dyn.run(fmax=0.05, steps=400)\n",
    "    xi_vals = []\n",
    "    for cv in cv_defs:\n",
    "        CV = ColVar(cv['definition'])\n",
    "        xi , _ = CV(atoms)\n",
    "        xi_vals.append(xi)\n",
    "    results = model(atoms.get_batch())\n",
    "    ener = np.concatenate([results[f'energy_{i}'].detach().numpy() for i in range(3)])\n",
    "    \n",
    "    del calculator, dyn\n",
    "    return atoms, ener, xi_vals"
   ]
  },
  {
   "cell_type": "code",
   "execution_count": null,
   "id": "4353433e-b79a-4385-9cd1-b0aa2683fc5c",
   "metadata": {},
   "outputs": [],
   "source": []
  },
  {
   "cell_type": "code",
   "execution_count": null,
   "id": "f27c915f-06b8-44ab-9e81-40a05d9a1eff",
   "metadata": {},
   "outputs": [],
   "source": [
    "path_to_model = os.path.join(cwd, 'Pretrained_Models/Model_Adiabatic')"
   ]
  },
  {
   "cell_type": "code",
   "execution_count": null,
   "id": "7903322d-4e9d-4df2-82e6-5c152b243c6e",
   "metadata": {},
   "outputs": [],
   "source": [
    "model = load_model(path_to_model)"
   ]
  },
  {
   "cell_type": "code",
   "execution_count": null,
   "id": "34e3b680-da3e-476b-81b7-e85ae3e5bf6d",
   "metadata": {},
   "outputs": [],
   "source": [
    "# selecting a starting geometry \n",
    "start_config = read('test_frame_0.xyz')"
   ]
  },
  {
   "cell_type": "code",
   "execution_count": null,
   "id": "5633d26d-a47a-4b98-9b78-5476c09bbee2",
   "metadata": {},
   "outputs": [],
   "source": [
    "# needed to tell the ColVar class what CV we want to investigate\n",
    "# we will use here the dihedral between the two central benzenes\n",
    "# the CV is in raidans, thus its range is [-pi, pi]\n",
    "info_dict = {'name': 'distance',\n",
    "             'index_list': [0, 1],\n",
    "            }\n",
    "\n",
    "# value of the starting geometry\n",
    "CV = ColVar({'name': 'distance',\n",
    "             'index_list': [0, 1],\n",
    "            })\n",
    "xi, xi_grad = CV(start_config) # returns CV values and the gradient w.r.t. to the Cartesian coordinates\n",
    "print(xi)\n",
    "\n",
    "CV = ColVar({'name': 'angle',\n",
    "             'index_list': [0, 1, 3],\n",
    "            })\n",
    "xi, xi_grad = CV(start_config) \n",
    "print(xi*180/np.pi)"
   ]
  },
  {
   "cell_type": "markdown",
   "id": "d9e4984e-22cc-4921-9ad2-4b538dab51e2",
   "metadata": {},
   "source": [
    "### Example of a constrained minimization"
   ]
  },
  {
   "cell_type": "code",
   "execution_count": null,
   "id": "d5b37a1a-8aba-48d5-a6a1-7ad5b1af57f5",
   "metadata": {},
   "outputs": [],
   "source": [
    "# to use the ASE-like atoms object as input to a Neral Network\n",
    "atoms = AtomsBatch.from_atoms(start_config, directed=True, device='cpu')\n",
    "\n",
    "# this list tells the calculator things about the CV\n",
    "cv_defs = [{'definition': {'name': 'distance',\n",
    "             'index_list': [0, 1],\n",
    "            },\n",
    "            'range': [1.1, 1.6], \n",
    "            'ext_k': 1000.0, # eV / CV^2\n",
    "            'type': 'not_angle',\n",
    "            },\n",
    "           {'definition': {'name': 'angle',\n",
    "             'index_list': [0, 1, 3],\n",
    "            },\n",
    "            'range': [100.0/180.0 * np.pi, 120.0/180.0 * np.pi], \n",
    "            'ext_k': 100.0, # eV / CV^2\n",
    "            'type': 'angle',\n",
    "            }\n",
    "            ]\n",
    "\n",
    "# initialize the calculator from the NFF\n",
    "# this calculator adds a harmonic spring to the NFF\n",
    "# the minimum of the sping is at range[0], the force constant is ext_k\n",
    "calculator = BiasBase.from_file(path_to_model, \n",
    "                                cv_defs=cv_defs,\n",
    "                                directed=True,\n",
    "                                en_key='energy_0',\n",
    "                                device='cpu')\n",
    "\n",
    "atoms.set_calculator(calculator)\n",
    "\n",
    "dyn = BFGS(atoms)\n",
    "\n",
    "dyn.run(fmax=0.05, steps=400)"
   ]
  },
  {
   "cell_type": "code",
   "execution_count": null,
   "id": "56f64dd7-a35c-4bb6-9820-9047732bd110",
   "metadata": {},
   "outputs": [],
   "source": [
    "# proof to what the CV was optimized\n",
    "# however the bias might have been not strong enough to reach the target ^^\n",
    "# value of the starting geometry\n",
    "CV = ColVar({'name': 'distance',\n",
    "             'index_list': [0, 1],\n",
    "            })\n",
    "xi, xi_grad = CV(atoms) # returns CV values and the gradient w.r.t. to the Cartesian coordinates\n",
    "print(xi)\n",
    "\n",
    "CV = ColVar({'name': 'angle',\n",
    "             'index_list': [0, 1, 3],\n",
    "            })\n",
    "xi, xi_grad = CV(atoms) \n",
    "print(xi*180/np.pi)"
   ]
  },
  {
   "cell_type": "code",
   "execution_count": null,
   "id": "4f3129a8-6c47-476b-bf41-9979b2fa4b36",
   "metadata": {
    "scrolled": true
   },
   "outputs": [],
   "source": [
    "# investigate geometry\n",
    "nv.show_ase(atoms)"
   ]
  },
  {
   "cell_type": "markdown",
   "id": "193bd76a-c2aa-4272-9838-be40e3b5ad6f",
   "metadata": {},
   "source": [
    "# Comparison of the different model types"
   ]
  },
  {
   "cell_type": "markdown",
   "id": "3e866325-7832-41c3-bdcd-ec1d7e00aca2",
   "metadata": {},
   "source": [
    "### 1D Scan over a range of geometries"
   ]
  },
  {
   "cell_type": "code",
   "execution_count": null,
   "id": "d7ff8625-49bf-48d4-8dbb-b7f751292fd8",
   "metadata": {
    "scrolled": true
   },
   "outputs": [],
   "source": [
    "model_names = ['Model_Adiabatic', 'Model_Adiabatic_tuple', 'Model_Diabatic']\n",
    "results_model_comp = {}\n",
    "for modelname in model_names:\n",
    "    path_to_model = os.path.join(cwd, 'Pretrained_Models', modelname)\n",
    "    model = load_model(path_to_model)\n",
    "    start_config = read('test_frame_0.xyz')\n",
    "    atoms = AtomsBatch.from_atoms(start_config, directed=True, device='cpu')\n",
    "\n",
    "    traj = []\n",
    "    energies = []\n",
    "    xis  = []\n",
    "    \n",
    "    targets = np.linspace(1.1, 1.6, 41) \n",
    "    \n",
    "    for target in targets:\n",
    "        print(\"=======================================================\")\n",
    "        print(f\"target: {target}\")\n",
    "\n",
    "        cv_defs = [{'definition': {'name': 'distance',\n",
    "                                   'index_list': [0, 1],\n",
    "                                    },\n",
    "                    'range': [target, target], # second value does not matter here\n",
    "                    'ext_k': 500.0, # eV / CV^2\n",
    "                    'type': 'not_angle',\n",
    "                    }]\n",
    "        atoms, eners, xi = constrained_optimization(model,\n",
    "                                                     atoms, \n",
    "                                                     model_path = path_to_model,\n",
    "                                                     cv_defs = cv_defs,\n",
    "                                                     energy_key = 'energy_0'\n",
    "                                                   )\n",
    "        traj.append(deepcopy(atoms))\n",
    "        xis.append(xi)\n",
    "        energies.append(eners)\n",
    "    \n",
    "    energies = np.array(energies)\n",
    "    xis = np.array(xis)\n",
    "    #print(energies)\n",
    "    results_model_comp[modelname] = {'xis': xis,\n",
    "                                     'traj': traj,\n",
    "                                     'energies': energies.reshape(-1, 3)}"
   ]
  },
  {
   "cell_type": "code",
   "execution_count": null,
   "id": "d975f785-246b-4bb9-a131-2d6a4fda1e1f",
   "metadata": {},
   "outputs": [],
   "source": [
    "fig, axs = plt.subplots(1, 3, figsize=(14,5), \n",
    "                        sharex=True, sharey=True)\n",
    "\n",
    "reds = ['#94003a', '#c82c46', '#ff4e52']\n",
    "for idx, modelname in enumerate(model_names):\n",
    "    for idx2 in range(3):  \n",
    "        axs[idx].plot(results_model_comp[modelname]['xis'], \n",
    "                      results_model_comp[modelname]['energies'][:,idx2],\n",
    "                      label=f'energy_{idx2}',\n",
    "                      color=reds[idx2],\n",
    "                      linewidth=2)\n",
    "\n",
    "for ax in axs:\n",
    "    ax.tick_params(axis='y',length=6,width=3,labelsize=20, pad=10, direction='in')\n",
    "    ax.tick_params(axis='x',length=6,width=3,labelsize=20, pad=10, direction='in')\n",
    "    for key in ax.spines.keys():\n",
    "        ax.spines[key].set_linewidth(3)\n",
    "    #ax.set_ylim([0, 0.5])\n",
    "    ax.set_xlabel(\"CV value\", fontsize=20)\n",
    "    ax.legend(frameon=False, fontsize=12)\n",
    "\n",
    "axs[0].set_ylabel(r\"Energy / kcal mol$^{-1}$\", fontsize=20)\n",
    "\n",
    "plt.tight_layout()\n",
    "plt.show()"
   ]
  },
  {
   "cell_type": "code",
   "execution_count": null,
   "id": "aba67a1e-14c5-4e99-b916-844352c988ec",
   "metadata": {},
   "outputs": [],
   "source": []
  },
  {
   "cell_type": "markdown",
   "id": "40689840-e50e-4e4d-9b90-d857de8ff279",
   "metadata": {},
   "source": [
    "### 2D Scan over a range of geometries"
   ]
  },
  {
   "cell_type": "code",
   "execution_count": null,
   "id": "1612b579-2b39-4deb-8845-495c9064eaae",
   "metadata": {
    "scrolled": true
   },
   "outputs": [],
   "source": [
    "model_names = ['Model_Adiabatic', 'Model_Adiabatic_tuple', 'Model_Diabatic']\n",
    "results_model_comp = {}\n",
    "for modelname in model_names:\n",
    "    path_to_model = os.path.join(cwd, 'Pretrained_Models', modelname)\n",
    "    model = load_model(path_to_model)\n",
    "    start_config = read('test_frame_0.xyz')\n",
    "    atoms = AtomsBatch.from_atoms(start_config, directed=True, device='cpu')\n",
    "\n",
    "    traj = []\n",
    "    energies = []\n",
    "    xis  = []\n",
    "    \n",
    "    targets_bond = np.linspace(1.1, 1.6, 21) \n",
    "    targets_angle = np.linspace(90/180 * np.pi, 150/180 * np.pi, 13) \n",
    "    bond_grid, angle_grid = np.meshgrid(targets_bond, targets_angle)\n",
    "    \n",
    "    for target_bond, target_angle in zip(bond_grid.flatten(), angle_grid.flatten()):\n",
    "        print(\"=======================================================\")\n",
    "        print(f\"target bond: {target_bond}, target angel: {target_angle}\")\n",
    "\n",
    "        cv_defs = [{'definition': {'name': 'distance',\n",
    "                                   'index_list': [0, 1],\n",
    "                                    },\n",
    "                    'range': [target_bond, target_bond], # second value does not matter here\n",
    "                    'ext_k': 500.0, # eV / CV^2\n",
    "                    'type': 'not_angle',\n",
    "                    },\n",
    "                   {'definition': {'name': 'angle',\n",
    "                                   'index_list': [0, 1, 3],\n",
    "                                    },\n",
    "                    'range': [target_angle, target_angle], # second value does not matter here\n",
    "                    'ext_k': 100.0, # eV / CV^2\n",
    "                    'type': 'angle',\n",
    "                    }]\n",
    "    \n",
    "        atoms, eners, xi = constrained_optimization(model,\n",
    "                                                    atoms, \n",
    "                                                    model_path = path_to_model,\n",
    "                                                    cv_defs=cv_defs,\n",
    "                                                    energy_key = 'energy_0',\n",
    "                                                   )\n",
    "        traj.append(deepcopy(atoms))\n",
    "        xis.append(xi)\n",
    "        energies.append(eners)\n",
    "    \n",
    "    energies = np.array(energies)\n",
    "    xis = np.array(xis)\n",
    "    results_model_comp[modelname] = {'xis': xis,\n",
    "                                     'traj': traj,\n",
    "                                     'energies': energies.reshape(-1, 3)}"
   ]
  },
  {
   "cell_type": "code",
   "execution_count": null,
   "id": "4eb64691-8153-4f7e-8f79-b8d29d5b6a02",
   "metadata": {},
   "outputs": [],
   "source": [
    "fig, ax = plt.subplots(subplot_kw={\"projection\": \"3d\"})\n",
    "X = results_model_comp['Model_Adiabatic']['xis'][:,0]#.reshape(targets_bond.shape[0], targets_angle.shape[0])\n",
    "Y = results_model_comp['Model_Adiabatic']['xis'][:,1]#.reshape(targets_bond.shape[0], targets_angle.shape[0])\n",
    "Z = results_model_comp['Model_Adiabatic']['energies'][:,1]#.reshape(targets_bond.shape[0], targets_angle.shape[0])\n",
    "surf = ax.plot_trisurf(X, Y, Z, cmap=cm.coolwarm,\n",
    "                       linewidth=0, antialiased=False)\n",
    "\n",
    "Z = results_model_comp['Model_Adiabatic']['energies'][:,2]#.reshape(targets_bond.shape[0], targets_angle.shape[0])\n",
    "surf = ax.plot_trisurf(X, Y, Z, cmap=cm.coolwarm,\n",
    "                       linewidth=0, antialiased=False)\n",
    "\n",
    "ax.set_xlabel(\"C-N bond length / A\")\n",
    "ax.set_ylabel(\"C-N-H angle / rad\")\n",
    "ax.set_zlabel(\"Energy / kcal mol$^{-1}$\")\n",
    "plt.show()"
   ]
  },
  {
   "cell_type": "code",
   "execution_count": null,
   "id": "d92c1a62-70d5-4aea-8f9c-7672737c400c",
   "metadata": {},
   "outputs": [],
   "source": [
    "model_type = 'Model_Diabatic'\n",
    "\n",
    "fig, ax = plt.subplots(subplot_kw={\"projection\": \"3d\"})\n",
    "X = results_model_comp[model_type]['xis'][:,0]#.reshape(targets_bond.shape[0], targets_angle.shape[0])\n",
    "Y = results_model_comp[model_type]['xis'][:,1]#.reshape(targets_bond.shape[0], targets_angle.shape[0])\n",
    "Z = results_model_comp[model_type]['energies'][:,1]#.reshape(targets_bond.shape[0], targets_angle.shape[0])\n",
    "surf = ax.plot_trisurf(X, Y, Z, cmap=cm.coolwarm,\n",
    "                       linewidth=0, antialiased=False)\n",
    "\n",
    "Z = results_model_comp[model_type]['energies'][:,2]#.reshape(targets_bond.shape[0], targets_angle.shape[0])\n",
    "surf = ax.plot_trisurf(X, Y, Z, cmap=cm.coolwarm,\n",
    "                       linewidth=0, antialiased=False)\n",
    "\n",
    "ax.set_xlabel(\"C-N bond length / A\")\n",
    "ax.set_ylabel(\"C-N-H angle / rad\")\n",
    "ax.set_zlabel(\"Energy / kcal mol$^{-1}$\")\n",
    "plt.show()"
   ]
  },
  {
   "cell_type": "code",
   "execution_count": null,
   "id": "5225968e-82d9-438b-ba89-74ccb1efe552",
   "metadata": {},
   "outputs": [],
   "source": []
  }
 ],
 "metadata": {
  "kernelspec": {
   "display_name": "Python 3 (ipykernel)",
   "language": "python",
   "name": "python3"
  },
  "language_info": {
   "codemirror_mode": {
    "name": "ipython",
    "version": 3
   },
   "file_extension": ".py",
   "mimetype": "text/x-python",
   "name": "python",
   "nbconvert_exporter": "python",
   "pygments_lexer": "ipython3",
   "version": "3.12.7"
  }
 },
 "nbformat": 4,
 "nbformat_minor": 5
}
