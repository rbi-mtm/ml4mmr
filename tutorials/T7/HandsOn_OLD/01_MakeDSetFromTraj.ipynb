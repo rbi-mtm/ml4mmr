{
 "cells": [
  {
   "cell_type": "markdown",
   "id": "7afe2870-d27f-4290-9fb3-3e60549a995a",
   "metadata": {},
   "source": [
    "## Imports"
   ]
  },
  {
   "cell_type": "code",
   "execution_count": null,
   "id": "5dc070fa",
   "metadata": {},
   "outputs": [],
   "source": [
    "# Import NFF package from path\n",
    "\n",
    "import sys\n",
    "sys.path.append(\"./NFF\")\n",
    "import nff.data as nff_data"
   ]
  },
  {
   "cell_type": "code",
   "execution_count": null,
   "id": "61059476-783f-4fa8-9797-d799bda3f98f",
   "metadata": {},
   "outputs": [],
   "source": [
    "# general imports\n",
    "import numpy as np\n",
    "import matplotlib.pyplot as plt\n",
    "import torch\n",
    "from sklearn.model_selection import train_test_split"
   ]
  },
  {
   "cell_type": "code",
   "execution_count": null,
   "id": "51b54602",
   "metadata": {},
   "outputs": [],
   "source": [
    "# import self-written SHARC parser \n",
    "# (right now this parser assumes that there are only singlets as is the case in this tutorial)\n",
    "from Sharc_Parser import SharcTrajectoryParser"
   ]
  },
  {
   "cell_type": "code",
   "execution_count": null,
   "id": "9042c464-a990-4531-8756-0caa9cd1ebd2",
   "metadata": {},
   "outputs": [],
   "source": [
    "#######################################\n",
    "# cutoff to remove possible outliers from the dataset\n",
    "# the enrgy cut off is lower on purpose so that some frames are removed, for the project we use 750\n",
    "energy_cutoff = 450     # removes frames with energy X above/below the mean energy in kcal/mol\n",
    "force_cutoff  = 1000    # removes frames with forces larger than X kcal/(mol A)\n",
    "# cutoff for the neighbour list for the NFF\n",
    "nbrlist_cutoff = 5.0"
   ]
  },
  {
   "cell_type": "markdown",
   "id": "2ff5998c-4f2f-4e5f-a918-fb47cf485118",
   "metadata": {},
   "source": [
    "## Parse Files"
   ]
  },
  {
   "cell_type": "code",
   "execution_count": null,
   "id": "41cef3b9",
   "metadata": {},
   "outputs": [],
   "source": [
    "Parser = SharcTrajectoryParser(\"TrainingSet_4000_CH2NH2+.dat\")\n",
    "results = Parser.parse()"
   ]
  },
  {
   "cell_type": "code",
   "execution_count": null,
   "id": "de807eae",
   "metadata": {},
   "outputs": [],
   "source": [
    "Parser.header_data"
   ]
  },
  {
   "cell_type": "code",
   "execution_count": null,
   "id": "94bb3c8b",
   "metadata": {
    "scrolled": true
   },
   "outputs": [],
   "source": [
    "# concatenate the dictionaries in the correct way\n",
    "props = nff_data.concatenate_dict(*results)\n",
    "\n",
    "# Make sure to have the correct data types\n",
    "for key in props.keys():\n",
    "    if (key == 'nxyz' \n",
    "        or key.startswith(\"energy\")\n",
    "        or key.startswith(\"NAC\")):\n",
    "        props[key] = torch.FloatTensor(props[key])"
   ]
  },
  {
   "cell_type": "code",
   "execution_count": null,
   "id": "699cd550",
   "metadata": {},
   "outputs": [],
   "source": [
    "# Convert the dictionaries to a Torch dataset\n",
    "dataset = nff_data.Dataset(props.copy())"
   ]
  },
  {
   "cell_type": "code",
   "execution_count": null,
   "id": "9c9fa4ff",
   "metadata": {},
   "outputs": [],
   "source": [
    "# Check which keys are in the dataset\n",
    "dataset.props.keys()"
   ]
  },
  {
   "cell_type": "markdown",
   "id": "70f19ad7-5c9b-4b33-93e3-bc1d8a7beaa5",
   "metadata": {},
   "source": [
    "## Analysis of the dataset (in this case there should be no outliers)"
   ]
  },
  {
   "cell_type": "code",
   "execution_count": null,
   "id": "50c62152-a31e-4d07-ba81-e6abd82f06d6",
   "metadata": {},
   "outputs": [],
   "source": [
    "#######################################\n",
    "# determine outliers\n",
    "energies = dataset.props['energy_0'].numpy().reshape(-1)\n",
    "print(\"Total number of data points: {}\".format(energies.shape[0]))\n",
    "\n",
    "non_outliers = energies <= energy_cutoff\n",
    "# now filtering the forces\n",
    "for key in ['energy_0_grad', 'energy_1_grad', 'energy_2_grad']:\n",
    "    forces = dataset.props[key].numpy().reshape(-1, Parser.header_data['natom'], 3)\n",
    "    non_outliers = np.logical_and(non_outliers, np.all(np.all(np.abs(forces) <= force_cutoff, axis=-1), axis=-1))\n",
    "\n",
    "energies = energies[non_outliers]\n",
    "print(\"Number of points w/o outloiers: {}\".format(energies.shape[0]))"
   ]
  },
  {
   "cell_type": "code",
   "execution_count": null,
   "id": "6e13ff9d-63fc-4627-a6a7-77ce0826bd69",
   "metadata": {},
   "outputs": [],
   "source": [
    "# Remove energy outliers from the dataset\n",
    "for key in props.keys():\n",
    "    props[key] = np.delete(props[key] , ~non_outliers, axis=0).tolist()\n",
    "\n",
    "# check whether it worked\n",
    "print(\"Number of data points before removal: {}\".format(len(dataset)))\n",
    "dataset_cleaned = nff_data.Dataset(props.copy())\n",
    "print(\"Number of data points after removal: {}\".format(len(dataset_cleaned)))\n",
    "\n",
    "# Make sure to have the correct data types\n",
    "for key in props.keys():\n",
    "    if (key == 'nxyz' \n",
    "        or key.startswith(\"energy\")\n",
    "        or key.startswith(\"NAC\")\n",
    "        or key.startswith(\"force\")):\n",
    "        props[key] = torch.FloatTensor(props[key])"
   ]
  },
  {
   "cell_type": "code",
   "execution_count": null,
   "id": "26932082",
   "metadata": {},
   "outputs": [],
   "source": [
    "# set the size of the plot, the axis labels and thickness are adjusted for this size\n",
    "plt.rcParams[\"figure.figsize\"] = [7,5]\n",
    "\n",
    "# create the single plot\n",
    "fig, ax = plt.subplots(1, sharey=True, sharex=True)\n",
    "\n",
    "colors = ['#00429d', '#6792c0', '#fdd3cf']\n",
    "en_keys = ['energy_0', 'energy_1', 'energy_2']\n",
    "grad_keys = ['energy_0_grad', 'energy_1_grad', 'energy_2_grad']\n",
    "\n",
    "# plot the current energy dataset\n",
    "for color, en_key in zip(colors, en_keys):\n",
    "    energy = dataset_cleaned.props[en_key].numpy().reshape(-1)\n",
    "    ax.hist(energy - energies.min(), bins=100, range=[0, 475], \n",
    "            density=False, color=color, label=en_key)\n",
    "\n",
    "#######################################\n",
    "\n",
    "# Make the plot pretty\n",
    "ax.spines['bottom'].set_linewidth(3)\n",
    "ax.spines['top'].set_linewidth(3)\n",
    "ax.spines['left'].set_linewidth(3)\n",
    "ax.spines['right'].set_linewidth(3)\n",
    "\n",
    "# increase tick size and make them point inwards\n",
    "ax.tick_params(axis='y',length=6,width=3,labelsize=25, pad=10, direction='in')\n",
    "ax.tick_params(axis='x',length=6,width=3,labelsize=25, pad=10, direction='in')\n",
    "\n",
    "ax.set_ylabel(r'Count', fontsize=30)\n",
    "ax.set_xlabel(r'$E - E_\\mathrm{min}$ / kcal mol$^{-1}$', fontsize=30)\n",
    "ax.legend(frameon=False, fontsize=20)\n",
    "\n",
    "plt.tight_layout()\n",
    "\n",
    "plt.show()"
   ]
  },
  {
   "cell_type": "code",
   "execution_count": null,
   "id": "4244b530-4a69-4ab0-9b40-e2bdf45bcf35",
   "metadata": {},
   "outputs": [],
   "source": [
    "# create the single plot\n",
    "fig, ax = plt.subplots(1, sharey=True, sharex=True)\n",
    "\n",
    "#######################################\n",
    "# plot the current energy dataset\n",
    "for color, key in zip(colors, grad_keys):\n",
    "    forces = torch.cat(dataset_cleaned.props[key]).numpy().reshape(-1)\n",
    "    ax.hist(forces, bins=100, range=[-1200, 1200], density=False, \n",
    "            color=color, label=key)\n",
    "\n",
    "#######################################\n",
    "\n",
    "# Make the plot pretty\n",
    "ax.spines['bottom'].set_linewidth(3)\n",
    "ax.spines['top'].set_linewidth(3)\n",
    "ax.spines['left'].set_linewidth(3)\n",
    "ax.spines['right'].set_linewidth(3)\n",
    "\n",
    "# increase tick size and make them point inwards\n",
    "ax.tick_params(axis='y',length=6,width=3,labelsize=25, pad=10, direction='in')\n",
    "ax.tick_params(axis='x',length=6,width=3,labelsize=25, pad=10, direction='in')\n",
    "\n",
    "ax.set_ylabel(r'Count', fontsize=30)\n",
    "ax.set_xlabel(r'$F_i$ / kcal mol$^{-1}$ \\AA$^{-1}$', fontsize=30)\n",
    "ax.legend(frameon=False, fontsize=15)\n",
    "\n",
    "plt.tight_layout()\n",
    "\n",
    "plt.show()"
   ]
  },
  {
   "cell_type": "code",
   "execution_count": null,
   "id": "3eda478a-4acb-4d50-a8e9-5ddf192af08f",
   "metadata": {},
   "outputs": [],
   "source": [
    "# add neighbour list, for PaiNN we need a directed list\n",
    "dataset_cleaned.generate_neighbor_list(cutoff=nbrlist_cutoff, undirected=False)\n",
    "print(\"neighborlist generated\")\n",
    "dataset_cleaned.props.keys()"
   ]
  },
  {
   "cell_type": "code",
   "execution_count": null,
   "id": "c536550b-d51a-48fb-a3ff-492e54847808",
   "metadata": {},
   "outputs": [],
   "source": [
    "# Last overview of the dataset\n",
    "for key in en_keys:\n",
    "    print(\"-------------------------------------------------------\")\n",
    "    print(key)\n",
    "    print(f\"Energy minimum: {np.array(dataset_cleaned.props[key]).min():4.2f} kcal /mol\")\n",
    "    print(f\"Energy maximum: {np.array(dataset_cleaned.props[key]).max():4.2f} kcal /mol\")\n",
    "    print(f\"Energy mean: {np.array(dataset_cleaned.props[key]).mean():4.2f} kcal /mol\")\n"
   ]
  },
  {
   "cell_type": "code",
   "execution_count": null,
   "id": "7768f891-b8a9-423d-85d0-9a170dc2cbb2",
   "metadata": {},
   "outputs": [],
   "source": [
    "# split the datatset\n",
    "train, val = train_test_split(dataset_cleaned, test_size=0.15, random_state=1234)\n",
    "\n",
    "# save the dataset\n",
    "props = nff_data.concatenate_dict(*train)\n",
    "train_set = nff_data.Dataset(props)\n",
    "train_set.save('train.pth.tar')\n",
    "\n",
    "props = nff_data.concatenate_dict(*val)\n",
    "val_set = nff_data.Dataset(props)\n",
    "val_set.save('val.pth.tar')"
   ]
  },
  {
   "cell_type": "code",
   "execution_count": null,
   "id": "9a2c6658-dffa-499f-a8b2-da3a7f8fb9d9",
   "metadata": {},
   "outputs": [],
   "source": []
  },
  {
   "cell_type": "code",
   "execution_count": null,
   "id": "ce2e377b-a73c-46be-bdca-f5d86120676c",
   "metadata": {},
   "outputs": [],
   "source": []
  },
  {
   "cell_type": "markdown",
   "id": "d658a087-7cb1-45ec-965e-b257829c5b0e",
   "metadata": {},
   "source": [
    "# Redo everything for test"
   ]
  },
  {
   "cell_type": "code",
   "execution_count": null,
   "id": "1d9ae70d",
   "metadata": {},
   "outputs": [],
   "source": [
    "Parser = SharcTrajectoryParser(\"TestSet_770_CH2NH2+.dat\")\n",
    "results = Parser.parse()"
   ]
  },
  {
   "cell_type": "code",
   "execution_count": null,
   "id": "a13e77df",
   "metadata": {},
   "outputs": [],
   "source": [
    "# concatenate the dictionaries in the correct way\n",
    "props = nff_data.concatenate_dict(*results)\n",
    "\n",
    "# Make sure to have the correct data types\n",
    "for key in props.keys():\n",
    "    if (key == 'nxyz' \n",
    "        or key.startswith(\"energy\")\n",
    "        or key.startswith(\"NAC\")):\n",
    "        props[key] = torch.FloatTensor(props[key])\n",
    "\n",
    "dataset = nff_data.Dataset(props.copy())\n",
    "\n",
    "#######################################\n",
    "# determine outliers\n",
    "energies = dataset.props['energy_0'].numpy().reshape(-1)\n",
    "print(\"Total number of data points: {}\".format(energies.shape[0]))\n",
    "\n",
    "non_outliers = energies <= energy_cutoff\n",
    "# now filtering the forces\n",
    "for key in ['energy_0_grad', 'energy_1_grad', 'energy_2_grad']:\n",
    "    forces = dataset.props[key].numpy().reshape(-1, Parser.header_data['natom'], 3)\n",
    "    non_outliers = np.logical_and(non_outliers, np.all(np.all(np.abs(forces) <= force_cutoff, axis=-1), axis=-1))\n",
    "\n",
    "energies = energies[non_outliers]\n",
    "print(\"Number of points w/o outloiers: {}\".format(energies.shape[0]))\n",
    "\n",
    "# Remove energy outliers from the dataset\n",
    "for key in props.keys():\n",
    "    props[key] = np.delete(props[key] , ~non_outliers, axis=0).tolist()\n",
    "\n",
    "# check whether it worked\n",
    "print(\"Number of data points before removal: {}\".format(len(dataset)))\n",
    "dataset_cleaned = nff_data.Dataset(props.copy())\n",
    "print(\"Number of data points after removal: {}\".format(len(dataset_cleaned)))\n",
    "\n",
    "# Make sure to have the correct data types\n",
    "for key in props.keys():\n",
    "    if (key == 'nxyz' \n",
    "        or key.startswith(\"energy\")\n",
    "        or key.startswith(\"NAC\")\n",
    "        or key.startswith(\"force\")):\n",
    "        props[key] = torch.FloatTensor(props[key])\n",
    "\n",
    "# add neighbor list\n",
    "dataset_cleaned.generate_neighbor_list(cutoff=nbrlist_cutoff, undirected=False)\n",
    "\n",
    "# Last overview of the dataset\n",
    "for key in en_keys:\n",
    "    print(\"-------------------------------------------------------\")\n",
    "    print(key)\n",
    "    print(f\"Energy minimum: {np.array(dataset_cleaned.props[key]).min():4.2f} kcal /mol\")\n",
    "    print(f\"Energy maximum: {np.array(dataset_cleaned.props[key]).max():4.2f} kcal /mol\")\n",
    "    print(f\"Energy mean: {np.array(dataset_cleaned.props[key]).mean():4.2f} kcal /mol\")\n",
    "\n",
    "# save the dataset\n",
    "dataset_cleaned.save('test.pth.tar')"
   ]
  },
  {
   "cell_type": "code",
   "execution_count": null,
   "id": "2cc683d8",
   "metadata": {},
   "outputs": [],
   "source": []
  },
  {
   "cell_type": "code",
   "execution_count": null,
   "id": "5092a40f-0c6c-4c37-8621-d8b61b94ed31",
   "metadata": {},
   "outputs": [],
   "source": []
  },
  {
   "cell_type": "code",
   "execution_count": null,
   "id": "6cf1abf3-7a67-4a0c-8f3e-197427f05495",
   "metadata": {},
   "outputs": [],
   "source": []
  },
  {
   "cell_type": "code",
   "execution_count": null,
   "id": "8285eca0-5726-466f-81d9-5894c2c3ed54",
   "metadata": {},
   "outputs": [],
   "source": []
  }
 ],
 "metadata": {
  "kernelspec": {
   "display_name": "Python 3 (ipykernel)",
   "language": "python",
   "name": "python3"
  },
  "language_info": {
   "codemirror_mode": {
    "name": "ipython",
    "version": 3
   },
   "file_extension": ".py",
   "mimetype": "text/x-python",
   "name": "python",
   "nbconvert_exporter": "python",
   "pygments_lexer": "ipython3",
   "version": "3.12.7"
  }
 },
 "nbformat": 4,
 "nbformat_minor": 5
}
