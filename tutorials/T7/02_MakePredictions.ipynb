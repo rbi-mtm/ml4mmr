{
 "cells": [
  {
   "cell_type": "code",
   "execution_count": null,
   "id": "48e8c643-0f9b-439a-adc6-6b546169c8a3",
   "metadata": {},
   "outputs": [],
   "source": [
    "%%bash\n",
    "# Patch aseinterface.py to use GPU\n",
    "\n",
    "if ! grep -q \".cpu()\" /opt/conda/envs/T7/lib/python3.10/site-packages/spainn/interface/aseinterface.py\n",
    "then \n",
    "   sudo sed -i 's/.detach()/.cpu().detach()/g' /opt/conda/envs/T7/lib/python3.10/site-packages/spainn/interface/aseinterface.py\n",
    "fi"
   ]
  },
  {
   "cell_type": "markdown",
   "id": "e0c7b214-dfd2-4c1d-9801-0cfcbde8f8e3",
   "metadata": {},
   "source": [
    "# 🧠 Notebook 2: Loading Pretrained ML Models — SchNet and PaiNN\n",
    "## Making predictions for all geometries on the 2D grid\n",
    "\n",
    "In this notebook, we load two pretrained machine learning models that have been trained to predict **multiple adiabatic potential energy surfaces** and **non-adiabatic couplings** for $\\mathrm{CH_2NH_2^+}$. These models are based on two state-of-the-art neural network architectures: **SchNet** and **PaiNN**.\n",
    "\n",
    "### 🔷 SchNet\n",
    "\n",
    "**SchNet** is one of the earliest deep learning architectures tailored for atomistic systems. It uses continuous-filter convolutional layers to model interactions between atoms based on their distances, making it:\n",
    "\n",
    "- **Invariant to rotations and translations**,\n",
    "- **Suitable for scalar properties** like energies and forces,\n",
    "- Trained directly on atomic positions and nuclear charges.\n",
    "\n",
    "However, SchNet does **not** explicitly encode directional (vectorial) information, which can be a limitation when learning vector-valued quantities like **non-adiabatic couplings**.\n",
    "\n",
    "### 🔷 PaiNN\n",
    "\n",
    "**PaiNN** (Polarizable Atom Interaction Neural Network) builds on the SchNet paradigm but **adds equivariant features**: it includes both scalar and vector features and uses operations that are **equivariant under 3D rotations**. This makes PaiNN especially well-suited for:\n",
    "\n",
    "- Predicting **vector-valued properties** (e.g., dipole moments, NACs),\n",
    "- Preserving rotational symmetry while still encoding orientation-dependent interactions.\n",
    "\n",
    "In other words: PaiNN knows how to “feel” directionality, while SchNet treats the system more like a set of interatomic distances.\n",
    "\n",
    "---\n",
    "\n",
    "### 🧰 What We’ll Do in This Notebook\n",
    "\n",
    "- Load the pretrained SchNet and PaiNN models,\n",
    "- Apply them to a set of molecular geometries,\n",
    "- Extract predicted **energies** and **non-adiabatic couplings** for the lowest few singlet states.\n",
    "\n",
    "The models were trained on the 4000 MRCI data points published in: Chem. Sci., 2019, 10, 8100, DOI: [10.1039/c9sc01742a](https:doi.org/10.1039/c9sc01742a)\n",
    "\n",
    "This will allow us to compare how both models represent the electronic structure of $\\mathrm{CH_2NH_2^+}$, and explore where their predictions agree—and where they might differ.\n"
   ]
  },
  {
   "cell_type": "code",
   "execution_count": null,
   "id": "74253284-6760-47d0-8508-b02e8d0c1bef",
   "metadata": {},
   "outputs": [],
   "source": [
    "from ase.db import connect\n",
    "from spainn.interface import NacCalculator\n",
    "from schnetpack.transform import MatScipyNeighborList\n",
    "import ase\n",
    "import numpy as np\n",
    "from tqdm import tqdm"
   ]
  },
  {
   "cell_type": "markdown",
   "id": "1ef9ab00-1fd2-4adc-aa21-3ad215fbffd5",
   "metadata": {},
   "source": [
    "### 🔧 SpaiNN: Machine-Learned Excited-State Dynamics with SHARC\n",
    "\n",
    "In this notebook, we use **SpaiNN**, a specialized interface that adapts **PaiNN** models for use in nonadiabatic dynamics simulations. SpaiNN, like the SchNarc interface for SchNet models, is designed to bridge **machine learning models** with **excited-state dynamics tools**.\n",
    "\n",
    "The core functionality of SpaiNN is to provide an **ASE-style calculator** that:\n",
    "\n",
    "- Loads models trained with **schnetpack-style** infrastructure,\n",
    "- Converts predictions (energies, forces, and non-adiabatic couplings) into standard **ASE `Atoms` properties**,\n",
    "- Makes it possible to integrate ML-based predictions seamlessly into molecular dynamics workflows.\n",
    "\n",
    "This setup enables full compatibility with ASE-based tools and, importantly, with **PySHARC**—the new Python-based interface for the **SHARC** (Surface Hopping including ARbitrary Couplings) dynamics engine.\n",
    "\n",
    "Unlike the older SHARC versions, **PySHARC** avoids file-based communication wherever possible. This makes it especially suitable for coupling with **ML models**, where predictions are computed rapidly and do not rely on disk I/O. The SpaiNN interface is thus a key component for running **efficient, on-the-fly nonadiabatic dynamics** powered entirely by ML potentials.\n",
    "\n",
    "In this notebook, we focus on **loading a pretrained SpaiNN model** and demonstrate how it can be used to make predictions in a form directly usable by ASE and PySHARC.\n",
    "\n",
    "---"
   ]
  },
  {
   "cell_type": "markdown",
   "id": "2f32168c-dd6c-4368-ba86-c91b014518ec",
   "metadata": {},
   "source": [
    "### Predictions for the PaiNN model"
   ]
  },
  {
   "cell_type": "code",
   "execution_count": null,
   "id": "f3eecad1-97e8-4ce5-85ac-29d1f975b424",
   "metadata": {},
   "outputs": [],
   "source": [
    "calc = NacCalculator(model_file=\"Painn_model/best_model\", neighbor_list=MatScipyNeighborList(cutoff=10.0), device=\"cuda\")\n",
    "atom = ase.Atoms(symbols=\"CNHHHH\")\n",
    "atom.calc = calc"
   ]
  },
  {
   "cell_type": "code",
   "execution_count": null,
   "id": "b6006dbb-e3ef-4489-b2e0-1ce0eaaeeaf2",
   "metadata": {},
   "outputs": [],
   "source": [
    "db = connect(\"grid_configuration.db\")\n",
    "pred_energies = np.zeros(shape=(9191, 3))\n",
    "pred_nacs     = np.zeros(shape=(9191, 3))"
   ]
  },
  {
   "cell_type": "code",
   "execution_count": null,
   "id": "f12e1dfa-6f72-49bc-b695-61c653396b2e",
   "metadata": {},
   "outputs": [],
   "source": [
    "for idx in tqdm(range(len(db))):\n",
    "    atom.set_positions(db.get(idx+1).positions)\n",
    "    # NOTE: forces and nacs have the shape (Natoms, Nstates, xyz) -> here (6, 3, 3)\n",
    "    props = atom.get_properties(['energy', 'smooth_nacs'])\n",
    "    pred_energies[idx] = props['energy']\n",
    "    pred_nacs[idx] = np.sum(np.linalg.norm(props['smooth_nacs'], axis=2), axis=0)"
   ]
  },
  {
   "cell_type": "code",
   "execution_count": null,
   "id": "24b12ab9-c4ab-4890-99ad-5418561b0b2f",
   "metadata": {},
   "outputs": [],
   "source": [
    "# saving the predictions for later analysis\n",
    "np.savez(\"Predictions_Painn.npz\", energy = pred_energies, nacs = pred_nacs)"
   ]
  },
  {
   "cell_type": "markdown",
   "id": "0e41f038-e620-4c8d-a50b-f8e5733fa1ec",
   "metadata": {},
   "source": [
    "## Predictions for the SchNet model"
   ]
  },
  {
   "cell_type": "code",
   "execution_count": null,
   "id": "36af55e1-bff2-4f84-b7b1-25bc8ef7da20",
   "metadata": {},
   "outputs": [],
   "source": [
    "calc = NacCalculator(model_file=\"Schnet_model/best_model\", neighbor_list=MatScipyNeighborList(cutoff=10.0), device=\"cuda\")\n",
    "atom = ase.Atoms(symbols=\"CNHHHH\")\n",
    "atom.calc = calc"
   ]
  },
  {
   "cell_type": "code",
   "execution_count": null,
   "id": "824df070-386e-4549-adb9-c06422281109",
   "metadata": {},
   "outputs": [],
   "source": [
    "db = connect(\"grid_configuration.db\")\n",
    "pred_energies = np.zeros(shape=(9191, 3))\n",
    "pred_nacs     = np.zeros(shape=(9191, 3))"
   ]
  },
  {
   "cell_type": "code",
   "execution_count": null,
   "id": "80438a18-8159-4ab5-9a74-ff1d0898f8a8",
   "metadata": {},
   "outputs": [],
   "source": [
    "for idx in tqdm(range(len(db))):\n",
    "    atom.set_positions(db.get(idx+1).positions)\n",
    "    # NOTE: forces and nacs have the shape (Natoms, Nstates, xyz) -> here (6, 3, 3)\n",
    "    props = atom.get_properties(['energy', 'smooth_nacs'])\n",
    "    pred_energies[idx] = props['energy']\n",
    "    pred_nacs[idx] = np.sum(np.linalg.norm(props['smooth_nacs'], axis=2), axis=0)"
   ]
  },
  {
   "cell_type": "code",
   "execution_count": null,
   "id": "cce9f79c-0b66-42b5-9d17-9310ca410742",
   "metadata": {},
   "outputs": [],
   "source": [
    "# saving the predictions for later analysis\n",
    "np.savez(\"Predictions_Schnet.npz\", energy = pred_energies, nacs = pred_nacs)"
   ]
  }
 ],
 "metadata": {
  "kernelspec": {
   "display_name": "T7",
   "language": "python",
   "name": "t7"
  },
  "language_info": {
   "codemirror_mode": {
    "name": "ipython",
    "version": 3
   },
   "file_extension": ".py",
   "mimetype": "text/x-python",
   "name": "python",
   "nbconvert_exporter": "python",
   "pygments_lexer": "ipython3",
   "version": "3.10.18"
  }
 },
 "nbformat": 4,
 "nbformat_minor": 5
}
