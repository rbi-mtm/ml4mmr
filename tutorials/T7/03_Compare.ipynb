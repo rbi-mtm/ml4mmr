{
 "cells": [
  {
   "cell_type": "markdown",
   "id": "31e6a539-052a-4402-84cb-c1e14dcb56c4",
   "metadata": {},
   "source": [
    "# Plot and compare QM and ML data"
   ]
  },
  {
   "cell_type": "markdown",
   "id": "f51c2fe0-9c05-4c48-bee4-b40c6fe382b2",
   "metadata": {},
   "source": [
    "### Imports and Constants"
   ]
  },
  {
   "cell_type": "code",
   "execution_count": null,
   "id": "7b391d10-c1b5-460a-8d95-f26cdae1b481",
   "metadata": {},
   "outputs": [],
   "source": [
    "import ase\n",
    "from ase.db import connect\n",
    "import nglview\n",
    "import numpy as np\n",
    "import matplotlib.pyplot as plt\n",
    "from matplotlib import cm\n",
    "from mpl_toolkits.mplot3d import Axes3D\n",
    "from mpl_toolkits.axes_grid1 import ImageGrid\n",
    "\n",
    "from spainn.interface import NacCalculator\n",
    "from schnetpack.transform import MatScipyNeighborList\n",
    "\n",
    "from tqdm import tqdm\n",
    "\n",
    "from sklearn.metrics import r2_score\n",
    "import scipy"
   ]
  },
  {
   "cell_type": "code",
   "execution_count": null,
   "id": "03d25920-b651-46d4-9b2e-9e5469711bba",
   "metadata": {},
   "outputs": [],
   "source": [
    "BOHR_TO_ANGSTROM = 0.529177249\n",
    "HARTREE_TO_meV = 27.2114 * 1e3"
   ]
  },
  {
   "cell_type": "markdown",
   "id": "42029e2b-ed57-4da9-a35b-513eb182118d",
   "metadata": {},
   "source": [
    "## Comparing the angle-bond length grid ML vs. ML vs. QM"
   ]
  },
  {
   "cell_type": "code",
   "execution_count": null,
   "id": "817d5a37-aad5-4165-bfcf-838382dbc2d4",
   "metadata": {},
   "outputs": [],
   "source": [
    "bond_values = np.linspace(2.4321, 4.4321, 101) * BOHR_TO_ANGSTROM\n",
    "angle_values = np.linspace(0, 90, 91)\n",
    "X, Y = np.meshgrid(angle_values, bond_values)"
   ]
  },
  {
   "cell_type": "code",
   "execution_count": null,
   "id": "679fc90c-1d17-42b3-b8e2-83c245a95644",
   "metadata": {},
   "outputs": [],
   "source": [
    "preds_painn = np.load(\"Predictions_Painn.npz\")\n",
    "preds_schnet = np.load(\"Predictions_Schnet.npz\")\n",
    "targets     = np.load(\"groundtruth_grid.npz\")\n",
    "mask = targets['energy'][:,:,0] < -1 # geometries where the SCF did not converge"
   ]
  },
  {
   "cell_type": "code",
   "execution_count": null,
   "id": "f697fece-16cf-4fa7-a187-16d84a8422ab",
   "metadata": {},
   "outputs": [],
   "source": [
    "fig, axs = plt.subplots(1, 3, subplot_kw={\"projection\": \"3d\"},\n",
    "                        figsize=(15, 6), layout='constrained')\n",
    "\n",
    "for state in range(3):\n",
    "    Z = preds_painn['energy'][:, state]\n",
    "    surf = axs[0].plot_trisurf(X.flatten(), Y.flatten(), Z.flatten(), cmap=cm.coolwarm,\n",
    "                           linewidth=0, antialiased=False)\n",
    "\n",
    "    Z = preds_schnet['energy'][:, state]\n",
    "    surf = axs[1].plot_trisurf(X.flatten(), Y.flatten(), Z.flatten(), cmap=cm.coolwarm,\n",
    "                           linewidth=0, antialiased=False)\n",
    "\n",
    "    Z = targets['energy'][:, :, state]\n",
    "    surf = axs[2].plot_trisurf(X[mask].flatten(), Y[mask].flatten(), Z[mask].flatten(), cmap=cm.coolwarm,\n",
    "                           linewidth=0, antialiased=False)\n",
    "\n",
    "axs[0].set_title(\"Painn\")\n",
    "axs[1].set_title(\"Schnet\")\n",
    "axs[2].set_title(\"QM\")\n",
    "\n",
    "for ax in axs:\n",
    "    ax.set_ylabel(\"C-N bond length [°]\")\n",
    "    ax.set_xlabel(\"C-N rotation [Å]\")\n",
    "    ax.set_zlabel(\"Energy / Ha\")\n",
    "\n",
    "plt.show()"
   ]
  },
  {
   "cell_type": "markdown",
   "id": "ab4846fd-da64-4e59-be5c-87b3f4e14e8f",
   "metadata": {},
   "source": [
    "## Zooming in on the interaction between the 2 lowest states\n",
    "\n",
    "\n",
    "### Energies\n",
    "Visualizing the enrergy gap between the ground and first excited state"
   ]
  },
  {
   "cell_type": "code",
   "execution_count": null,
   "id": "6f6e3bbf-a786-4255-928c-4a888aea24a3",
   "metadata": {},
   "outputs": [],
   "source": [
    "fig, axs = plt.subplots(1, 3, layout=\"constrained\", \n",
    "                        sharex=True, sharey=True,\n",
    "                        figsize=(10, 5))\n",
    "\n",
    "levels = [i*0.05 for i in range(8)]\n",
    "\n",
    "# painn\n",
    "axs[0].contourf(X, Y, (preds_painn['energy'][:,1] - preds_painn['energy'][:,0]).reshape(101, 91), \n",
    "                        cmap='Blues', \n",
    "                       levels=levels)\n",
    "axs[0].set_title('PaiNN', fontsize=20)\n",
    "\n",
    "# schnet\n",
    "axs[1].contourf(X, Y, (preds_schnet['energy'][:,1] - preds_schnet['energy'][:,0]).reshape(101, 91), \n",
    "                        cmap='Blues', \n",
    "                       levels=levels)\n",
    "axs[1].set_title('SchNet', fontsize=20)\n",
    "\n",
    "# ground truth\n",
    "S0_energy = np.ma.masked_where(~mask, targets['energy'][:,:,0])\n",
    "S1_energy = np.ma.masked_where(~mask, targets['energy'][:,:,1])\n",
    "cont3 = axs[2].contourf(X, Y, (S1_energy - S0_energy).data, \n",
    "                        cmap='Blues', \n",
    "                        levels=levels)\n",
    "axs[2].set_title('QM', fontsize=20)\n",
    "\n",
    "cbar = fig.colorbar(cont3, ax=axs[2])\n",
    "cbar.set_label(\"S$_1$-S$_0$ / Ha\", fontsize=15)\n",
    "\n",
    "\n",
    "for ax in axs:\n",
    "    ax.set_xlabel(\"C-N rotation [°]\", fontsize=15)\n",
    "\n",
    "axs[0].set_ylabel(\"C-N bond length [Å]\", fontsize=15)\n",
    "\n",
    "plt.show()"
   ]
  },
  {
   "cell_type": "markdown",
   "id": "c23c05df-6aa3-4314-9986-ebf824aa10f8",
   "metadata": {},
   "source": [
    "### NACs\n",
    "Visualizing the nonadiabatic coupling vectors between the ground and first excited state"
   ]
  },
  {
   "cell_type": "code",
   "execution_count": null,
   "id": "2b09ab27-bc5d-4596-9868-60868e4f546b",
   "metadata": {},
   "outputs": [],
   "source": [
    "fig, axs = plt.subplots(1, 3, layout=\"constrained\", \n",
    "                        sharex=True, sharey=True,\n",
    "                        figsize=(10, 5))\n",
    "\n",
    "levels = [i*1.0 for i in range(21)]\n",
    "\n",
    "\n",
    "axs[0].contourf(X, Y, preds_painn['nacs'][:,0].reshape(101, 91), \n",
    "                        cmap='Blues', levels=levels)\n",
    "axs[0].set_title('PaiNN', fontsize=20)\n",
    "\n",
    "\n",
    "axs[1].contourf(X, Y, preds_schnet['nacs'][:,0].reshape(101, 91), \n",
    "                        cmap='Blues', levels=levels)\n",
    "axs[1].set_title('SchNet', fontsize=20)\n",
    "\n",
    "\n",
    "NAC_01 = np.ma.array(targets['nacs'][:,:,0], mask=targets['nacs'][:,:,0] > 1000)\n",
    "\n",
    "cont1 = axs[2].contourf(X, Y, NAC_01, \n",
    "                        cmap='Blues', \n",
    "                        levels=levels)\n",
    "cbar = fig.colorbar(cont1, ax=axs[2])\n",
    "cbar.set_label(\"sum(norm(NAC$_{01}$))\", fontsize=12)\n",
    "axs[2].set_title('QM', fontsize=20)\n",
    "\n",
    "\n",
    "for ax in axs:\n",
    "    ax.set_xlabel(\"C-N rotation [°]\", fontsize=15)\n",
    "\n",
    "axs[0].set_ylabel(\"C-N bond length [Å]\", fontsize=15)\n",
    "\n",
    "plt.show()"
   ]
  },
  {
   "cell_type": "markdown",
   "id": "3d1762bd-2da7-4566-b479-2e08ab67e02b",
   "metadata": {},
   "source": [
    "### Comparing SchNet and PaiNN prediction errors\n",
    "\n",
    "We are computing the absolute deviation between the energy predictions and the ground truth. \n",
    "\n",
    "For the nonadiabatic coupling vectors, we have condensed them into a single number for each geometry by computing the norm over xyz and then the sum over all atoms. This roughly compares the magnitude of the vectors but not their oriation in space. We are then plotting the logarithm of the absolute deviation between these numbers, as the NACs can be quite large."
   ]
  },
  {
   "cell_type": "code",
   "execution_count": null,
   "id": "3f61f4ac-fb4d-45c3-88ce-064a501e9e73",
   "metadata": {},
   "outputs": [],
   "source": [
    "properties = {\n",
    "    \"energy\" : {\n",
    "        \"vmin\" : 0.0,\n",
    "        \"vmax\" : 0.1,\n",
    "        \"name\" : \"Energy\",\n",
    "        \"label\": [\"$_1$\",\"$_2$\",\"$_3$\"],\n",
    "        \"title\": \"Energies\"\n",
    "\t},\n",
    "    \"nacs\" : {\n",
    "        \"vmin\" : -2.0,\n",
    "        \"vmax\" : 2.0,\n",
    "        \"name\" : \"NACV\",\n",
    "        \"label\": [\"$_{01}$\",\"$_{02}$\",\"$_{12}$\"],\n",
    "        \"title\": \"NACs\"\n",
    "\t},\n",
    "}"
   ]
  },
  {
   "cell_type": "markdown",
   "id": "abe4d17e-fdb3-4974-a2c0-aec21906584e",
   "metadata": {},
   "source": [
    "### Energies"
   ]
  },
  {
   "cell_type": "code",
   "execution_count": null,
   "id": "103c4d59-f72e-467c-9c25-b6e38af6e7c5",
   "metadata": {},
   "outputs": [],
   "source": [
    "prop = \"energy\"\n",
    "\n",
    "prop_targ = targets[prop]\n",
    "prop_targ1 = np.ma.masked_where(targets[prop] == -1, prop_targ)\n",
    "prop_targ2 = np.ma.masked_where(targets[prop] == -1, prop_targ)\n",
    "prop_targ1 -= preds_painn[prop].reshape(101, 91, 3)\n",
    "prop_targ2 -= preds_schnet[prop].reshape(101, 91, 3)\n",
    "prop_targ1 = np.abs(prop_targ1)\n",
    "prop_targ2 = np.abs(prop_targ2)\n",
    "double_diff = prop_targ1 - prop_targ2\n",
    "\n",
    "fig, axs = plt.subplots(2, 3, layout=\"constrained\", \n",
    "                        sharex=True, sharey=True,\n",
    "                        figsize=(10, 6))\n",
    "\n",
    "cmap = cm.Reds\n",
    "targ_idx = [0,1,2]\n",
    "\n",
    "for column in range(3):\n",
    "    ax = axs[0, column]\n",
    "    im = ax.imshow(prop_targ1[::-1,:,targ_idx[column]], cmap=cmap, aspect=\"auto\", extent=[0, 90, 1.2870, 2.3453], \n",
    "                   vmin=properties[prop][\"vmin\"], vmax=properties[prop][\"vmax\"])\n",
    "    ax.set_title(\"PaiNN - \"+r\"$\\Delta$\"+properties[prop][\"name\"]+properties[prop][\"label\"][column])\n",
    "\n",
    "    if column==2:\n",
    "        cbar = fig.colorbar(im, ax=ax)\n",
    "\n",
    "    ax = axs[1, column]\n",
    "    im = ax.imshow(prop_targ2[::-1,:,targ_idx[column]], cmap=cmap, aspect=\"auto\", extent=[0, 90, 1.2870, 2.3453], \n",
    "                   vmin=properties[prop][\"vmin\"], vmax=properties[prop][\"vmax\"])\n",
    "    ax.set_title(\"SchNet - \"+r\"$\\Delta$\"+properties[prop][\"name\"]+properties[prop][\"label\"][column])\n",
    "\n",
    "    if column==2:\n",
    "        cbar = fig.colorbar(im, ax=ax)\n",
    "        \n",
    "\n",
    "# ax.cax.colorbar(im)\n",
    "\n",
    "for ax in axs[-1]:\n",
    "    ax.set_xlabel(\"C-N rotation [°]\")\n",
    "for ax in axs[:,0]:\n",
    "    ax.set_ylabel(\"C-N bond length [Å]\")\n",
    "    \n",
    "\n",
    "\n",
    "plt.show()"
   ]
  },
  {
   "cell_type": "markdown",
   "id": "b990a12a-a453-4901-b3c3-e69fe22648da",
   "metadata": {},
   "source": [
    "### NACs"
   ]
  },
  {
   "cell_type": "code",
   "execution_count": null,
   "id": "f6814470-ba40-46f9-b5f2-d044cbe99f5b",
   "metadata": {},
   "outputs": [],
   "source": [
    "prop = \"nacs\"\n",
    "\n",
    "prop_targ = targets[prop]\n",
    "prop_targ1 = np.ma.masked_where(targets[prop] == -1, prop_targ)\n",
    "prop_targ2 = np.ma.masked_where(targets[prop] == -1, prop_targ)\n",
    "prop_targ1 -= preds_painn[prop].reshape(101, 91, 3)\n",
    "prop_targ2 -= preds_schnet[prop].reshape(101, 91, 3)\n",
    "prop_targ1 = np.log10(np.abs(prop_targ1))\n",
    "prop_targ2 = np.log10(np.abs(prop_targ2))\n",
    "double_diff = prop_targ1 - prop_targ2\n",
    "\n",
    "fig, axs = plt.subplots(2, 3, layout=\"constrained\", \n",
    "                        sharex=True, sharey=True,\n",
    "                        figsize=(10, 6))\n",
    "\n",
    "cmap = cm.Reds\n",
    "targ_idx = [0,1,2]\n",
    "\n",
    "for column in range(3):\n",
    "    ax = axs[0, column]\n",
    "    im = ax.imshow(prop_targ1[::-1,:,targ_idx[column]], cmap=cmap, aspect=\"auto\", extent=[0, 90, 1.2870, 2.3453], \n",
    "                   vmin=properties[prop][\"vmin\"], vmax=properties[prop][\"vmax\"])\n",
    "    ax.set_title(\"PaiNN - \"+r\"$\\Delta$\"+properties[prop][\"name\"]+properties[prop][\"label\"][column])\n",
    "\n",
    "    if column==2:\n",
    "        cbar = fig.colorbar(im, ax=ax)\n",
    "\n",
    "    ax = axs[1, column]\n",
    "    im = ax.imshow(prop_targ2[::-1,:,targ_idx[column]], cmap=cmap, aspect=\"auto\", extent=[0, 90, 1.2870, 2.3453], \n",
    "                   vmin=properties[prop][\"vmin\"], vmax=properties[prop][\"vmax\"])\n",
    "    ax.set_title(\"SchNet - \"+r\"$\\Delta$\"+properties[prop][\"name\"]+properties[prop][\"label\"][column])\n",
    "\n",
    "    if column==2:\n",
    "        cbar = fig.colorbar(im, ax=ax)\n",
    "        \n",
    "\n",
    "# ax.cax.colorbar(im)\n",
    "\n",
    "for ax in axs[-1]:\n",
    "    ax.set_xlabel(\"C-N rotation [°]\")\n",
    "for ax in axs[:,0]:\n",
    "    ax.set_ylabel(\"C-N bond length [Å]\")\n",
    "    \n",
    "\n",
    "\n",
    "plt.show()"
   ]
  },
  {
   "cell_type": "markdown",
   "id": "a4f25cb8-9611-4f29-a095-210e66932e3c",
   "metadata": {},
   "source": [
    "## Test statistics\n",
    "\n",
    "As a last comparison we look at the performance of the 2 models on their test sets. In general we expect decent (but not great) performance for energy and forces, and especially for SchNet terrible performance in predicting the nonadiabatic couplings.\n",
    "\n",
    "First we need to compute the actual predictions for the two models"
   ]
  },
  {
   "cell_type": "code",
   "execution_count": null,
   "id": "ecb07eda-ad1e-4ae9-be64-d674f6a79b28",
   "metadata": {},
   "outputs": [],
   "source": [
    "test_indices_painn = np.load(\"Painn_model/train_val_test_indices.npz\")['test_idx']\n",
    "test_indices_schnet = np.load(\"Schnet_model/train_val_test_indices.npz\")['test_idx']\n",
    "n_test = len(test_indices_painn)"
   ]
  },
  {
   "cell_type": "code",
   "execution_count": null,
   "id": "f725200a-c672-4732-a3d9-4aa89cb082ce",
   "metadata": {},
   "outputs": [],
   "source": [
    "db = connect(\"methylenimmonium.db\")"
   ]
  },
  {
   "cell_type": "code",
   "execution_count": null,
   "id": "48359748-15bc-4dce-8eef-998da892e538",
   "metadata": {},
   "outputs": [],
   "source": [
    "# NOTE: forces and nacs have the shape (Natoms, Nstates, xyz) -> here (6, 3, 3)\n",
    "pred_painn = {'E': np.zeros(shape=(n_test, 3)),\n",
    "              'F': np.zeros(shape=(n_test, 6, 3, 3)),\n",
    "              'NAC': np.zeros(shape=(n_test, 6, 3, 3))}\n",
    "pred_schnet = {'E': np.zeros(shape=(n_test, 3)),\n",
    "               'F': np.zeros(shape=(n_test, 6, 3, 3)),\n",
    "               'NAC': np.zeros(shape=(n_test, 6, 3, 3))}"
   ]
  },
  {
   "cell_type": "code",
   "execution_count": null,
   "id": "df8a5113-1075-4235-8b6a-1d6312d2face",
   "metadata": {},
   "outputs": [],
   "source": [
    "targ_painn = {'E': np.zeros(shape=(n_test, 3)),\n",
    "              'F': np.zeros(shape=(n_test, 6, 3, 3)),\n",
    "              'NAC': np.zeros(shape=(n_test, 6, 3, 3))}\n",
    "targ_schnet = {'E': np.zeros(shape=(n_test, 3)),\n",
    "               'F': np.zeros(shape=(n_test, 6, 3, 3)),\n",
    "               'NAC': np.zeros(shape=(n_test, 6, 3, 3))}"
   ]
  },
  {
   "cell_type": "markdown",
   "id": "9b74c12e-cd7e-4137-82b3-712730f3161e",
   "metadata": {},
   "source": [
    "#### Making the predictions and getting the targets from the DB"
   ]
  },
  {
   "cell_type": "code",
   "execution_count": null,
   "id": "7641dd38-2d44-4704-b9ac-749c39723744",
   "metadata": {},
   "outputs": [],
   "source": [
    "calc = NacCalculator(model_file=\"Painn_model/best_model\", neighbor_list=MatScipyNeighborList(cutoff=10.0))\n",
    "atom = ase.Atoms(symbols=\"CNHHHH\")\n",
    "atom.calc = calc\n",
    "for ii, idx in tqdm(enumerate(test_indices_painn)):\n",
    "    row = db.get(int(idx)+1)\n",
    "    atom.set_positions(row.positions)\n",
    "    props = atom.get_properties(['energy', 'smooth_nacs', 'forces'])\n",
    "    pred_painn['E'][ii] = props['energy']\n",
    "    pred_painn['NAC'][ii] = props['smooth_nacs']\n",
    "    pred_painn['F'][ii] = props['forces']\n",
    "\n",
    "    targ_painn['E'][ii] = row.data['energy']\n",
    "    targ_painn['NAC'][ii] = row.data['smooth_nacs']\n",
    "    targ_painn['F'][ii] = row.data['forces']"
   ]
  },
  {
   "cell_type": "code",
   "execution_count": null,
   "id": "eac52ea6-a68c-488c-a3b7-61dd306d5bf2",
   "metadata": {},
   "outputs": [],
   "source": [
    "calc = NacCalculator(model_file=\"Schnet_model/best_model\", neighbor_list=MatScipyNeighborList(cutoff=10.0))\n",
    "atom = ase.Atoms(symbols=\"CNHHHH\")\n",
    "atom.calc = calc\n",
    "for ii, idx in tqdm(enumerate(test_indices_schnet)):\n",
    "    row = db.get(int(idx)+1)\n",
    "    atom.set_positions(row.positions)\n",
    "    props = atom.get_properties(['energy', 'smooth_nacs', 'forces'])\n",
    "    pred_schnet['E'][ii] = props['energy']\n",
    "    pred_schnet['NAC'][ii] = props['smooth_nacs']\n",
    "    pred_schnet['F'][ii] = props['forces']\n",
    "\n",
    "    targ_schnet['E'][ii] = row.data['energy']\n",
    "    targ_schnet['NAC'][ii] = row.data['smooth_nacs']\n",
    "    targ_schnet['F'][ii] = row.data['forces']"
   ]
  },
  {
   "cell_type": "markdown",
   "id": "cc296cb6-3000-48d6-800c-a2aea01fa90a",
   "metadata": {},
   "source": [
    "### Plotting"
   ]
  },
  {
   "cell_type": "code",
   "execution_count": null,
   "id": "37ec2e6f-aa0f-4d9b-ba04-2c48c78d38c2",
   "metadata": {},
   "outputs": [],
   "source": [
    "def make_partity_plot(targ_dict: dict, \n",
    "                      pred_dict: dict):\n",
    "\n",
    "    properties = ['E', 'F', 'NAC']\n",
    "    nac_labels = [\"$_{01}$\",\"$_{02}$\",\"$_{12}$\"]\n",
    "    \n",
    "    labelsize     = 14\n",
    "    titelsize     = labelsize * 1.2\n",
    "    pad           = labelsize / 3\n",
    "    tickwidth     = 3\n",
    "    maj_tick_size = 6\n",
    "    min_tick_size = 3\n",
    "    \n",
    "    units = {\"E\": r\"meV / atom\",\n",
    "             \"F\": r\"meV / Å\",\n",
    "             \"NAC\": r\"meV / Å\"}\n",
    "    \n",
    "    min_max = {\"E\" : np.array([1.e6, -1.e6]),\n",
    "               \"F\": np.array([1.e6, -1.e6]),\n",
    "               \"NAC\": np.array([1.e6, -1.e6])}\n",
    "    \n",
    "    fig, axs = plt.subplots(3, 3, figsize=(10,10), layout=\"constrained\")\n",
    "    for idx, prop in enumerate(properties):\n",
    "        for state in range(3):\n",
    "    \n",
    "            if prop == 'E':\n",
    "                conv_fac = HARTREE_TO_meV\n",
    "                targ_min = targ_dict[prop][:, 0].min()\n",
    "                targ = targ_dict[prop][:, state].flatten() \n",
    "                targ -= targ_min\n",
    "                targ *= conv_fac / targ_dict['F'].shape[1]\n",
    "                pred = pred_dict[prop][:, state].flatten() \n",
    "                pred -= targ_min\n",
    "                pred *= conv_fac / targ_dict['F'].shape[1]\n",
    "            else:\n",
    "                conv_fac = HARTREE_TO_meV / BOHR_TO_ANGSTROM\n",
    "                targ = targ_dict[prop][:, :, state, :].flatten() * conv_fac\n",
    "                pred = pred_dict[prop][:, :, state, :].flatten() * conv_fac\n",
    "    \n",
    "            min_max[prop][0] = min(min_max[prop][0], targ.min(), pred.min())\n",
    "            min_max[prop][1] = max(min_max[prop][1], targ.max(), pred.max())\n",
    "    \n",
    "            # get stats\n",
    "            pearson_r, p = scipy.stats.pearsonr(targ, pred)\n",
    "            R2 = r2_score(targ, pred)\n",
    "            mae = abs(pred-targ).mean()\n",
    "            rmse = np.sqrt(np.power(pred-targ, 2).mean())\n",
    "    \n",
    "            ax = axs[idx, state]\n",
    "            # do plotting\n",
    "            hb = ax.hexbin(targ, pred,\n",
    "                               cmap='Blues',\n",
    "                               gridsize=25,\n",
    "                               mincnt=1,\n",
    "                               bins=\"log\",\n",
    "                               edgecolors=None,\n",
    "                               linewidths=(0.2,),\n",
    "                               xscale=\"linear\",\n",
    "                               yscale=\"linear\",\n",
    "                               )\n",
    "            \n",
    "            ax.text(0.05, 0.9, 'MAE: %.2f' % (mae),\n",
    "                   transform=ax.transAxes, fontsize=labelsize*0.9,\n",
    "                   zorder=10)\n",
    "            ax.text(0.05, 0.8, 'RMSE: %.2f' % (rmse),\n",
    "                   transform=ax.transAxes, fontsize=labelsize*0.9,\n",
    "                   zorder=10)\n",
    "            ax.text(0.6, 0.2, r'$R^2$: %.2f' % (R2),\n",
    "               transform=ax.transAxes, fontsize=labelsize*0.9,\n",
    "               zorder=10)\n",
    "            ax.text(0.6, 0.1, r'$\\rho$: %.2f' % (pearson_r),\n",
    "                   transform=ax.transAxes, fontsize=labelsize*0.9,\n",
    "                   zorder=10)\n",
    "    \n",
    "        for jj,ax in enumerate(axs[idx]):\n",
    "            if idx != 2:\n",
    "                ax.set_xlim(min_max[prop]*1.1)\n",
    "                ax.set_ylim(min_max[prop]*1.1)\n",
    "                #ax.set_aspect('equal')\n",
    "            ax.spines['bottom'].set_linewidth(tickwidth)\n",
    "            ax.spines['top'].set_linewidth(tickwidth)\n",
    "            ax.spines['left'].set_linewidth(tickwidth)\n",
    "            ax.spines['right'].set_linewidth(tickwidth)\n",
    "            ax.tick_params(axis='x', length=maj_tick_size, width=tickwidth,\n",
    "                           labelsize=labelsize, pad=pad,\n",
    "                           direction='in')\n",
    "            if jj >0:\n",
    "                ax.set_yticklabels([])\n",
    "            ax.tick_params(axis='y', length=maj_tick_size, width=tickwidth,\n",
    "                   labelsize=labelsize, pad=pad,\n",
    "                   direction='in')\n",
    "    \n",
    "        # titles\n",
    "        for idx, ax in enumerate(axs[0]):\n",
    "            ax.set_title(\"$E_{S_%i}$\" % idx, fontsize=titelsize, pad=2*pad)\n",
    "        for idx, ax in enumerate(axs[1]):\n",
    "            ax.set_title(r\"$\\partial E_{S_%i} / \\partial \\mathbf{R}$\" % idx, fontsize=titelsize, pad=2*pad)\n",
    "        for idx, ax in enumerate(axs[2]):\n",
    "            ax.set_title(\"NAC\"+nac_labels[idx], fontsize=titelsize, pad=2*pad)\n",
    "    \n",
    "        # axis labels\n",
    "        for idx, ax in enumerate(axs[0]):\n",
    "            ax.set_xlabel(f\"Target [{units['E']}]\", fontsize=labelsize)\n",
    "            if idx==0:\n",
    "                ax.set_ylabel(f\"Prediction [{units['E']}]\", fontsize=labelsize)\n",
    "        for idx, ax in enumerate(axs[1]):\n",
    "            ax.set_xlabel(f\"Target [{units['F']}]\", fontsize=labelsize)\n",
    "            if idx==0:\n",
    "                ax.set_ylabel(f\"Prediction [{units['F']}]\", fontsize=labelsize)\n",
    "        for idx, ax in enumerate(axs[2]):\n",
    "            ax.set_xlabel(f\"Target [{units['NAC']}]\", fontsize=labelsize)\n",
    "            if idx==0:\n",
    "                ax.set_ylabel(f\"Prediction [{units['NAC']}]\", fontsize=labelsize)\n",
    "    \n",
    "    plt.show()"
   ]
  },
  {
   "cell_type": "markdown",
   "id": "3f13eb93-3091-4d27-94a9-ab97e8d47e90",
   "metadata": {},
   "source": [
    "#### SchNet"
   ]
  },
  {
   "cell_type": "code",
   "execution_count": null,
   "id": "f04262a3-a41b-4ee3-8c32-5e38a10f57c1",
   "metadata": {},
   "outputs": [],
   "source": [
    "make_partity_plot(targ_schnet, pred_schnet)"
   ]
  },
  {
   "cell_type": "markdown",
   "id": "614f6779-9677-4147-92e2-d183b4b8352c",
   "metadata": {},
   "source": [
    "#### PaiNN"
   ]
  },
  {
   "cell_type": "code",
   "execution_count": null,
   "id": "7be673e6-6917-4d60-8ba0-caa8f9c24044",
   "metadata": {},
   "outputs": [],
   "source": [
    "make_partity_plot(targ_painn, pred_painn)"
   ]
  },
  {
   "cell_type": "code",
   "execution_count": null,
   "id": "1abc4769-e6cd-4e13-b9be-fb742398811f",
   "metadata": {},
   "outputs": [],
   "source": []
  },
  {
   "cell_type": "code",
   "execution_count": null,
   "id": "fd07ff43-59d0-4fd3-9b0d-f23ec43c47be",
   "metadata": {},
   "outputs": [],
   "source": []
  },
  {
   "cell_type": "code",
   "execution_count": null,
   "id": "3b567d1e-778f-4668-8ed0-9bd935822dc1",
   "metadata": {},
   "outputs": [],
   "source": []
  }
 ],
 "metadata": {
  "kernelspec": {
   "display_name": "Python 3 (ipykernel)",
   "language": "python",
   "name": "python3"
  },
  "language_info": {
   "codemirror_mode": {
    "name": "ipython",
    "version": 3
   },
   "file_extension": ".py",
   "mimetype": "text/x-python",
   "name": "python",
   "nbconvert_exporter": "python",
   "pygments_lexer": "ipython3",
   "version": "3.12.7"
  }
 },
 "nbformat": 4,
 "nbformat_minor": 5
}
