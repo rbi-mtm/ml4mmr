{
 "cells": [
  {
   "cell_type": "markdown",
   "id": "eac18325",
   "metadata": {},
   "source": [
    "# High-Throughput Materials Discovery Tutorial\n",
    "## Finding Novel Garnet Substrates for YIG Spintronics\n",
    "\n",
    "### Tutorial Overview\n",
    "\n",
    "In this tutorial, we will try identify novel garnet substrates suitable for **Yttrium Iron Garnet (YIG)** spintronics applications. YIG is an important material in research for spintronic devices due to its exceptional magnetic properties. However, finding compatible metallic substrates remains a significant challenge. We are looking for a new metallic garnet whose lattice closely matches the YIG lattice constants.\n",
    "\n",
    "### The Challenge\n",
    "\n",
    "The ideal substrate must be:\n",
    "- **Thermodynamically and dynamically stable**, i.e. close to the convex hull and free of imaginary phonon modes  \n",
    "- **Reasonably safe to work with** in terms of elemental composition  \n",
    "- **Lattice-matched** to YIG to optimize epitaxial growth  \n",
    "- **Metallic** or possess a **small band gap**\n",
    "\n",
    "\n",
    "We will construct a computational pipeline that combines:\n",
    "\n",
    "1. Database Mining  \n",
    "   Use the OPTIMADE API to search crystal-structure repositories for garnets. This leverages existing calculations and also allows us to validate the rest of our workflow.\n",
    "\n",
    "2. - Generate new garnet compositions via a combinatorial approach.  \n",
    "   - Relax each candidate using Atomate2 workflows to evaluate thermodynamic stability.  \n",
    "   - For any promising, low-energy structures, evaluate dynamic stability (e.g., phonon calculations).  \n",
    "   - Employ universal machine-learning force fields as a DFT surrogate to accelerate relaxation, given the large unit cell of garnets.  \n",
    "   - Then apply a second set of machine-learning models to predict the band gap.\n",
    "\n",
    "3. Rank all candidates based on thermodynamic stability, lattice matching, and band gap.  \n",
    "\n",
    "While we will not explore hundreds of thousands of candidates we will make sure that the pipeline will automatically scale to this number.  \n",
    "\n",
    "\n",
    "Let's begin by understanding how to access and query materials databases using the OPTIMADE standard."
   ]
  },
  {
   "cell_type": "markdown",
   "id": "ebefc786",
   "metadata": {},
   "source": [
    "There are different ways to access databases throught optimade, directly sending requests to the database providers using e.g. the `requests` library, using pymatgen.ext.optimade, or using the optimade-python-tools package. [These tutorials](https://github.com/Materials-Consortia/optimade-tutorial-exercises) explore all three options.\n",
    "We are going to use the OptimadeClient package.\n"
   ]
  },
  {
   "cell_type": "markdown",
   "id": "47a14eb1",
   "metadata": {},
   "source": [
    "# Introduction to OPTIMADE\n",
    "In materials research, data is scattered across numerous experimental and theoretical databases maintained by different institutions.\n",
    "Example theoretical databases that host inorganic crystal structures are:\n",
    "- Materials Project\n",
    "- Alexandria\n",
    "- AFLOW\n",
    "- OQMD (Open Quantum Materials Database)\n",
    "- NOMAD\n",
    "- And many others\n",
    "\n",
    "OPTIMADE solves the \"database fragmentation\" problem by allowing you to:\n",
    "- Query multiple databases using the same syntax\n",
    "- Retrieve data in a consistent format\n",
    "\n",
    "**What is OPTIMADE?**\n",
    "\n",
    "The [**Open Databases Integration for Materials Design (OPTIMADE)**](https://www.optimade.org/) is a standardized API specification that enables access to materials databases from different providers. Instead of learning different query languages and data formats for each database, OPTIMADE provides a unified interface to search across multiple materials science repositories. Once a workflow is established for one database it can easily be extended to multiple databases such as in [Accelerating the discovery of high-performance nonlinear optical materials using active learning and high-throughput screening](https://arxiv.org/abs/2504.01526).\n",
    "\n",
    "## Key Concepts\n",
    "\n",
    "**Structures**: The primary entries in most OPTIMADE databases, representing crystal structures with properties like:\n",
    "- Chemical composition\n",
    "- Lattice parameters\n",
    "- Atomic positions\n",
    "\n",
    "One weakness at the moment is that other properties such as band gaps usually have database specific names.\n",
    "\n",
    "**Warning: While Optimade provides a common interface the calculation parameters of most databases are not compatible! Even quantities such as space groups might be calculated using different tolerances.**\n",
    "\n"
   ]
  },
  {
   "cell_type": "markdown",
   "id": "38316dfc",
   "metadata": {},
   "source": [
    "The power of OPTIMADE lies in its ability to query multiple databases simultaneously. In principle, we can directly query all available databases with a single command, as shown in the example below:\n",
    "\n",
    "```python\n",
    "from optimade.client import OptimadeClient\n",
    "\n",
    "# Initialize the OPTIMADE client\n",
    "client = OptimadeClient()\n",
    "\n",
    "# Query all databases for structures \n",
    "results = client.get('elements HAS \"Li\" AND nelements=2') #containing Li, with 2 different elements\n",
    "```\n",
    "\n",
    "This approach would systematically search through all 59 million crystal structures hosted by the 27 [OPTIMADE-compliant databases](https://www.optimade.org/providers-dashboard/) and return structures containing Lithium and one other element. The query filters are written in an SQL-like synthax.\n",
    "\n",
    "However, querying all available databases simultaneously comes with practical limitations:\n",
    "\n",
    "- **Time complexity**: A comprehensive search across all databases can take several hours depending on the query complexity\n",
    "- **Rate limiting**: Different databases have varying rate limits and response times\n",
    "- **Network reliability**: Some databases may be temporarily unavailable, affecting the completeness of results\n",
    "\n",
    "For this tutorial, we will limit ourselves to a few of the largest providers with open licenses:\n",
    "\n",
    "- **OQMD**\n",
    "- **Alexandria**\n"
   ]
  },
  {
   "cell_type": "code",
   "execution_count": null,
   "id": "4d0ad96a",
   "metadata": {},
   "outputs": [],
   "source": [
    "import pickle\n",
    "\n",
    "from optimade.adapters import Structure as opt_Structure\n",
    "from optimade.client import OptimadeClient\n",
    "from pymatgen.core import Structure as pmg_Structure\n",
    "from pymatgen.symmetry.analyzer import SpacegroupAnalyzer\n",
    "from pymatviz import count_elements, ptable_heatmap\n",
    "from tqdm import tqdm"
   ]
  },
  {
   "cell_type": "code",
   "execution_count": null,
   "id": "f93438d5",
   "metadata": {},
   "outputs": [],
   "source": [
    "client = OptimadeClient(\n",
    "    base_urls=[\"https://oqmd.org/optimade\", \"https://alexandria.icams.rub.de/pbe\"],\n",
    "    use_async=False,\n",
    "    max_results_per_provider=10,\n",
    ")"
   ]
  },
  {
   "cell_type": "markdown",
   "id": "3e9419a4",
   "metadata": {},
   "source": [
    "We can take a look at the properties that are available for each provider:"
   ]
  },
  {
   "cell_type": "code",
   "execution_count": null,
   "id": "e10cbf50",
   "metadata": {},
   "outputs": [],
   "source": [
    "properties = client.list_properties(\"structures\")\n",
    "print(properties)"
   ]
  },
  {
   "cell_type": "markdown",
   "id": "6bba5214",
   "metadata": {},
   "source": [
    "We can leverage standardized property names—such as chemical_formula_reduced—to query multiple databases for the same criterion while database specific properties start with the provider prefix, e.g. `_alexandria_band_gap`.\n",
    "\n",
    "To start, we can query both OQMD and Alexandria for YIG (Y₃Fe₅O₁₂) by filtering on its reduced formula:"
   ]
  },
  {
   "cell_type": "code",
   "execution_count": null,
   "id": "74ac4f60",
   "metadata": {},
   "outputs": [],
   "source": [
    "yig_query = 'chemical_formula_reduced=\"Y3Fe5O12\"'\n",
    "response_yig = client.get(filter=yig_query)"
   ]
  },
  {
   "cell_type": "code",
   "execution_count": null,
   "id": "c23e7443",
   "metadata": {},
   "outputs": [],
   "source": [
    "print(\n",
    "    response_yig[\"structures\"]['chemical_formula_reduced=\"Y3Fe5O12\"'][\n",
    "        \"https://oqmd.org/optimade\"\n",
    "    ].keys()\n",
    ")"
   ]
  },
  {
   "cell_type": "markdown",
   "id": "5c05f6b6",
   "metadata": {},
   "source": [
    "The response is in the form of a dictionary.\n",
    "The first key is the name of the **endpoint**. The most common endpoint is **structures** that returns a list of structures entries. \n",
    "The next key specifies the query followed by the provider.\n",
    "Under the **meta** key we find some information about the response, e.g. for OQMD:\n",
    "\n",
    "```python\n",
    "'meta': {\n",
    "    'query': {\n",
    "        'representation': '/structures?filter=chemical_formula_reduced=%22Y3Fe5O12%22'\n",
    "    },\n",
    "    'data_returned': 3,       # Found 3 YIG structures\n",
    "    'data_available': 1226781,  # Total structures in OQMD\n",
    "    'more_data_available': False  # All matching results returned\n",
    "}\n",
    "```\n",
    "By default, all fields are returned. If we only want specific fields, we can request them via `response_fields`, for example:\n",
    "\n",
    "```python\n",
    "response = client.get(\n",
    "    yig_query,\n",
    "    response_fields=[\"lattice_vectors\"]\n",
    ")\n",
    "```\n",
    "The client will cache previous query results and you will be able to access them under client.all_results."
   ]
  },
  {
   "cell_type": "markdown",
   "id": "c80364ce",
   "metadata": {},
   "source": [
    "We can filter specifically for a thermodynamically stable Y₃Fe₅O₁₂ structure by requiring oqmd_stability = 0. In this context, “stability” measures the energy above the convex hull and is supported by several DFT databases. However, that not all providers use the same field name—for instance, Alexandria still uses _alexandria_hull_distance instead of stability. You can use client.search_property to discover each provider’s property names across different databases."
   ]
  },
  {
   "cell_type": "code",
   "execution_count": null,
   "id": "eaea571b",
   "metadata": {},
   "outputs": [],
   "source": [
    "yig_query = 'chemical_formula_reduced=\"Y3Fe5O12\" AND _oqmd_stability=0'\n",
    "response_yig = client._get_all(\n",
    "    endpoint=\"structures\", filter=yig_query, base_urls=[\"https://oqmd.org/optimade\"]\n",
    ")"
   ]
  },
  {
   "cell_type": "code",
   "execution_count": null,
   "id": "5fdcf204",
   "metadata": {},
   "outputs": [],
   "source": [
    "yig_structure_attributes = response_yig[\"https://oqmd.org/optimade\"].data[0][\"attributes\"]\n",
    "print(\n",
    "    f'Entry ID: {yig_structure_attributes[\"_oqmd_entry_id\"]} '\n",
    "    f'with ICSD-ID: {yig_structure_attributes[\"_oqmd_icsd_id\"]} '\n",
    "    f'has a distance to the convex hull of {yig_structure_attributes[\"_oqmd_stability\"]} '\n",
    "    f'eV/atom with space group {yig_structure_attributes[\"_oqmd_spacegroup\"]}\\n'\n",
    "    f'and lattice parameters {yig_structure_attributes[\"lattice_vectors\"]}'\n",
    ")"
   ]
  },
  {
   "cell_type": "markdown",
   "id": "e0520f6f",
   "metadata": {},
   "source": [
    "We have found a stable crystal structure of Y₃Fe₅O₁₂, and OQMD also provides a reference ID in the experimental ICSD database. Looking through the query results, we can also see the correct cubic space group Ia-3d (230). As a next step, we will query the two databases for all other garnets with the same general composition A₁₂B₅C₃ and space group Ia-3d (230)."
   ]
  },
  {
   "cell_type": "code",
   "execution_count": null,
   "id": "e3ca9408",
   "metadata": {},
   "outputs": [],
   "source": [
    "garnet_query = (\n",
    "    'chemical_formula_anonymous=\"A12B5C3\" AND '\n",
    "    '(_alexandria_space_group=230 OR _oqmd_spacegroup=\"Ia-3d\")'\n",
    ")\n",
    "response_oqmd = client._get_all(\n",
    "    endpoint=\"structures\", filter=garnet_query, base_urls=[\"https://oqmd.org/optimade\"]\n",
    ")\n",
    "response_alexandria = client._get_all(\n",
    "    endpoint=\"structures\",\n",
    "    filter=garnet_query,\n",
    "    base_urls=[\"https://alexandria.icams.rub.de/pbe\"],\n",
    ")"
   ]
  },
  {
   "cell_type": "markdown",
   "id": "3ef5cc9c",
   "metadata": {},
   "source": [
    "As written in the client response, Alexandria has more entries than our max_results_per_provider setting allows. Outside of a Jupyter notebook, we could use the client.count(filter) method with asynchronous queries to count the results. Since obtaining the full response would take a while, we are providing a pickle of the response that you can load.\n",
    "To work with the response data, we can either reconstruct a pymatgen Structure object by hand:"
   ]
  },
  {
   "cell_type": "code",
   "execution_count": null,
   "id": "8074a666",
   "metadata": {},
   "outputs": [],
   "source": [
    "response_yig_attributes = response_yig[\"https://oqmd.org/optimade\"].data[0][\"attributes\"]\n",
    "yig_structure = pmg_Structure(\n",
    "    lattice=response_yig_attributes[\"lattice_vectors\"],\n",
    "    species=response_yig_attributes[\"species_at_sites\"],\n",
    "    coords=response_yig_attributes[\"cartesian_site_positions\"],\n",
    "    coords_are_cartesian=True,\n",
    ")\n",
    "yig_conventional = SpacegroupAnalyzer(yig_structure).get_conventional_standard_structure()\n",
    "yig_conventional.lattice"
   ]
  },
  {
   "cell_type": "code",
   "execution_count": null,
   "id": "eaa1b16f",
   "metadata": {},
   "outputs": [],
   "source": [
    "# Backup in case there is was a problem with the database\n",
    "yig_conventional = pmg_Structure.from_file(\"../data/YIG_POSCAR\")"
   ]
  },
  {
   "cell_type": "markdown",
   "id": "5c793008",
   "metadata": {},
   "source": [
    "or use the Structure class in optimade to convert the structural information into any other common format, e.g., from ase or pymatgen."
   ]
  },
  {
   "cell_type": "code",
   "execution_count": null,
   "id": "e7243974",
   "metadata": {},
   "outputs": [],
   "source": [
    "response_alexandria = pickle.load(open(\"../data/garnet_alexandria.pickle\", \"rb\"))\n",
    "data = response_alexandria[\"https://alexandria.icams.rub.de/pbe\"].data\n",
    "structures = [opt_Structure(structure).convert(\"pymatgen\") for structure in data]\n",
    "# Extracting energies, band gaps, and hull distances from the Alexandria response\n",
    "energies_alexandria = [\n",
    "    structure[\"attributes\"][\"_alexandria_energy\"] for structure in data\n",
    "]\n",
    "band_gaps_alexandria = [\n",
    "    structure[\"attributes\"][\"_alexandria_band_gap\"] for structure in data\n",
    "]\n",
    "ehull_alexandria = [\n",
    "    structure[\"attributes\"][\"_alexandria_hull_distance\"] for structure in data\n",
    "]"
   ]
  },
  {
   "cell_type": "markdown",
   "id": "88d0e7b6",
   "metadata": {},
   "source": [
    "Pymatviz provides very useful tools to visualize large materials datasets. For example, we can plot the elemental distribution of the garnets using the `ptable_heatmap` function together with the `count_elements` utility.\n",
    "We use `count_mode=\"occurrence\"` to only count each element once per structure."
   ]
  },
  {
   "cell_type": "code",
   "execution_count": null,
   "id": "20830159",
   "metadata": {},
   "outputs": [],
   "source": [
    "compositions = [structure.reduced_formula for structure in structures]\n",
    "element_counts = count_elements(compositions, count_mode=\"occurrence\")\n",
    "fig = ptable_heatmap(element_counts, log=True)"
   ]
  },
  {
   "cell_type": "markdown",
   "id": "d426d783",
   "metadata": {},
   "source": [
    "We can now filter structures by band gap, hull distance, and lattice parameters to identify candidates that meet our criteria. For example, we might start by selecting metallic structures (band gap ≈ 0) with a hull distance below 0.05 eV/atom and lattice constants within 1 Å of our target values. We will use the conventional standard structure to have consistent lattice definition."
   ]
  },
  {
   "cell_type": "code",
   "execution_count": null,
   "id": "51c49550",
   "metadata": {},
   "outputs": [],
   "source": [
    "max_band_gap_criterion = 0.3\n",
    "max_ehull_criterion = 0.05\n",
    "ideal_lattice_constant = yig_conventional.lattice.a\n",
    "filtered_structures = []\n",
    "for structure, energy, band_gap, ehull in tqdm(\n",
    "    zip(structures, energies_alexandria, band_gaps_alexandria, ehull_alexandria),\n",
    "    total=len(structures),\n",
    "):\n",
    "    lattice_a = (\n",
    "        SpacegroupAnalyzer(structure).get_conventional_standard_structure().lattice.a\n",
    "    )\n",
    "    if (\n",
    "        band_gap < max_band_gap_criterion\n",
    "        and ehull < max_ehull_criterion\n",
    "        and abs(lattice_a - ideal_lattice_constant) < 1.0\n",
    "    ):\n",
    "        filtered_structures.append(structure)\n",
    "        filtered_structures[-1].data = {\n",
    "            \"energy\": energy,\n",
    "            \"band_gap\": band_gap,\n",
    "            \"ehull\": ehull,\n",
    "        }"
   ]
  },
  {
   "cell_type": "markdown",
   "id": "588f07b2",
   "metadata": {},
   "source": [
    "Running the filtering for the whole dataset can take a few minutes, so we save the filtered structures to a file."
   ]
  },
  {
   "cell_type": "code",
   "execution_count": null,
   "id": "80181cb6",
   "metadata": {},
   "outputs": [],
   "source": [
    "filtered_structures = pickle.load(open(\"../data/garnet_filtered.pickle\", \"rb\"))"
   ]
  },
  {
   "cell_type": "markdown",
   "id": "3f6dd974",
   "metadata": {},
   "source": [
    "We can now have another look at the filtered structures:"
   ]
  },
  {
   "cell_type": "code",
   "execution_count": null,
   "id": "323fc95c",
   "metadata": {},
   "outputs": [],
   "source": [
    "compositions = [structure.reduced_formula for structure in filtered_structures]\n",
    "element_counts = count_elements(compositions, count_mode=\"occurrence\")\n",
    "ax = ptable_heatmap(element_counts)"
   ]
  },
  {
   "cell_type": "markdown",
   "id": "3064233d",
   "metadata": {},
   "source": [
    "We see that the filtered structures are dominated by A₃B₅N₁₂. In the next tutorial, we will use automated workflows in combination with universal force fields to explore additional A₃B₅N₁₂ structures and evaluate their dynamic stability. In practice, we could use the data we downloaded to fine-tune the universal force field and other machine-learning models before continuing. However, you will learn how to fine-tune a force field in a separate tutorial and lecture, so we will skipt that step here."
   ]
  },
  {
   "cell_type": "markdown",
   "id": "78c00800",
   "metadata": {},
   "source": [
    "## Exercises:\n",
    "- Refine the OPTIMADE query to incorporate as many of our filtering criteria as possible. Also try to exclude any radioactive elements. You can also use the client’s callback feature to implement more advanced filtering logic.\n",
    "- Create a periodic table plot where each element panel is split into three sections representing respectively the A, B and C  in the garnet composition A₃B₅C₁₂."
   ]
  },
  {
   "cell_type": "markdown",
   "id": "106b2b34",
   "metadata": {},
   "source": []
  }
 ],
 "metadata": {
  "kernelspec": {
   "display_name": "fireworks_mp",
   "language": "python",
   "name": "python3"
  },
  "language_info": {
   "codemirror_mode": {
    "name": "ipython",
    "version": 3
   },
   "file_extension": ".py",
   "mimetype": "text/x-python",
   "name": "python",
   "nbconvert_exporter": "python",
   "pygments_lexer": "ipython3",
   "version": "3.11.5"
  }
 },
 "nbformat": 4,
 "nbformat_minor": 5
}
