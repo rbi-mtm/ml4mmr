{
 "cells": [
  {
   "cell_type": "code",
   "execution_count": null,
   "id": "35f56cab",
   "metadata": {},
   "outputs": [],
   "source": [
    "import pickle\n",
    "from itertools import permutations\n",
    "\n",
    "import numpy as np\n",
    "from atomate2.forcefields.flows.phonons import PhononMaker\n",
    "from atomate2.forcefields.jobs import ForceFieldRelaxMaker\n",
    "from fireworks import LaunchPad\n",
    "from jobflow import SETTINGS, Flow, job\n",
    "from jobflow.managers.fireworks import flow_to_workflow\n",
    "from jobflow.managers.local import run_locally\n",
    "from mp_api.client import MPRester\n",
    "from pymatgen.analysis.phase_diagram import PhaseDiagram\n",
    "from pymatgen.core import Composition, Structure\n",
    "from pymatgen.core.periodic_table import Element\n",
    "from pymatgen.entries.compatibility import MaterialsProject2020Compatibility\n",
    "from pymatgen.entries.computed_entries import ComputedEntry\n",
    "from pymatgen.phonon.bandstructure import PhononBandStructureSymmLine\n",
    "from pymatgen.phonon.dos import PhononDos\n",
    "from pymatgen.phonon.plotter import PhononBSPlotter, PhononDosPlotter\n",
    "from pymatgen.symmetry.analyzer import SpacegroupAnalyzer\n",
    "from tqdm import tqdm"
   ]
  },
  {
   "cell_type": "code",
   "execution_count": null,
   "id": "2afa7dd0",
   "metadata": {},
   "outputs": [],
   "source": [
    "\"\"\" Configure MongoDB for atomate2 & FireWorks \"\"\"\n",
    "\n",
    "# The lecturer will tell you the IP address\n",
    "IP_ADDRESS = \"INSERT_IP_HERE\"\n",
    "\n",
    "import os\n",
    "\n",
    "os.environ[\"ATOMATE2_CONFIG_FILE\"] = f\"{os.getcwd()}/atomate2/config/atomate2.yaml\"\n",
    "os.environ[\"JOBFLOW_CONFIG_FILE\"] = f\"{os.getcwd()}/atomate2/config/jobflow.yaml\"\n",
    "\n",
    "!sed -i 's/INSERT_IP_HERE/{IP_ADDRESS}/' my_launchpad.yaml\n",
    "!sed -i 's/INSERT_IP_HERE/{IP_ADDRESS}/' atomate2/config/jobflow.yaml"
   ]
  },
  {
   "cell_type": "markdown",
   "id": "711ebe7f",
   "metadata": {},
   "source": [
    "In this notebook, we will leverage Atomate2 to automate relaxations of all generated garnet structures and to compute the dynamic stability for the most promising candidates."
   ]
  },
  {
   "cell_type": "markdown",
   "id": "81a26d53",
   "metadata": {},
   "source": [
    "### Introduction to Atomate2 Workflows\n",
    "\n",
    " Atomate2 provides a modular, extensible framework built on top of several core packages—Jobflow, Custodian, Fireworks, Emmet, Maggma and Pymatgen—that together streamline high‐throughput computational materials science.\n",
    "\n",
    "![Atomate2 workflow schema](atomate2_schema.png)\n",
    "[Image source](https://members.cecam.org/storage/presentation/atomate2_intro-1742285569.pdf) by Alex Ganose\n",
    "\n",
    "We will discuss some concepts from most relevant user-facing libraries. \n",
    "\n",
    "### Workflow Management with Jobflow and Fireworks\n",
    "\n",
    "- **Jobflow**  \n",
    "  Jobflow defines high‐level workflow abstractions. It defines “jobs” (atomic tasks, such as a static DFT calculation) and “flows” (collections of jobs connected by dependencies).\n",
    "  \n",
    "   By encapsulating each step of our calculation—structure preparation, DFT relaxation, phonon analysis—as a Jobflow job, we can automatically chain them together and handle branching logic and dynamic numbers of jobs (e.g., depending on the symmetry of a structure dynamically generate a number of calculations of structures with displaced atoms for a phonon workflow).\n",
    "   \n",
    "Below you can find the most basic job example that adds two numbers."
   ]
  },
  {
   "cell_type": "code",
   "execution_count": null,
   "id": "ac6ecdf5",
   "metadata": {},
   "outputs": [],
   "source": [
    "# adapted from jobflow tutorial https://materialsproject.github.io/jobflow/tutorials/1-quickstart.html\n",
    "\n",
    "\n",
    "@job\n",
    "def add(a, b):\n",
    "    return a + b\n",
    "\n",
    "\n",
    "add_first = add(1, 2)\n",
    "add_second = add(add_first.output, 3)\n",
    "flow = Flow([add_first, add_second])"
   ]
  },
  {
   "cell_type": "markdown",
   "id": "9d09a271",
   "metadata": {},
   "source": [
    "Running add(1, 2) returns a job object. You can use the reference to that output in a second job.\n",
    "\n",
    "The job add_second will only be able to run after add_first has been successfully executed.\n",
    "\n",
    "A Flow is a collection of other jobs or Flow objects. The order in the list [add_first, add_second] does not matter, as the execution order is determined by their dependencies. In this case, add_second requires the output of add_first as an input. This dependency can be visualized using:"
   ]
  },
  {
   "cell_type": "code",
   "execution_count": null,
   "id": "0cb1a717",
   "metadata": {},
   "outputs": [],
   "source": [
    "flow.draw_graph(figsize=(3, 3)).show()"
   ]
  },
  {
   "cell_type": "markdown",
   "id": "da3b672e",
   "metadata": {},
   "source": [
    "So far the additions have not been executed. To run the flow, we can use the `run_locally` function:"
   ]
  },
  {
   "cell_type": "code",
   "execution_count": null,
   "id": "0e1d0ffc",
   "metadata": {},
   "outputs": [],
   "source": [
    "responses = run_locally(flow)\n",
    "print(\"Final result:\", responses[add_first.uuid][1].output)"
   ]
  },
  {
   "cell_type": "markdown",
   "id": "e46cd968",
   "metadata": {},
   "source": [
    "The results of the jobs are stored in the JobStore, a MongoDB database. For testing purposes we could also use `MemoryStore` that only persists in the current process. (larger documents (BSON limit of 16MB) can be stored in a GridFS or AWS S3 store. The different stores are defined in the maggma package. The database was already set up for the tutorial, and you were provided with the yaml files that have the credentials to access the database. \n",
    "While we commonly create jobs and workflows on our workstations we usually run them on HPC resources. For this purpose we will use `fireworks`."
   ]
  },
  {
   "cell_type": "markdown",
   "id": "7a540ba0",
   "metadata": {},
   "source": [
    "[**Fireworks**](https://materialsproject.github.io/fireworks/)  \n",
    "\n",
    "<img src=\"fireworks_schema.png\" alt=\"Fireworks\" style=\"width:80%;\"/>\n",
    "\n",
    "\n",
    "  Fireworks serves as an interface to the HPC resources we are using. It is responsible for:\n",
    "\n",
    "\n",
    "  1. **Queuing & Scheduling**: Dispatching jobs onto HPC clusters. Managing a constant number of jobs in queue etc.    \n",
    "  2. **Dependency Resolution**: E.g. ensuring that a phonon calculation only starts after its parent relaxation job has successfully completed.\n",
    "\n",
    "  You will notice that the dependency resolution is already included in jobflow. Fireworks precurses the development of jobflow and right now [Jobflow Remote](https://matgenix.github.io/jobflow-remote/index.html#) is being developed as an alternative to Fireworks. However as it is still in beta, we will use Fireworks in this tutorial.\n",
    "  \n",
    "  Fireworks defines `firework` and `workflow` classes that correspond to the `job` and `Flow`. `flow_to_workflow` and `job_to_firework` allow for automatic conversion between the two."
   ]
  },
  {
   "cell_type": "code",
   "execution_count": null,
   "id": "f5f5a8b7",
   "metadata": {},
   "outputs": [],
   "source": [
    "add_first = add(1, 2, name=\"add_first\")\n",
    "add_second = add(add_first.output, 3, name=\"add_second\")\n",
    "flow = Flow([add_first, add_second])\n",
    "\n",
    "wf = flow_to_workflow(flow)\n",
    "\n",
    "lpad = LaunchPad.auto_load()\n",
    "lpad.add_wf(wf)"
   ]
  },
  {
   "cell_type": "markdown",
   "id": "a9352050",
   "metadata": {},
   "source": [
    "By adding the workflow to the LaunchPad, it will be submitted to the FireWorks MongoDB for execution. You can now run\n",
    "`lpad get_fws` in your terminal to see the status of all FireWorks jobs. You can also use `lpad webgui` as a graphical user interface.\n",
    "\n",
    "You will see that each job was assigned a unique fireworks id and that the status of one job shows **READY** while the second job is waiting for the result of the first one as we expect.\n"
   ]
  },
  {
   "cell_type": "markdown",
   "id": "460ecbc2",
   "metadata": {},
   "source": [
    "You could now connect to your HPC resources and automatically submit jobs to the queue using `qlaunch rapidfire --nlaunches <N>`.\n",
    "\n",
    "This would submit N jobs to the queue, where each job submission will follow your my_qadapter.yaml settings in your fireworks config directory.\n",
    "In the qadapter file you can specify e.g. the run time of the job, node number, mpi settings, any commands that should be run before the job such as loading and environment etc. "
   ]
  },
  {
   "cell_type": "markdown",
   "id": "8dca69ff",
   "metadata": {},
   "source": [
    "In our case we will run the jobs  directly in an interactive session using:\n",
    "\n",
    "`rlaunch -w /path/to/fw_config/my_specific_worker.yaml rapidfire` \n",
    "\n",
    "\n",
    "The `rlaunch` command connects to the LaunchPad database, queries for any jobs that are marked as **READY** and have no worker or the worker in `/path/to/fw_config/my_specific_worker.yaml` specified. \n",
    "If it would be submitted as part of e.g. a slurm job:\n",
    "1. The script exhausts its allotted wall‐time, or  \n",
    "2. No more jobs remain in the **READY** state.\n",
    "\n",
    "Now we are all set up in terms of workflows and management of our HPC resources. We have only left to discuss error handling and the actual calculation workflows."
   ]
  },
  {
   "cell_type": "markdown",
   "id": "f102fa19",
   "metadata": {},
   "source": [
    "\n",
    "### Error Handling with Custodian\n",
    "\n",
    "- **Custodian**  \n",
    "  When running large batches of calculations, most commonly DFT calculations, a number of them will fail. Custodian helps in finding these errors and automatically resolving them in many cases.\n",
    "  Custodian invokes the DFT code and wraps each DFT invocation with a set of “handlers” that:\n",
    "  1. **Monitor for Common Errors**: Parse the DFT output for known failure modes (e.g. incorrect smearing, frozen jobs, ...).  \n",
    "  2. **Apply Automatic Fixes**: Modify INCAR or other input parameters (increase `ALGO`, switch to a different `PREC`, adjust `EDIFF`) and restart the calculation.  \n",
    "  3. **Check output for correctness**: E.g. too large errors in the final energy due to smearing\n",
    "\n",
    "Custodian can also be very useful to run DFT calculations without using any workflow software.\n",
    "Custodian supports:\n",
    "- FEFF \n",
    "- Gaussian\n",
    "- JDFTx\n",
    "- Lobster\n",
    "- NWChem\n",
    "- VASP\n",
    "\n",
    " **Caveats and Best Practices**  \n",
    "  > **Warning: Custodian does not guarantee physically meaningful results.**  \n",
    "  - For high‐throughput workflows, manual inspection of each output is impractical. Therefore, implement additional validation steps:  \n",
    "    - **Statistical Outlier Detection:** Inspect distributions of total energies, band gaps, cell volumes, or forces to identify outliers.  \n",
    "    - **Domain‐Knowledge Filters:** Flag chemically implausible results  \n",
    "\n",
    "- **Pymatgen (Python Materials Genomics)**  \n",
    "  Pymatgen provides an incredibly diverse computational materials science toolbox.\n",
    "  In the case of atomate2 most relevant are classes for:\n",
    "  1. **Structure I/O and Manipulation**: Reading/writing CIF/POSCAR, applying symmetry operations, substituting atomic species in the garnet prototype, and generating supercells for phonon calculations.  \n",
    "  2. **DFT Input Generation**: Creating VASP input sets (INCAR, POSCAR, POTCAR, KPOINTS) with standardized parameters (e.g., recommended pseudopotentials, convergence criteria, Hubbard U for transition metals).  \n",
    "  3. **Post‐Processing**: Parsing output files (OUTCAR, vasprun.xml) to extract energies, forces, phonon frequencies from Phonopy, and assembling them into convenient Python objects for downstream analysis.\n",
    "\n",
    "Every relaxation and phonon job in our Atomate2 flow relies on Pymatgen to define the input structure, write input files, parse output files and interpret results.\n",
    "\n",
    "### Metadata and Databases with Emmet\n",
    "\n",
    "- **Emmet**  \n",
    "  Emmet serves as Atomate2’s metadata schema and database interface. After each Jobflow job completes successfully, Emmet organizes the inputs and outputs of a calculation into a consistent `TaskDocument` schema.\n",
    "  \n",
    "  By confirming that all the results follow the respective Schema it works as an additional validation step.  "
   ]
  },
  {
   "cell_type": "markdown",
   "id": "9d59aba4",
   "metadata": {},
   "source": [
    "We will start by loading the YIG structure we retrieved from the oqmd before.\n",
    "Then we will replace the elements with other element combinations in the periodic table.\n",
    "We will limit ourselves to A3B5N12 compounds and remove any radioactive elements or noble gases that are unlikely to result in a stable compound.\n",
    "We will also load the compositions of all the previously calculated nitride garnets to avoid calculating any duplicates."
   ]
  },
  {
   "cell_type": "code",
   "execution_count": null,
   "id": "405010f9",
   "metadata": {},
   "outputs": [],
   "source": [
    "yig_conventional = Structure.from_file(\"../data/YIG_POSCAR\")\n",
    "garnet_compositions = pickle.load(open(\"../data/garnet_compositions_N.pickle\", \"rb\"))"
   ]
  },
  {
   "cell_type": "code",
   "execution_count": null,
   "id": "8b2add0e",
   "metadata": {},
   "outputs": [],
   "source": [
    "selected_elements = []\n",
    "for el in Element:\n",
    "    if not el.is_radioactive and not el.is_noble_gas:\n",
    "        selected_elements.append(el)\n",
    "\n",
    "third_element = Element.N\n",
    "\n",
    "new_structures = []\n",
    "for e1, e2 in tqdm(\n",
    "    permutations(selected_elements, 2),\n",
    "    total=len(selected_elements) * len(selected_elements) - 1,\n",
    "    desc=\"Generating structures\",\n",
    "):\n",
    "    new_struct = yig_conventional.copy()\n",
    "\n",
    "    new_mapping = {\"Y\": e1.symbol, \"Fe\": e2.symbol, \"O\": third_element.symbol}\n",
    "    new_struct.replace_species(new_mapping)\n",
    "    # Check if the structure was already calculated previously in alexandria\n",
    "    if not new_struct.composition in garnet_compositions:\n",
    "        new_structures.append(new_struct)"
   ]
  },
  {
   "cell_type": "markdown",
   "id": "c40a6964",
   "metadata": {},
   "source": [
    "The next step will be to relax the generated crystal structures using a universal force field, we can use the energy obtained in this fashion to compute the phase diagram, i.e. the thermodynamic stability of the structures.\n",
    "\n",
    "We will use the `ForceFieldRelaxMaker` job to relax the structures. We will add some additional metadata information to the job. \n",
    "## You should set the your_worker_name to first letter of the first name followed by your family name. e.g. John Smith, jsmith"
   ]
  },
  {
   "cell_type": "code",
   "execution_count": null,
   "id": "1075f450",
   "metadata": {},
   "outputs": [],
   "source": [
    "random_indices = np.random.randint(0, len(new_structures), size=(20,))\n",
    "your_worker_name = \"test\"\n",
    "metadata = {\n",
    "    \"user\": your_worker_name,\n",
    "    \"project\": \"Garnet Tutorial\",\n",
    "    \"description\": \"Force field relaxation starting from YIG structure with different elements.\",\n",
    "}"
   ]
  },
  {
   "cell_type": "markdown",
   "id": "abf9ba99",
   "metadata": {},
   "source": [
    "Everybody in the tutorial randomly selects 20 of the structures to relax. You can then query the database for the results of everybody. If you want you could add your username to the query to only select the structures you calculated."
   ]
  },
  {
   "cell_type": "code",
   "execution_count": null,
   "id": "51b73a27",
   "metadata": {},
   "outputs": [],
   "source": [
    "for index in random_indices:\n",
    "    # Create a force field maker, we use MACE-MP-0 as our force field\n",
    "    relax_maker = ForceFieldRelaxMaker(\n",
    "        force_field_name=\"MACE-MP-0\",\n",
    "        calculator_kwargs={\"device\": \"cuda\"},\n",
    "        fix_symmetry=True,\n",
    "    )\n",
    "\n",
    "    relax_job = relax_maker.make(structure=new_structures[index])\n",
    "    # we update the config so if you run rlaunch with your worker name,\n",
    "    # it will only find your jobs\n",
    "    relax_job.update_config({\"manager_config\": {\"_fworker\": your_worker_name}})\n",
    "    metadata[\"structure_index\"] = index\n",
    "    # We add some extra information to the job\n",
    "    relax_job.update_metadata(metadata)\n",
    "    workflow = flow_to_workflow(relax_job)\n",
    "    lpad = LaunchPad.auto_load()\n",
    "    lpad.add_wf(workflow)"
   ]
  },
  {
   "cell_type": "markdown",
   "id": "46d89904",
   "metadata": {},
   "source": [
    "Now you can use `rlaunch rapidfire` to run the jobs on the cluster. Once the first relaxation is complete, you can retrieve the initial results from the store.\n",
    "We will use metadata information to find the relaxations, however we can query for any field in the document.\n",
    "The query returns an iterator that returns a list of dictionaries. We are limiting the output to the the composition, energy and metadata. Requesting the full calculation output would take a minute or two. We will query for the calculations of everybody running the tutorial and remove any duplicates, so you can rerun the query at any point during the school and see if any new interesting structures were discovered or you could submit more relaxation jobs if you want."
   ]
  },
  {
   "cell_type": "code",
   "execution_count": null,
   "id": "1371b379",
   "metadata": {},
   "outputs": [],
   "source": [
    "store = SETTINGS.JOB_STORE\n",
    "store.connect()\n",
    "results = list(\n",
    "    store.query(\n",
    "        # you could add your worker name here to filter for your calculations\n",
    "        {\n",
    "            \"metadata.description\": \"Force field relaxation starting from YIG structure with different elements.\"\n",
    "        },\n",
    "        # only load the properties we need\n",
    "        properties=[\n",
    "            \"output.composition\",\n",
    "            \"output.output.energy\",\n",
    "            \"metadata\",\n",
    "            \"output.structure.lattice\",\n",
    "        ],\n",
    "        load=True,\n",
    "    )\n",
    ")\n",
    "# select entries with unique metadata.structure_index\n",
    "results.sort(key=lambda x: x[\"metadata\"][\"structure_index\"])\n",
    "unique_results = {}\n",
    "for result in results:\n",
    "    unique_results[result[\"metadata\"][\"structure_index\"]] = result"
   ]
  },
  {
   "cell_type": "code",
   "execution_count": null,
   "id": "b58fa2a4",
   "metadata": {},
   "outputs": [],
   "source": [
    "# Extracting energies, compositions, lattice constants, and metadata from unique results to make it easier to work with\n",
    "results_energies = [\n",
    "    result[\"output\"][\"output\"][\"energy\"] for result in unique_results.values()\n",
    "]\n",
    "results_compositions = [\n",
    "    Composition.from_dict(result[\"output\"][\"composition\"])\n",
    "    for result in unique_results.values()\n",
    "]\n",
    "results_lattice_constant = [\n",
    "    result[\"output\"][\"structure\"][\"lattice\"][\"a\"] for result in unique_results.values()\n",
    "]\n",
    "results_metadata = [result[\"metadata\"] for result in unique_results.values()]"
   ]
  },
  {
   "cell_type": "markdown",
   "id": "5d476b21",
   "metadata": {},
   "source": [
    "Using the energies we just obtained, we can calculate the thermodynamic stability of the crystal structures by  querying a database for all entries in the same chemical system.\n",
    "We use the MP REST API (via mpr.get_entries_in_chemsys(...)) to retrieve a list of all existing computed entries in the specified chem‐system. Each entry is a `ComputedEntry` (or subclass) with:\n",
    "\n",
    "- A composition (e.g. LiFeO₂, Li₂O, Fe₂O₃, etc.)\n",
    "\n",
    "- A total DFT energy per formula unit (as computed with GGA or GGA+U settings)\n",
    "\n",
    "- Sometimes additional metadata (e.g. run parameters)\n",
    "\n",
    "The extra filter {\"thermo_types\": [\"GGA_GGA+U\"]} tells MP to return only those entries whose energies were calculated with GGA + U or plain GGA if U was not required. This avoids mixing in, for example, the R2SCAN calculations in the materials project.\n",
    "\n",
    "Why it matters:\n",
    "Building a meaningful phase diagram requires a consistent set of energies. Mixing results from different exchange–correlation functionals (e.g., PBE vs. SCAN) can artificially distort the convex hull.\n",
    "The *materials project* has developed a set of [corrections](https://docs.materialsproject.org/methodology/materials-methodology/thermodynamic-stability/thermodynamic-stability) to ensure consistency of GGA and GGA+U calculations and reduce the general formation energy errors.\n",
    "\n",
    "Applying the full set of corrections would require the knowledge of the +U parameters and pseudopotentials used to calculate the training data. The training data should be consistent with the MPRelaxSet defined in pymatgen. "
   ]
  },
  {
   "cell_type": "code",
   "execution_count": null,
   "id": "f617727e",
   "metadata": {},
   "outputs": [],
   "source": [
    "compat = MaterialsProject2020Compatibility()\n",
    "results_ehull = []\n",
    "computed_entries = []\n",
    "# Enter your Materials Project API key here\n",
    "# You can obtain one from https://materialsproject.org/dashboard/profile\n",
    "with MPRester(\"YOUR_API_KEY\") as mpr:\n",
    "    for i, (comp, E_tot) in enumerate(zip(results_compositions, results_energies)):\n",
    "        try:\n",
    "            # 1) Extract the chemical system (unique element symbols) from this structure\n",
    "            element_symbols = sorted({el.symbol for el in comp.elements})\n",
    "\n",
    "            # 2) Query MP for all existing computed entries in that chem‐system that were calculated with (GGA/GGA+U)\n",
    "            entries_in_system = mpr.get_entries_in_chemsys(\n",
    "                elements=element_symbols,\n",
    "                additional_criteria={\"thermo_types\": [\"GGA_GGA+U\"]},\n",
    "            )\n",
    "            # 4) Create a ComputedStructureEntry for your “new” structure (with your DFT energy)\n",
    "            entry = ComputedEntry(composition=comp, energy=E_tot)\n",
    "            # In principle we should obtain the Hubbard parameters/Pseudopotential information from the training data and set them here to enable full corrections.\n",
    "            entry.parameters[\"software\"] = \"non-vasp\"\n",
    "            entry.parameters[\"run_type\"] = \"GGA\"\n",
    "            # apply corrections to the entry\n",
    "            compat.process_entry(entry)\n",
    "\n",
    "            pd = PhaseDiagram(entries_in_system + [entry])\n",
    "            e_above_hull = pd.get_e_above_hull(entry)\n",
    "            entry.data = {\n",
    "                \"e_above_hull\": e_above_hull,\n",
    "                \"structure_index\": results_metadata[i],\n",
    "            }\n",
    "            print(results_metadata[i], \"e_above_hull:\", e_above_hull)\n",
    "            computed_entries.append(entry)\n",
    "            results_ehull.append(e_above_hull)\n",
    "        except Exception as e:\n",
    "            print(f\"Error processing entry {i}: {e}\")"
   ]
  },
  {
   "cell_type": "markdown",
   "id": "e8e9e103",
   "metadata": {},
   "source": [
    "We can filter the structures we calculated and see if any fall within our E-Hull and lattice constant criteria defined in the first notebook."
   ]
  },
  {
   "cell_type": "code",
   "execution_count": null,
   "id": "7062f751",
   "metadata": {},
   "outputs": [],
   "source": [
    "max_ehull_criterion = 0.05\n",
    "ideal_lattice_constant = yig_conventional.lattice.a\n",
    "filtered_results = []\n",
    "for index, (lattice_a, entry) in enumerate(\n",
    "    zip(results_lattice_constant, computed_entries)\n",
    "):\n",
    "    ehull = entry.data[\"e_above_hull\"]\n",
    "    structure_index = entry.parameters.get(\"structure_index\", None)\n",
    "    if ehull < max_ehull_criterion and abs(lattice_a - ideal_lattice_constant) < 0.5:\n",
    "        filtered_results.append(\n",
    "            {\n",
    "                \"metadata\": results_metadata[index],\n",
    "                \"composition\": results_compositions[index],\n",
    "                \"energy\": results_energies[index],\n",
    "                \"lattice_a\": results_lattice_constant[index],\n",
    "                \"ehull\": ehull,\n",
    "            }\n",
    "        )\n",
    "\n",
    "filtered_results.sort(key=lambda x: x[\"ehull\"])\n",
    "stable_structures = [result for result in filtered_results if result[\"ehull\"] == 0]\n",
    "\n",
    "if len(filtered_results) == 0:\n",
    "    print(\"No structures found that fit the criteria.\")\n",
    "else:\n",
    "    if len(stable_structures) > 1:\n",
    "        stable_results = filtered_results[: len(stable_structures)]\n",
    "        best_result = stable_structures.sort(\n",
    "            key=lambda x: abs(x[\"lattice_a\"] - ideal_lattice_constant)\n",
    "        )[0]\n",
    "    else:\n",
    "        best_result = filtered_results[0]\n",
    "    print(\n",
    "        f\"User {best_result['metadata']['user']} calculated the best candidate structure {best_result['composition']} \\n \\\n",
    "          with a distance to the convex hull of {best_result['ehull']} fitting our lattice constant criteria at {best_result['lattice_a']}\\n\"\n",
    "    )"
   ]
  },
  {
   "cell_type": "markdown",
   "id": "8537a7ca",
   "metadata": {},
   "source": [
    "The general expectation after structural relaxation is that the first derivative of the total energy with respect to the atomic positions is zero, i.e., the forces on all atoms vanish.\n",
    "Building on the idea that a relaxed structure has zero forces (i.e., all first derivatives of the total energy with respect to atomic displacements vanish), we can ask: is that stationary point a true minimum, or could it be a saddle point?**  That is exactly what **dynamic stability** addresses.\n",
    "\n",
    "If you are familiar with phonons you can skip this cell.\n",
    "\n",
    "### Stationary point versus local minimum\n",
    "\n",
    "* **Zero forces = stationary point**\n",
    "  When you relax (optimize) atomic positions in DFT (or any other method), you drive all forces on atoms to (near) zero.  Formally, if $\\mathbf{R} = \\{R_{i\\alpha}\\}$ denotes all atomic coordinates ($i$ labels atom, $\\alpha\\in\\{x,y,z\\}$), then\n",
    "\n",
    "  $$\n",
    "  \\frac{\\partial E_{\\mathrm{tot}}}{\\partial R_{i\\alpha}} \\;=\\; 0\n",
    "  \\quad\\forall\\,i,\\alpha.\n",
    "  $$\n",
    "\n",
    "We can examine the second derivatives of the energy—i.e., the **Hessian**.\n",
    "\n",
    "  $$\n",
    "  H_{i\\alpha,j\\beta}\n",
    "  \\;=\\;\n",
    "  \\frac{\\partial^2 E_{\\mathrm{tot}}}{\\partial R_{i\\alpha}\\,\\partial R_{j\\beta}}\n",
    "  \\quad\\text{for all atoms }i,j\\text{ and Cartesian directions }\\alpha,\\beta.\n",
    "  $$\n",
    "* In practice, one often works with the **mass‐weighted Hessian** (sometimes called the dynamical matrix) defined by\n",
    "\n",
    "  $$\n",
    "  D_{i\\alpha,j\\beta}\n",
    "  \\;=\\;\n",
    "  \\frac{1}{\\sqrt{m_i\\,m_j}}\n",
    "  \\;H_{i\\alpha,j\\beta},\n",
    "  $$\n",
    "\n",
    "  where $m_i$ is the mass of atom $i$.  Diagonalizing $D$ yields squared vibrational frequencies.\n",
    "\n",
    "### Phonon modes and frequencies\n",
    "\n",
    "* A **phonon mode** at wavevector $\\mathbf{q}$ is essentially a collective pattern of atomic displacements oscillating with frequency $\\omega(\\mathbf{q})$.\n",
    "* To test **dynamic stability** in an infinite crystal, one builds the dynamical matrix $D(\\mathbf{q})$ (through finite‐differences or density‐functional perturbation theory) and diagonalizes it at high-symmetry $\\mathbf{q}$'s in the Brillouin zone.\n",
    "* If, for every $\\mathbf{q}$, **all eigenvalues $\\omega^2(\\mathbf{q})$ are positive**, then $\\omega(\\mathbf{q})$ is real for all modes—meaning any small displacement will oscillate rather than spontaneously grow. \n",
    "* Conversely, if there exists any $\\mathbf{q}$ where $\\omega^2(\\mathbf{q})<0$, then $\\omega(\\mathbf{q})$ is imaginary.  Equivalently, the PES has a “downhill” direction for that wavevector—i.e., the structure will spontaneously distort along that phonon eigenvector.  This signals **dynamic instability**.\n"
   ]
  },
  {
   "cell_type": "markdown",
   "id": "594490b3",
   "metadata": {},
   "source": [
    "We can take a look at how atomate2 automates phonon calculations by exploring the graph of the workflow."
   ]
  },
  {
   "cell_type": "code",
   "execution_count": null,
   "id": "316af341",
   "metadata": {},
   "outputs": [],
   "source": [
    "maker = PhononMaker()\n",
    "phonon_flow = maker.make(yig_conventional)\n",
    "phonon_flow.draw_graph(figsize=(24, 12)).show()"
   ]
  },
  {
   "cell_type": "markdown",
   "id": "ab5bea71",
   "metadata": {},
   "source": [
    "We start in the bottom‐left corner:\n",
    "\n",
    "* Relax the structure.\n",
    "* Determine the supercell size. We will use a 2 × 2 × 2 cell, so we will skip this step. The supercell size determines at which q-points we will calculate the phonon frequencies.\n",
    "* Generate supercells with atoms randomly displaced by a small amount to compute second derivatives numerically.\n",
    "* Run `run_phonon_displacements`, which creates jobs for static energy calculations on each displaced supercell. The number of these jobs is determined automatically based on how many displaced structures exist. The generation of displaced structures and later the calculation of the force constants and phonon frequencies is implemented in phonopy.\n",
    "* In parallel, perform a static calculation to obtain the energy of the unperturbed structure.\n",
    "* Finally, `generate_frequencies_eigenvectors` collects all the data and interpolates the phonon band structure, density of states, and thermal displacements at different temperatures.\n"
   ]
  },
  {
   "cell_type": "code",
   "execution_count": null,
   "id": "8ba40d69",
   "metadata": {},
   "outputs": [],
   "source": [
    "# Selected one of the candidate structures for a phonon calculation\n",
    "\n",
    "result = store.query_one(\n",
    "    {\"metadata.structure_index\": filtered_results[0][\"metadata\"][\"structure_index\"]},\n",
    "    properties=[\"output.structure\"],\n",
    "    load=True,\n",
    ")\n",
    "structure = Structure.from_dict(result[\"output\"][\"structure\"])"
   ]
  },
  {
   "cell_type": "code",
   "execution_count": null,
   "id": "00edf77a",
   "metadata": {},
   "outputs": [],
   "source": [
    "maker = PhononMaker(\n",
    "    use_symmetrized_structure=\"primitive\", create_thermal_displacements=False\n",
    ")\n",
    "flow = maker.make(structure, supercell_matrix=[[2, 0, 0], [0, 2, 0], [0, 0, 2]])\n",
    "\n",
    "phonon_workflow = flow_to_workflow(phonon_flow)\n",
    "metadata = {\n",
    "    \"structure\": structure.reduced_formula,\n",
    "    \"user\": your_worker_name,\n",
    "    \"comment\": \"Checking dynamical stability of Garnet structure\",\n",
    "    \"project\": \"Garnet Tutorial\",\n",
    "}\n",
    "phonon_flow.update_metadata(metadata)\n",
    "phonon_flow.update = {\"_fworker\": your_worker_name}\n",
    "phonon_flow.update_config({\"manager_config\": {\"_fworker\": your_worker_name}})\n",
    "lpad = LaunchPad.auto_load()\n",
    "phonon_workflow = flow_to_workflow(phonon_flow)\n",
    "lpad.add_wf(phonon_workflow)\n",
    "phonon_flow.draw_graph(figsize=(24, 12)).show()"
   ]
  },
  {
   "cell_type": "markdown",
   "id": "45542e02",
   "metadata": {},
   "source": [
    "As you can see in the graph, by fixing the supercell size we removed the get_supercell job, but by requesting that the structure be reduced to its primitive cell we added an additional job. You can now run rlaunch rapidfire again \n",
    "to start the phonon calculation. Below, we query the store for the result and examine the phonon band structure to determine whether the structure is dynamically stable. Pymatgen provides classes to handle and visualize this data."
   ]
  },
  {
   "cell_type": "code",
   "execution_count": null,
   "id": "f67342cf",
   "metadata": {},
   "outputs": [],
   "source": [
    "phonon_results = store.query_one(\n",
    "    {\n",
    "        \"metadata.calc_name\": \"get_frequencies_eigenvectors\",\n",
    "        \"metadata.user\": your_worker_name,\n",
    "    },\n",
    "    properties=[\"output.phonon_dos\", \"output.phonon_bandstructure\"],\n",
    "    load=True,\n",
    ")\n",
    "\n",
    "# Dos and Bandstructure objects that can initialized from the result dictionaries\n",
    "ph_bs = PhononBandStructureSymmLine.from_dict(\n",
    "    phonon_results[0][\"output\"][\"phonon_bandstructure\"]\n",
    ")\n",
    "ph_dos = PhononDos.from_dict(phonon_results[\"output\"][\"phonon_dos\"])\n",
    "\n",
    "dos_plot = PhononDosPlotter()\n",
    "dos_plot.add_dos(label=\"a\", dos=ph_dos)\n",
    "dos_plot.get_plot()\n",
    "\n",
    "bs_plot = PhononBSPlotter(bs=ph_bs)\n",
    "bs_plot.get_plot()"
   ]
  },
  {
   "cell_type": "markdown",
   "id": "a6d84f58",
   "metadata": {},
   "source": [
    "### Beyond phonons: anharmonicity and finite temperature\n",
    "\n",
    "* **Phonon‐based analysis is fundamentally a harmonic approximation** (energy expanded to second order in displacements).  A “soft mode” (imaginary $\\omega$) within the harmonic picture may in reality be stabilized at finite temperature by anharmonic interactions. You could use the quasiharmonic workflow in atomate2 to get a first idea of the temperature dependent behaviour of the materials.\n",
    "\n",
    "To obtain an accurate thermodynamic stability at temperature we would have to calculate the energy of the whole convex hull at temperature.\n",
    "\n"
   ]
  },
  {
   "cell_type": "markdown",
   "id": "a4dcec95",
   "metadata": {},
   "source": [
    "### DFT calculations\n",
    "As follow up step we could repeat the relaxation and phonon workflows using actual density functional theory. We would only have to change a few lines of code and import for example the vasp `PhononMaker` instead of using the force field.\n",
    "```python\n",
    "from atomate2.vasp.flows.phonons import PhononMaker\n",
    "```"
   ]
  },
  {
   "cell_type": "markdown",
   "id": "a95423d6",
   "metadata": {},
   "source": [
    "## Exercises:\n",
    "- Use Optimade to query Alexandria for the convex hull data in addition to the materials project one. Will the distances to the convex hull increase or decrease?\n",
    "- Try to integrate the distance to the convex hull calculation in the automated workflow.\n",
    "- Relax some of the garnets downloaded from alexandria and calculate the mean absolute error for the energies and lattice constants."
   ]
  }
 ],
 "metadata": {
  "kernelspec": {
   "display_name": "fireworks_mp",
   "language": "python",
   "name": "python3"
  },
  "language_info": {
   "codemirror_mode": {
    "name": "ipython",
    "version": 3
   },
   "file_extension": ".py",
   "mimetype": "text/x-python",
   "name": "python",
   "nbconvert_exporter": "python",
   "pygments_lexer": "ipython3",
   "version": "3.11.5"
  }
 },
 "nbformat": 4,
 "nbformat_minor": 5
}
