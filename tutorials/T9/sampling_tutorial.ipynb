{
 "cells": [
  {
   "cell_type": "markdown",
   "id": "3a1d5ca0",
   "metadata": {},
   "source": [
    "## Generating and evaluating samples from MatterGen\n",
    "\n",
    "In this tutorial, you will learn about:\n",
    "1. **Conditional generation of crystal structures**: speed-accuracy trade-offs and how to steer the generation process.\n",
    "2. **Evaluation of generated samples**: approximately evaluating stability, accounting for disorder when assessing diversity and novelty."
   ]
  },
  {
   "cell_type": "markdown",
   "id": "724dedda",
   "metadata": {},
   "source": [
    "### Loading model checkpoint\n",
    "\n",
    "Suppose you want to sample stable structures with a particular space group (e.g., 225). Here, we load a conditional model checkpoint (called `space_group`) from [Hugging Face](https://huggingface.co/microsoft/mattergen) and use the model for sampling. The model has been pre-trained on a large number of stable structures and fine-tuned on a labeled set of structures with space group labels.\n",
    "\n",
    "To **speed up sampling**, we will reduce the number of denoising steps from 1000 to 100. This will result in lower quality samples, but will allow us to generate samples ~10x faster.\n",
    "\n",
    "In addition, we are **preventing the model from generating certain elements** (e.g., radioactive ones) by explicitly setting the logits of the model's element predictions to `-inf` for these elements. While the model should have learned to avoid these elements during training, it may still accidentally generate them."
   ]
  },
  {
   "cell_type": "code",
   "execution_count": null,
   "id": "022d021a",
   "metadata": {},
   "outputs": [],
   "source": [
    "from mattergen.common.utils.data_classes import MatterGenCheckpointInfo\n",
    "\n",
    "pretrained_model_name = \"space_group\"\n",
    "num_steps = 100  # Number of denoising steps for sampling (default: 1000)\n",
    "\n",
    "# Set number of steps for denoising atomic numbers\n",
    "config_overrides = [f\"lightning_module.diffusion_module.corruption.discrete_corruptions.atomic_numbers.d3pm.schedule.num_steps={num_steps}\"]\n",
    "\n",
    "# Disable generating unsupported elements (should be unlikely anyway, but can happen)\n",
    "config_overrides += [\n",
    "    \"++lightning_module.diffusion_module.model.element_mask_func={_target_:'mattergen.denoiser.mask_disallowed_elements',_partial_:True}\"\n",
    "]\n",
    "\n",
    "checkpoint_info = MatterGenCheckpointInfo.from_hf_hub(\n",
    "    model_name=pretrained_model_name,\n",
    "    config_overrides=config_overrides\n",
    ")"
   ]
  },
  {
   "cell_type": "markdown",
   "id": "07006b48",
   "metadata": {},
   "source": [
    "### Generating samples\n",
    "\n",
    "To conditionally generate samples, we will use [classifier-free guidance](https://arxiv.org/pdf/2207.12598):\n",
    "$$\\nabla_x \\log_\\gamma p(x | y) = (1 - \\gamma) \\nabla_x \\log p(x) + \\gamma \\nabla_x \\log p(x | y),$$\n",
    "where $\\gamma$ controls the guidance strength. Setting it to zero corresponds to unconditional generation, and increasing it further tends to produce samples that adhere more to the target property values, though at the expense of diversity and realism of samples.\n",
    "\n",
    "\n",
    "We instantiate a `CrystalGenerator` object given the model checkpoint and the following (main) parameters:\n",
    "- `batch_size` * `num_batches`: The number of samples to generate. In general, you want to maximize the batch size subject to GPU memory constraints. Here we keep it moderate to speed up sampling.\n",
    "- `properties_to_condition_on`: A dictionary of properties mapping to target values. The properties must match the properties the model has seen during fine-tuning.\n",
    "- `diffusion_guidance_factor`: Corresponds to the γ parameter in classifier-free guidance."
   ]
  },
  {
   "cell_type": "code",
   "execution_count": null,
   "id": "4a7c5269",
   "metadata": {},
   "outputs": [],
   "source": [
    "import os\n",
    "from pathlib import Path\n",
    "\n",
    "from mattergen.generator import CrystalGenerator\n",
    "\n",
    "output_path = \"outputs/\"  # Directory to save generated structures\n",
    "batch_size = 8\n",
    "\n",
    "generator = CrystalGenerator(\n",
    "    checkpoint_info=checkpoint_info,\n",
    "    batch_size=batch_size,\n",
    "    num_batches=1,\n",
    "    properties_to_condition_on={'space_group': 225},\n",
    "    diffusion_guidance_factor=2.0,\n",
    "    record_trajectories=False,  # whether to store intermediate denoising steps\n",
    "    sampling_config_overrides=[f\"sampler_partial.N={num_steps}\"],  # additional sampling overrides\n",
    ")\n",
    "\n",
    "if not os.path.exists(output_path):\n",
    "    os.makedirs(output_path)\n",
    "\n",
    "structures = generator.generate(output_dir=Path(output_path))\n",
    "print(len(structures))"
   ]
  },
  {
   "cell_type": "code",
   "execution_count": null,
   "id": "c51f8d55",
   "metadata": {},
   "outputs": [],
   "source": [
    "# Since sampling a large enough batch of structures takes too long for this tutorial, we will continue with some pre-sampled structures.\n",
    "\n",
    "import pickle\n",
    "with open(\"sampled_structures.pkl\", \"rb\") as f:\n",
    "    structures = pickle.load(f)"
   ]
  },
  {
   "cell_type": "markdown",
   "id": "011a8e44",
   "metadata": {},
   "source": [
    "### Relaxing the generated structures and computing their properties\n",
    "\n",
    "Since many properties are only well-defined for structures at the ground state, we will relax them using the [MatterSim](https://arxiv.org/pdf/2405.04967) force field. This will give us both the relaxed structures and their energies. In practice, we should ideally use DFT for this, but even then pre-relaxation with a force field is useful."
   ]
  },
  {
   "cell_type": "code",
   "execution_count": null,
   "id": "ab383bbd",
   "metadata": {},
   "outputs": [],
   "source": [
    "from mattergen.evaluation.utils.relaxation import relax_structures\n",
    "\n",
    "relaxed_structures, energies = relax_structures(structures)"
   ]
  },
  {
   "cell_type": "markdown",
   "id": "e640e1fe",
   "metadata": {},
   "source": [
    "### Visualizing marginal statistics\n",
    "\n",
    "Before we move on, let's try to get a feel for what we have generated."
   ]
  },
  {
   "cell_type": "code",
   "execution_count": null,
   "id": "5ff08f47",
   "metadata": {},
   "outputs": [],
   "source": [
    "# Plot distribution over number of distinct elements\n",
    "import matplotlib.pyplot as plt\n",
    "\n",
    "element_counts = [len(set(structure.composition.elements)) for structure in relaxed_structures]\n",
    "plt.hist(element_counts, bins=range(1, max(element_counts) + 2), align='left', rwidth=0.8)\n",
    "plt.xlabel('Number of Elements')\n",
    "plt.ylabel('Count')\n",
    "plt.show()"
   ]
  },
  {
   "cell_type": "code",
   "execution_count": null,
   "id": "070bb9a5",
   "metadata": {},
   "outputs": [],
   "source": [
    "# Plot distribution of elements\n",
    "from collections import Counter\n",
    "\n",
    "elements = Counter()\n",
    "for structure in relaxed_structures:\n",
    "    elements.update(structure.composition.as_dict())\n",
    "\n",
    "# sort and only keep the 15 most common elements\n",
    "elements = dict(sorted(elements.items(), key=lambda x: x[1], reverse=True)[:15])\n",
    "\n",
    "plt.bar(elements.keys(), elements.values())\n",
    "plt.xlabel(\"Element\")\n",
    "plt.ylabel(\"Count\")\n",
    "plt.show()\n"
   ]
  },
  {
   "cell_type": "markdown",
   "id": "a27c0aa2",
   "metadata": {},
   "source": [
    "Next, we compute their properties. Here, we compute the space groups using the `SpaceGroupAnalyzer` from `pymatgen` with slightly looser tolerances (`symprec=0.1`, `angle_tolerance=5.0`)."
   ]
  },
  {
   "cell_type": "code",
   "execution_count": null,
   "id": "c59a51bd",
   "metadata": {},
   "outputs": [],
   "source": [
    "from collections import Counter\n",
    "\n",
    "from pymatgen.core import Structure\n",
    "from pymatgen.symmetry.analyzer import SpacegroupAnalyzer\n",
    "\n",
    "from mattergen.evaluation.utils.symmetry_analysis import DefaultSpaceGroupAnalyzer\n",
    "\n",
    "\n",
    "def get_space_group(\n",
    "    structure: Structure,\n",
    "    space_group_analyzer_cls: type[SpacegroupAnalyzer] = DefaultSpaceGroupAnalyzer,\n",
    ") -> str:\n",
    "    try:\n",
    "        return space_group_analyzer_cls(structure=structure).get_space_group_number()\n",
    "    except TypeError:\n",
    "        # space group analysis failed, most likely due to overlapping atoms\n",
    "        return 1\n",
    "\n",
    "properties = {\"space_group\": [get_space_group(s) for s in relaxed_structures]}\n",
    "Counter(properties[\"space_group\"]).most_common(5)"
   ]
  },
  {
   "cell_type": "markdown",
   "id": "061b84af",
   "metadata": {},
   "source": [
    "### Evaluating the samples\n",
    "\n",
    "Ideally, we would like to generate a batch of synthesizable, diverse and novel structures tha satisfy the target constraints. However, many of these properties are hard to evaluate. For example, predicting synthesizability is still an open research problem. Thus, we resort to predicting thermodynamic stability at 0K as a proxy. Likewise, we use uniqueness as a proxy for diversity.\n",
    "\n",
    "- **Stable**: We consider a structure to be stable if its energy above the convex hull is less than 0.1 eV/atom, where the convex hull is determinted by a reference dataset. To account for deficiencies in PBE-GGA DFT energies, we use the [Materials Project energy correction scheme](https://docs.materialsproject.org/methodology/materials-methodology/thermodynamic-stability/thermodynamic-stability).\n",
    "- **Unique**: We consider a structure to be unique if it is different from all other structures in the batch according to the `StructureMatcher` from `pymatgen`.\n",
    "- **Novel**: We consider a structure to be novel if it is different from all other structures in the reference dataset according to the `StructureMatcher` from `pymatgen`.\n",
    "- **Satisfies property constraints**: A structure satisfies the property constraints if the properties are within the specified interval given by the `property_constraints` input dictionary.\n",
    "\n",
    "However, determining whether a structure is different from another one is [not straightforward](https://chemrxiv.org/engage/api-gateway/chemrxiv/assets/orp/resource/item/65957d349138d231611ad8f7/original/challenges-in-high-throughput-inorganic-material-prediction-and-autonomous-synthesis.pdf), e.g., because of disorder effects. To account for compositional disorder, we use a disordered structure matcher."
   ]
  },
  {
   "cell_type": "markdown",
   "id": "a763dad6",
   "metadata": {},
   "source": [
    "**NOTE**: If running the next cell results in an error, you may have to download the reference dataset first:\n",
    "```bash\n",
    "git lfs pull -I data-release/alex-mp/reference_MP2020correction.gz --exclude=\"\"\n",
    "```"
   ]
  },
  {
   "cell_type": "code",
   "execution_count": null,
   "id": "6ed02dc6",
   "metadata": {},
   "outputs": [],
   "source": [
    "import warnings\n",
    "\n",
    "from pymatgen.io.vasp.sets import BadInputSetWarning\n",
    "from pymatgen.entries.compatibility import MaterialsProject2020Compatibility\n",
    "\n",
    "from mattergen.evaluation.metrics.evaluator import MetricsEvaluator\n",
    "from mattergen.evaluation.utils.structure_matcher import DefaultDisorderedStructureMatcher\n",
    "\n",
    "# pymatgen can be quite verbose...\n",
    "warnings.filterwarnings(\"ignore\", category=UserWarning, message=\"Failed to guess oxidation states for Entry\")\n",
    "warnings.filterwarnings(\"ignore\", category=UserWarning, message=\".* without an oxidation state is initialized as low spin by default\")\n",
    "warnings.filterwarnings(\"ignore\", category=BadInputSetWarning)\n",
    "\n",
    "evaluator = MetricsEvaluator.from_structures_and_energies(\n",
    "    structures=relaxed_structures,\n",
    "    energies=energies,\n",
    "    properties=properties,\n",
    "    reference=None,  # load default (Alex-MP with MP energy correction)\n",
    "    stability_threshold=0.1,  # energy above hull threshold (eV/atom)\n",
    "    energy_correction_scheme=MaterialsProject2020Compatibility(),\n",
    "    structure_matcher=DefaultDisorderedStructureMatcher(),\n",
    "    property_constraints={\"space_group\": (225, 225)},  # (min, max)\n",
    "    original_structures=structures\n",
    ")"
   ]
  },
  {
   "cell_type": "code",
   "execution_count": null,
   "id": "75c91929",
   "metadata": {},
   "outputs": [],
   "source": [
    "S = evaluator.is_stable\n",
    "U = evaluator.is_unique\n",
    "N = evaluator.is_novel\n",
    "P = evaluator.property_capability.satisfies_property_constraints\n",
    "\n",
    "print(f\"S: {S.mean():.2f}\")\n",
    "print(f\"U: {U.mean():.2f}\")\n",
    "print(f\"N: {N.mean():.2f}\")\n",
    "print(f\"SUN: {(S & U & N).mean():.2f}\")\n",
    "\n",
    "print(f\"P: {P.mean():.2f}\")\n",
    "print(f\"SUN+P: {(S & U & N & P).mean():.2f}\")"
   ]
  },
  {
   "cell_type": "markdown",
   "id": "31162cc6",
   "metadata": {},
   "source": [
    "If we want, we can look at a lot more metrics to understand what's going on. Fortunately, the evaluator caches intermediate results, so re-computing or composing metrics is fast."
   ]
  },
  {
   "cell_type": "code",
   "execution_count": null,
   "id": "fd6ee033",
   "metadata": {},
   "outputs": [],
   "source": [
    "from mattergen.evaluation.utils.logging import logger\n",
    "\n",
    "logger.setLevel(\"WARN\")  # reduce verbosity\n",
    "\n",
    "evaluator.compute_metrics(metrics=\"all\", pretty_print=True)"
   ]
  },
  {
   "cell_type": "markdown",
   "id": "5befdf42",
   "metadata": {},
   "source": [
    "Optimizing all of these metrics at the same time is difficult as many of them are conflicting. Fortunately, the user can prioritize certain metrics over others at sampling time: For example, using more denoising time steps will increase stability at the cost of diversity, increasing the guidance factor will increase adherence to the target properties at the cost of diversity and stability, etc."
   ]
  }
 ],
 "metadata": {
  "kernelspec": {
   "display_name": ".venv",
   "language": "python",
   "name": "python3"
  },
  "language_info": {
   "codemirror_mode": {
    "name": "ipython",
    "version": 3
   },
   "file_extension": ".py",
   "mimetype": "text/x-python",
   "name": "python",
   "nbconvert_exporter": "python",
   "pygments_lexer": "ipython3",
   "version": "3.10.12"
  }
 },
 "nbformat": 4,
 "nbformat_minor": 5
}
