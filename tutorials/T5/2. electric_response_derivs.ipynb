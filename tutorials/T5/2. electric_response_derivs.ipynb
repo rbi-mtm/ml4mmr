{
 "cells": [
  {
   "cell_type": "markdown",
   "id": "e548efd3b85a7c04",
   "metadata": {},
   "source": [
    "# Machine learning electric response"
   ]
  },
  {
   "cell_type": "code",
   "execution_count": null,
   "id": "9f5cc890c74e06eb",
   "metadata": {},
   "outputs": [],
   "source": "!pip install tensorial@git+https://github.com/camml-lab/tensorial.git@a129b31d2aa1feb0bc8b1eeb867d9207912689b7  e3response@git+https://github.com/camml-lab/e3response.git@92a02afa6923d0efda2f9c2173c6ca27f1980d59"
  },
  {
   "cell_type": "code",
   "execution_count": null,
   "id": "f5a653e195d90983",
   "metadata": {},
   "outputs": [],
   "source": [
    "DATA_URL = \"https://github.com/camml-lab/e3response/raw/refs/heads/tutorial-zadar/tutorial/data.zip\"\n",
    "\n",
    "import requests\n",
    "import zipfile\n",
    "import io\n",
    "\n",
    "response = requests.get(DATA_URL)\n",
    "response.raise_for_status()  # Check if the download was successful\n",
    "zip_file = zipfile.ZipFile(io.BytesIO(response.content))\n",
    "zip_file.extractall()  # Extract all the contents into the current directory"
   ]
  },
  {
   "cell_type": "code",
   "execution_count": null,
   "id": "initial_id",
   "metadata": {},
   "outputs": [],
   "source": [
    "import functools\n",
    "import e3response as e3r\n",
    "import e3nn_jax as e3j\n",
    "from flax import linen\n",
    "import jax.numpy as jnp\n",
    "import jaxtyping as jt\n",
    "import jraph\n",
    "from matplotlib import pyplot as plt\n",
    "import omegaconf\n",
    "import reax\n",
    "import tensorial\n",
    "import tensorial.typing as tt\n",
    "from tensorial import gcnn"
   ]
  },
  {
   "cell_type": "markdown",
   "id": "852402bfbe46c8b8",
   "metadata": {},
   "source": [
    "## Learning response properties using autograd"
   ]
  },
  {
   "cell_type": "markdown",
   "id": "920bc97ddc137d41",
   "metadata": {},
   "source": [
    "You may have noticed that the response properties are defined as derivatives of the energy with respect to various quantities so this raises the question: Can we make a model that does this too?  The answer is: *yes*, this is a great idea.\n",
    "\n",
    "To do this, we have to make a few modifications:\n",
    "1. The model now needs to predict the total energy, and,\n",
    "2. the model needs to be an explicit function of the external electric field (even if many of the derivatives are taken at zero field), otherwise any derivatives thereof will be zero!"
   ]
  },
  {
   "cell_type": "markdown",
   "id": "756ac9e20f3a95ae",
   "metadata": {},
   "source": [
    "We can do the former by adding the global electric field as a node attribute (in addition to the element which is also stored on the node):\n",
    "\n",
    "```yaml\n",
    "  - _target_: tensorial.gcnn.NodewiseEmbedding\n",
    "    attrs:\n",
    "      species:\n",
    "        _target_: tensorial.tensors.OneHot\n",
    "        num_classes: 3\n",
    "      globals.external_electric_field:\n",
    "        _target_: tensorial.tensors.SphericalHarmonic\n",
    "        irreps: 0e + 1o\n",
    "        normalise: True\n",
    "```\n",
    "\n",
    "the atomic species and global electric field (embedded as a spherical harmonic expansion up to $l=1$) will be concatenated to form the node attributes."
   ]
  },
  {
   "cell_type": "markdown",
   "id": "4ca2e2f1a7096803",
   "metadata": {},
   "source": [
    "For the latter, we do add the following:\n",
    "\n",
    "```yaml\n",
    "  - _target_: tensorial.gcnn.NodewiseLinear\n",
    "    irreps_out: 1x0e\n",
    "    out_field: predicted_energy # Per-atom energy\n",
    "\n",
    "  # Final total energy\n",
    "  - _target_: tensorial.gcnn.NodewiseReduce\n",
    "    field: predicted_energy\n",
    "    out_field: predicted_energy  # Global energy\n",
    "```\n",
    "\n",
    "whereby the model will predict energies for each atom, and then sum (reduce) to produce a global predicted energy."
   ]
  },
  {
   "cell_type": "markdown",
   "id": "42e33c845f2f8f7",
   "metadata": {},
   "source": [
    "Have a look at `model/nequip_deriv.yaml` to see all the details.\n",
    "\n",
    "We can calculate the Born effective charges using:\n",
    "\n",
    "$Z^{*}_{\\kappa,\\alpha\\beta} = \\Omega \\frac{\\partial P_{\\alpha}}{\\partial u_{\\kappa\\beta}}$\n",
    "\n",
    "where $\\Omega$ is the unit cell volume, and $u_{\\kappa\\beta}$ are the atomic positions.\n",
    "\n",
    "This module is a little complicated but if you take it step-by-step, I hope that it will make sense:\n",
    "\n",
    "```python\n",
    "class BornEffectiveCharges(linen.Module):\n",
    "    polarization_fn: gcnn.GraphFunction\n",
    "\n",
    "    def setup(self) -> None:\n",
    "        # Compute the Jacobian of polarization with respect to atomic positions\n",
    "        self._jacobian_fn = gcnn.jacobian(\n",
    "            of=f\"globals.predicted_polarization\",\n",
    "            wrt=f\"nodes.positions\",\n",
    "            has_aux=True,\n",
    "        )(self.polarization_fn)\n",
    "\n",
    "    def __call__(self, graph: jraph.GraphsTuple) -> jraph.GraphsTuple:\n",
    "        res = self._jacobian_fn(graph, graph.nodes[\"positions\"])\n",
    "        born_tensors: jt.Float[tt.ArrayType, \"κ α β\"] = res[0].swapaxes(0, 1)\n",
    "        graph: jraph.GraphsTuple = res[1]\n",
    "\n",
    "        if gcnn.keys.CELL in graph.globals:\n",
    "            omega = unit_cell_volumes(graph)\n",
    "            born_tensors = jax.vmap(jnp.multiply)(omega, born_tensors)\n",
    "\n",
    "        updates = gcnn.utils.UpdateGraphDicts(graph)\n",
    "        updates.nodes[\"predicted_born_charges\"] = born_tensors\n",
    "        return updates.get()\n",
    "```\n",
    "\n",
    "In `setup` we simply create a new function that takes the entire graph function up (`polarization_fn`) to that point and calculates the Jacobian by taking derivatives of the polarization with respect to positions.\n",
    "\n",
    "In `__call__` we actually calculate the derivatives and evaluate them at the current positions.  There's a little wrangling to get the indices in the right order, and then we're pretty much done...\n",
    "\n",
    "But wait...where do we get the polarizations from?"
   ]
  },
  {
   "cell_type": "markdown",
   "id": "9f27c5d6248eed92",
   "metadata": {},
   "source": [
    "b### 🧪 Task 1: Add a module to calculate the polarizations\n",
    "\n",
    "The polarizations can be calculated as:\n",
    "\n",
    "$P_{\\alpha} = -\\frac{1}{\\Omega} \\frac{\\partial E}{\\partial \\mathcal{E}_{\\alpha}}$\n",
    "\n",
    "where $E$ is the total energy, and $\\mathcal{E}$ is the electric field in the $i$ direction.\n",
    "\n",
    "✅ **What to do**:\n",
    "- Complete the code snippet below to write the module that will calculate the polarizations\n",
    "- Use your code from the previous notebook to calculate the RMSE difference between predictions and labels.\n",
    "- Perform a basic check on using some different hyperparameters, how low can you get your RMSE?\n",
    "\n",
    "\n",
    "In code, the module looks like this:\n",
    "\n",
    "```python\n",
    "\n",
    "```"
   ]
  },
  {
   "cell_type": "code",
   "execution_count": null,
   "id": "f08d0decc9f17819",
   "metadata": {},
   "outputs": [],
   "source": [
    "from flax import linen\n",
    "from tensorial import gcnn\n",
    "import jraph\n",
    "\n",
    "class Polarization(linen.Module):\n",
    "    energy_fn: gcnn.GraphFunction\n",
    "\n",
    "    def setup(self) -> None:\n",
    "        # Define the gradient of the energy wrt electric field function\n",
    "        self._grad_fn = gcnn.grad(\n",
    "            of=, # Add here the value we want to take the gradient with respect to\n",
    "            wrt=, # Add here the value we want to take the derivative with respect to\n",
    "            sign=-1,\n",
    "            has_aux=True,\n",
    "        )(self.energy_fn)\n",
    "\n",
    "    def __call__(self, graph: jraph.GraphsTuple) -> jraph.GraphsTuple:\n",
    "        polarizations, graphs = self._grad_fn(\n",
    "            graph,\n",
    "            # Add here what the value of the electric field to evaluate polarizations at\n",
    "        )\n",
    "        updates = gcnn.utils.UpdateGraphDicts(graph)\n",
    "        updates.globals[\"predicted_polarization\"] = polarizations\n",
    "        return updates.get()"
   ]
  },
  {
   "cell_type": "markdown",
   "id": "1bc8a7c3ceacf9a4",
   "metadata": {},
   "source": [
    "Now let's load it and try!"
   ]
  },
  {
   "cell_type": "code",
   "execution_count": null,
   "id": "89af2d23f55e620c",
   "metadata": {},
   "outputs": [],
   "source": [
    "R_MAX = 5.0\n",
    "\n",
    "cfg = omegaconf.OmegaConf.load(\"model/nequip_deriv.yaml\")\n",
    "cfg.r_max = R_MAX\n",
    "\n",
    "# Let our configuration know where it can find our polarization module\n",
    "cfg.polarization = {\"_target_\": \"__main__.Polarization\", \"_partial_\": True}\n",
    "\n",
    "module = tensorial.config.instantiate(cfg[\"module\"])"
   ]
  },
  {
   "cell_type": "code",
   "execution_count": null,
   "id": "7d8bdce064c9ed32",
   "metadata": {},
   "outputs": [],
   "source": [
    "datamodule = e3r.data.BtoDataModule(r_max=R_MAX, batch_size=4)\n",
    "trainer = reax.Trainer()"
   ]
  },
  {
   "cell_type": "code",
   "execution_count": null,
   "id": "e1c291378bac471d",
   "metadata": {},
   "outputs": [],
   "source": [
    "trainer.fit(module, datamodule=datamodule, max_epochs=10)"
   ]
  },
  {
   "cell_type": "code",
   "execution_count": null,
   "id": "85766ac94a0ba258",
   "metadata": {},
   "outputs": [],
   "source": [
    "trainer.current_epoch"
   ]
  },
  {
   "cell_type": "markdown",
   "id": "e62a31b2caad9593",
   "metadata": {},
   "source": [
    "### 🧪 Task 2: Analyse the performance of the trained model\n",
    "\n",
    "✅ **What to do**:\n",
    "- User your code from notebook 1 to plot the parity plots for the polarization.  🔍 **Hint**: You will find Born charges in the  `graph.nodes['born_charges']` and `graph.nodes['predicted_born_charges']` fields.\n",
    "- Use your code from the previous notebook to calculate the RMSE difference between predictions and labels.\n",
    "- Perform a basic check on using some different hyperparameters, how low can you get your RMSE?\n",
    "- How does the performance of this derivative based (physics informed) model differ from that of the direct model in the first notebook?"
   ]
  },
  {
   "cell_type": "markdown",
   "id": "fd0f23857aac3219",
   "metadata": {},
   "source": [
    "### Conclusion\n",
    "\n",
    "That's is!  Well done on getting this far.\n",
    "\n",
    "There is much more that we can do with `e3response` that we simply don't have time for in this tutorial.  One important step, would be to add temperature dependence.  We can do this by running molecular dynamics and predicting the tensorial quantities along the trajectory.  These can then be averaged to make a comparison with experiment under realistic conditions.\n",
    "\n",
    "If you're interested in going further, don't hesistate to reach out to me at martin.uhrin@grenoble-inp.fr"
   ]
  }
 ],
 "metadata": {
  "kernelspec": {
   "display_name": "Python 3",
   "language": "python",
   "name": "python3"
  },
  "language_info": {
   "codemirror_mode": {
    "name": "ipython",
    "version": 2
   },
   "file_extension": ".py",
   "mimetype": "text/x-python",
   "name": "python",
   "nbconvert_exporter": "python",
   "pygments_lexer": "ipython2"
  }
 },
 "nbformat": 4,
 "nbformat_minor": 5
}
