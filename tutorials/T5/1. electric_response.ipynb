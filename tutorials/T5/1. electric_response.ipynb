{
 "cells": [
  {
   "cell_type": "markdown",
   "id": "e548efd3b85a7c04",
   "metadata": {},
   "source": [
    "# Machine learning electric response"
   ]
  },
  {
   "cell_type": "markdown",
   "id": "c568e7b65f34a0d6",
   "metadata": {},
   "source": [
    "Install dependencies and import"
   ]
  },
  {
   "cell_type": "code",
   "execution_count": null,
   "id": "bfe7bace605280ff",
   "metadata": {},
   "outputs": [],
   "source": "!pip install tensorial@git+https://github.com/camml-lab/tensorial.git@a129b31d2aa1feb0bc8b1eeb867d9207912689b7  e3response@git+https://github.com/camml-lab/e3response.git@92a02afa6923d0efda2f9c2173c6ca27f1980d59"
  },
  {
   "cell_type": "code",
   "execution_count": null,
   "id": "29f7432adb2da933",
   "metadata": {},
   "outputs": [],
   "source": [
    "DATA_URL = \"https://github.com/camml-lab/e3response/raw/refs/heads/tutorial-zadar/tutorial/data.zip\"\n",
    "\n",
    "import requests\n",
    "import zipfile\n",
    "import io\n",
    "\n",
    "response = requests.get(DATA_URL)\n",
    "response.raise_for_status()  # Check if the download was successful\n",
    "zip_file = zipfile.ZipFile(io.BytesIO(response.content))\n",
    "zip_file.extractall()  # Extract all the contents into the current directory"
   ]
  },
  {
   "cell_type": "code",
   "execution_count": null,
   "id": "initial_id",
   "metadata": {},
   "outputs": [],
   "source": [
    "import e3response as e3r\n",
    "import e3nn_jax as e3j\n",
    "from matplotlib import pyplot as plt\n",
    "import omegaconf\n",
    "import reax\n",
    "import tensorial\n"
   ]
  },
  {
   "cell_type": "markdown",
   "id": "7c15b23a7c850dd2",
   "metadata": {},
   "source": [
    "## Direct learning of tensorial quantities"
   ]
  },
  {
   "cell_type": "markdown",
   "id": "306c87a7e2dd5c2f",
   "metadata": {},
   "source": [
    "To start the tutorial we will train a model that simply takes the atomic structure (represented as a graph) and learns to predict Born effective charges directly (without the need to predict or even consider the energy of the system).\n",
    "\n",
    "As a reminder, one way to calcualte the Born effective charge tensors is:\n",
    "\n",
    "$Z^{*}_{\\kappa, \\alpha \\beta} = \\frac{\\partial F_{\\kappa, \\alpha}}{\\partial \\mathcal{E}_\\beta}$\n",
    "\n",
    "Where $\\kappa$ is the atom index, $\\alpha$, $\\beta$ are the Cartesian dimension indices, $F$ is the force and $\\mathcal{E}$ is the electric field."
   ]
  },
  {
   "cell_type": "code",
   "execution_count": null,
   "id": "18c4820f382ea301",
   "metadata": {},
   "outputs": [],
   "source": [
    "R_MAX = 5.0  # The cutoff sphere radius"
   ]
  },
  {
   "cell_type": "markdown",
   "id": "44e94eea0a86e139",
   "metadata": {},
   "source": [
    "Here we will load the definition of our model from a YAML file, this makes reproducibility easier and gives us a central place where we can see how the model is build.  Have a look at the `model/nequip_tensors.yaml` file to see what's going on."
   ]
  },
  {
   "cell_type": "code",
   "execution_count": null,
   "id": "439500436890d2b1",
   "metadata": {},
   "outputs": [],
   "source": [
    "cfg = omegaconf.OmegaConf.load(\"model/nequip_tensors.yaml\")\n",
    "cfg[\"r_max\"] = R_MAX"
   ]
  },
  {
   "cell_type": "markdown",
   "id": "6dbb8b33a1d96c31",
   "metadata": {},
   "source": [
    "Let's look at the model's readout block, it is defined like this:\n",
    "\n",
    "```yaml\n",
    "# Per-atom Born effective charge tensor\n",
    "- _target_: tensorial.gcnn.NodewiseLinear\n",
    "  irreps_out: 1x0e + 1x1e + 1x2e\n",
    "  out_field: predicted_born_charges\n",
    "```\n",
    "\n",
    "The `NodewiseLinear` module will take the current features (stored in `nodes[\"features\"]`) and perform a learnable linear operation from the current feature irreps (in this case \"4x0e + 4x0o + 4x1e + 4x1o + 4x2e + 4x2o + 2x3o + 2x3e\") down to the irreps of the Born effective charge tensor and stores it in the `nodes.predicted_born_charges` field.\n",
    "\n",
    "In order to form the change-of-basis operation from a spherical harmonic basis to the famliar Cartesian basis we can use the `NodewiseDecoding` module as follows:\n",
    "\n",
    "\n",
    "```yaml\n",
    "- _target_: tensorial.gcnn.NodewiseDecoding\n",
    "  in_field: predicted_born_charges\n",
    "  attrs:\n",
    "    predicted_born_charges:\n",
    "      _target_: tensorial.CartesianTensor\n",
    "      formula: ij\n",
    "      i: 1o\n",
    "      j: 1o\n",
    "```\n",
    "\n",
    "The `formula` tells the module that the Born effective charge tensor is rank 2 (`ij`) and can be calculated as a Cartesian tensor product of between two vectors:\n",
    "\n",
    "\\begin{equation*}\n",
    "  \\left[\\begin{array}{>{\\columncolor{mpink!20}}c}\n",
    "      x_1 \\\\  y_1 \\\\  z_1\n",
    "    \\end{array}\\right]\n",
    "  \\otimes %\n",
    "  \\left[\\begin{array}{c}\n",
    "      x_2 \\\\  y_2 \\\\  z_2\n",
    "    \\end{array}\\right]  = %\n",
    "  \\left[ \\begin{array}{ccc}\n",
    "      x_1 x_2 & x_1 y_2 & x_1 z_2 \\\\\n",
    "      y_1 x_2 & y_1 y_2 & y_1 z_2 \\\\\n",
    "      z_1 x_2 & z_1 y_2 & z_1 z_2 \\\\\n",
    "    \\end{array} \\right]\n",
    "\\end{equation*}\n",
    "\n",
    "using this the `e3nn-jax` can be used to find the change-of-basis matrix.  The module will store the result in the `nodes.predicted_born_charges` field."
   ]
  },
  {
   "cell_type": "code",
   "execution_count": null,
   "id": "2eca82a27071377c",
   "metadata": {},
   "outputs": [],
   "source": [
    "module = tensorial.config.instantiate(cfg[\"module\"])"
   ]
  },
  {
   "cell_type": "markdown",
   "id": "a4481b6952f84b9",
   "metadata": {},
   "source": [
    "We now instantiate the `DataModule` class containing that will split the data into train/test/validation sets and create batches of a fixed size that fits into the memory that we have available."
   ]
  },
  {
   "cell_type": "code",
   "execution_count": null,
   "id": "49dbfcc8f39a1c0b",
   "metadata": {},
   "outputs": [],
   "source": [
    "datamodule = e3r.data.BtoDataModule(r_max=R_MAX, batch_size=16)"
   ]
  },
  {
   "cell_type": "markdown",
   "id": "48d91401fc309b69",
   "metadata": {},
   "source": [
    "We will be using the REAX library (similar to PyTorch Lightning, but for JAX) for training out model, this simplifies some things by providing a lot of the boilerplate code for us."
   ]
  },
  {
   "cell_type": "code",
   "execution_count": null,
   "id": "5024a6c4e0438eff",
   "metadata": {},
   "outputs": [],
   "source": [
    "trainer = reax.Trainer()"
   ]
  },
  {
   "cell_type": "markdown",
   "id": "26c7c00db8cef15d",
   "metadata": {},
   "source": [
    "Now we will use the Trainer's fit function to fit the EGNN.\n",
    "\n",
    "Notice that it takes some time before we see the progress bar start to move.  This is because JAX is compiling and optimising our code before executing it.  Once compiled the code will run _much_ faster, however if we change the shape of any of our arrays this will trigger a re-compilation so the `DataModule` uses a batcher to ensure they are all padded to the right size."
   ]
  },
  {
   "cell_type": "code",
   "execution_count": null,
   "id": "f1d415f45a47938e",
   "metadata": {},
   "outputs": [],
   "source": [
    "trainer.fit(module, datamodule=datamodule, max_epochs=100)"
   ]
  },
  {
   "cell_type": "markdown",
   "id": "b3c3ed83c7eaafe0",
   "metadata": {},
   "source": [
    "Now that our module is trained, we can use the `trainer.predict()` method to perform inference and get the predictions for the test set."
   ]
  },
  {
   "cell_type": "code",
   "execution_count": null,
   "id": "6fb9ed0c46b2d25",
   "metadata": {},
   "outputs": [],
   "source": [
    "predict = trainer.predict(module, dataloaders=datamodule.test_dataloader(), keep_predictions=True)"
   ]
  },
  {
   "cell_type": "code",
   "execution_count": null,
   "id": "77c1a2e1a5afea25",
   "metadata": {},
   "outputs": [],
   "source": [
    "len(predict.predictions)"
   ]
  },
  {
   "cell_type": "code",
   "execution_count": null,
   "id": "8ca4872da058bfa5",
   "metadata": {},
   "outputs": [],
   "source": [
    "first_batch = predict.predictions[0]\n",
    "print(first_batch._asdict().keys())"
   ]
  },
  {
   "cell_type": "code",
   "execution_count": null,
   "id": "8095d3995af84a17",
   "metadata": {},
   "outputs": [],
   "source": [
    "first_batch.nodes.keys()"
   ]
  },
  {
   "cell_type": "code",
   "execution_count": null,
   "id": "ba088c5a54b6fc94",
   "metadata": {},
   "outputs": [],
   "source": [
    "fig = plt.figure()\n",
    "ax = fig.add_subplot()\n",
    "ax.scatter(first_batch.nodes[\"born_charges\"], first_batch.nodes[\"predicted_born_charges\"])\n",
    "ax.axis(\"equal\")\n",
    "ax.set_xlabel(\"Born charges\")\n",
    "ax.set_ylabel(\"Predicted Born charges\");\n",
    "# plt.show()"
   ]
  },
  {
   "cell_type": "markdown",
   "id": "d155ed18f9239510",
   "metadata": {},
   "source": [
    "### 🧪 Task 1: Analyse the performance of the trained model\n",
    "\n",
    "We want a way to understand how well our model is performing on the 'unseen' test set.\n",
    "\n",
    "✅ **What to do**:\n",
    "- Extend the code above to make the parity plot show the data for _all_ batches.  🔍 **Hint**: You will need to loop over the results list in `predict.predictions`.\n",
    "- Write a function that calculates the mean absolute error (MAE) and root mean square error (RMSE) between the labels and the predicted Born charge tensors.  This will give us a way to quickly understand how well the model is performing."
   ]
  },
  {
   "cell_type": "markdown",
   "id": "1ce50b317c3a45e6",
   "metadata": {},
   "source": [
    "### 🧪 Task 2: Perform a hyperparameter optimisation\n",
    "\n",
    "Now that we can measure the performance of our model, let's see if we can improve the results.\n",
    "\n",
    "✅ **What to try**:\n",
    "- Try changing the cutoff radius `R_MAX`.  You could start by looking at values like 3Å, 4Å, etc.\n",
    "- Change the irreps used in the hidden layer, currently it is \"16x0o + 16x0e + 16x1o + 16x1e\" but you can change the multiplicities (16) or even introduce higher-degree irreps e.g. \" + 8x2o + 8x2e\""
   ]
  },
  {
   "cell_type": "markdown",
   "id": "3d726aba46c25676",
   "metadata": {},
   "source": [
    "### 🧪 Task 3: Add the ability to predict the Raman tensors\n",
    "\n",
    "For now, our model only predicts the Born effective charges, but we could also predict the Raman tensors. These can be calculated as:\n",
    "\n",
    "$R_{\\mu\\nu}^{(\\kappa\\lambda)} = \\frac{\\partial^3 E}{\\partial \\mathcal{E}_\\mu \\, \\partial \\mathcal{E}_\\nu \\, \\partial u_{\\kappa\\lambda}}$\n",
    "\n",
    "where $E$ is the energy of the system and $u$ are the atomic displacements.  We immediately see the following:\n",
    "\n",
    "* $R_{\\mu\\nu}^{(\\kappa\\lambda)}$ is a rank 3 tensor ($\\mu$, $\\nu$ and $\\lambda$),\n",
    "* it is calculated by taking derivatives with respect to vectors (as opposed to pseudo-vectors) $u$ and $E$,\n",
    "* and it has permutational symmetry in $\\mu$ and $\\nu$.\n",
    "\n",
    "✅ **What to try**:\n",
    "- Edit the `nequip_tensors.yaml` file to include a new `NodewiseLinear` readout module based on the Born effective charges example.  If you're not sure of the irreps that this tensor should have, you can always calculate them as follows:"
   ]
  },
  {
   "cell_type": "code",
   "execution_count": null,
   "id": "65d070d93d84ad98",
   "metadata": {},
   "outputs": [],
   "source": [
    "e3j.reduced_tensor_product_basis(\"ijk=jik\", i=\"1o\", j=\"1o\", k=\"1o\").irreps"
   ]
  },
  {
   "cell_type": "markdown",
   "id": "dfbcaf0d510a96cf",
   "metadata": {},
   "source": [
    "Where the formula \"ijk=jik\" is used to express the permutational symmetry of the Cartesian indices.\n",
    "\n",
    "✅ **What to try (ctnd.)**:\n",
    "- Add a `NodewiseDecoding` block to convert the spherical harmonic representation back to a Cartesian one.\n",
    "- Add a term in your loss function to take into account the Raman tensors. 🔍 **Hint**: `loss_fns` contains a list where each entry starts with `-` and so you can add a new loss term based on the Born effective charges.  The target tensors are already there for you in `nodes.raman_tensors` you just need to add the field where you store predictions.  Furthermore, you will need to add a term to the `weights` list.  The values of the Raman tensors are about 1000 times lower than the BECs.\n",
    "- Now, train you model, do you get the performance you expected?  Has the result gotten worse for the Born effective chrarges?"
   ]
  },
  {
   "cell_type": "code",
   "execution_count": null,
   "id": "e5b4fd396b216859",
   "metadata": {},
   "outputs": [],
   "source": []
  }
 ],
 "metadata": {
  "kernelspec": {
   "display_name": "Python 3",
   "language": "python",
   "name": "python3"
  },
  "language_info": {
   "codemirror_mode": {
    "name": "ipython",
    "version": 2
   },
   "file_extension": ".py",
   "mimetype": "text/x-python",
   "name": "python",
   "nbconvert_exporter": "python",
   "pygments_lexer": "ipython2"
  }
 },
 "nbformat": 4,
 "nbformat_minor": 5
}
