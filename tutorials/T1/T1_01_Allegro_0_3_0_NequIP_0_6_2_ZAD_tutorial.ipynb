{
 "cells": [
  {
   "cell_type": "markdown",
   "metadata": {
    "cellView": "form",
    "colab": {
     "base_uri": "https://localhost:8080/",
     "height": 718
    },
    "id": "o2P3IyYHZ-mD",
    "outputId": "2d68ca8e-4576-45ab-8e7f-5d28131d17a0"
   },
   "source": [
    "# Introduction\n",
    "<!-- Banner -->\n",
    "<div style=\"background-color:#DCE9F8; border-radius:10px; padding:20px; display:flex; align-items:center; justify-content:space-between; margin-bottom:20px;\">\n",
    "\n",
    "  <!-- Centered Title -->\n",
    "  <div style=\"flex:1; text-align:center;\">\n",
    "    <h1 style=\"margin:0; font-size:5rem; color:#1E4D9D;\">NequIP/Allegro 0.6.2/0.3.0 Zadar Tutorial</h1>\n",
    "  </div>\n",
    "\n",
    "  <!-- Right-aligned Logo -->\n",
    "  <div style=\"flex:1; text-align:center;\">\n",
    "    <img src=\"https://github.com/mir-group/nequip/blob/main/logo.png?raw=true\" style=\"width:300px;\">\n",
    "  </div>\n",
    "</div>\n",
    "\n",
    "<!-- Tutorial Introduction -->\n",
    "<div style=\"background-color:#ffffff; border-left:0px solid #3C82E3; border-radius:10px; padding:0px; font-size:1.1rem; color:#1E4D9D; margin-bottom:20px;\">\n",
    "  <h2 style=\"margin-top:0; font-size:2rem; color:#3C82E3;\">Introduction</h2>\n",
    "  <p>This is a tutorial for <b><code>NequIP</code></b>, an architecture for building highly accurate and scalable Machine Learning Interatomic Potentials (MLIPs) and deploy them in production simulations. The ideas are described in <a href=\"https://www.nature.com/articles/s41467-022-29939-5\" target=\"_blank\" style=\"color:#3C82E3; text-decoration:none;\">E(3)-equivariant graph neural networks for data-efficient and accurate interatomic potentials</a>. <b><code>NequIP</code></b> is available as an open-source package <a href=\"https://github.com/mir-group/allegro\" target=\"_blank\" style=\"color:#3C82E3; text-decoration:none;\"> HERE</a>. This tutorial serves as a simple introduction to the <b><code>NequIP</code></b> code. </p>\n",
    "</div>\n",
    "\n",
    "<!-- Contents Section -->\n",
    "<div style=\"background-color:#ffffff; border-left:0px solid #3C82E3; border-radius:10px; padding:0px; margin-bottom:20px;\">\n",
    "  <h2 style=\"margin-top:0; font-size:2rem; color:#3C82E3;\">Contents</h2>\n",
    "  <p style=\"font-size:1.1rem; color:#1E4D9D;\">\n",
    "    This tutorial will walk you through:\n",
    "  </p>\n",
    "  <ul style=\"list-style:disc; padding-left:20px; font-size:1.1rem; color:#1E4D9D;\">\n",
    "    <li style=\"margin-bottom:10px;\">\n",
    "        <b>Train</b>: Train a neural network potential using a simple dataset.\n",
    "    </li>\n",
    "    <li style=\"margin-bottom:10px;\">\n",
    "        <b>Deploy</b>: Convert the Python-based model into a stand-alone potential file optimized for fast execution.\n",
    "    </li>\n",
    "    <li style=\"margin-bottom:10px;\">\n",
    "        <b>Run</b>: Use the trained model to perform tasks such as MD in <b><code>LAMMPS</code></b>.\n",
    "    </li>\n",
    "    <!-- <li style=\"margin-bottom:10px;\">\n",
    "        <b>(Optional) Extend the model with custom code</b>\n",
    "    </li> -->\n",
    "</ul>\n",
    "\n",
    "  <p style=\"font-size:1.1rem; color:#1E4D9D;\">\n",
    "    Everything will happen in this Notebook. We're ready to get started!\n",
    "  </p>\n",
    "</div>\n"
   ]
  },
  {
   "cell_type": "markdown",
   "metadata": {
    "cellView": "form",
    "colab": {
     "base_uri": "https://localhost:8080/",
     "height": 358
    },
    "id": "yTuIU5nxrh9v",
    "outputId": "8afa5f21-2fe9-4ac3-b92c-0f9371445260"
   },
   "source": [
    "# Setup\n",
    "\n",
    "<div style=\"background-color:#ffffff; border-left: 0px solid #3C82E3; border-radius: 5px; padding: 0px; margin-bottom: 20px; font-size: 1.1rem; color:#333;\">\n",
    "\n",
    "  <!-- Title -->\n",
    "  <h2 style=\"margin-top: 0; font-size: 2rem; color: #3C82E3;\">⚙️ Setup</h2>\n",
    "\n",
    "  <!-- Introduction -->\n",
    "  <p style=\"margin-bottom: 10px;\">\n",
    "    The following tools are used throughout the tutorial.\n",
    "  </p>\n",
    "\n",
    "  <!-- List of Tools -->\n",
    "  <ul style=\"list-style: disc; padding-left: 10px;\">\n",
    "    <li style=\"margin-bottom: 5px;\"><b>NequIP</b></li>\n",
    "    <li style=\"margin-bottom: 5px;\"><b>pair-nequip</b></li>\n",
    "    <li style=\"margin-bottom: 5px;\"><b>LAMMPS</b></li>\n",
    "  </ul>\n",
    "\n",
    "</div>"
   ]
  },
  {
   "cell_type": "code",
   "execution_count": null,
   "metadata": {},
   "outputs": [],
   "source": [
    "import wandb"
   ]
  },
  {
   "cell_type": "code",
   "execution_count": null,
   "metadata": {
    "id": "3gJEotU5weYX"
   },
   "outputs": [],
   "source": [
    "%%capture\n",
    "\n",
    "## set anonymous WandB\n",
    "import os\n",
    "os.environ[\"WANDB_ANONYMOUS\"] = \"must\""
   ]
  },
  {
   "cell_type": "markdown",
   "metadata": {
    "cellView": "form",
    "colab": {
     "base_uri": "https://localhost:8080/",
     "height": 116
    },
    "id": "QY-yrv4PfBhg",
    "outputId": "66ce5c3e-ba71-4f33-82e8-8dde775851e6"
   },
   "source": [
    "# Your first model - a test\n",
    "<div style=\"background-color:#ffffff; border-left: 0px solid #3C82E3; border-radius: 5px; padding: 0px; margin-bottom: 20px; font-size: 1.1rem; color:#333;\">\n",
    "\n",
    "  <!-- Title -->\n",
    "  <h2 style=\"margin-top: 0; font-size: 2rem; color: #3C82E3;\">🦾 Let's see if the installation went fine, let's train our first (minimal) model!</h2>\n",
    "\n",
    "</div>"
   ]
  },
  {
   "cell_type": "code",
   "execution_count": null,
   "metadata": {
    "colab": {
     "base_uri": "https://localhost:8080/",
     "height": 300
    },
    "id": "fO_G7ywhf044",
    "outputId": "053f5be1-2553-4885-c5df-0c0d702bcc6a"
   },
   "outputs": [],
   "source": [
    "%%bash\n",
    "\n",
    "# activate conda environment to access the nequip-train command\n",
    "source /opt/conda/bin/activate base && conda activate T1\n",
    "\n",
    "## minimal - runtime ~1min\n",
    "\n",
    "# if we are running this cell (first train) start from scratch and re-download everything\n",
    "if [ -d \"results\" ]; then rm -rf results; fi\n",
    "if [ -d \"benchmark_data\" ]; then rm -rf benchmark_data; fi\n",
    "if [ -e \"test_1_out.txt\" ]; then rm -r test_1_out.txt; fi\n",
    "\n",
    "# print help for the nequip-train command\n",
    "#nequip-train --help\n",
    "\n",
    "# run allegro\n",
    "nequip-train allegro/configs/minimal.yaml &> test_1_out.txt"
   ]
  },
  {
   "cell_type": "code",
   "execution_count": null,
   "metadata": {},
   "outputs": [],
   "source": [
    "# Tail the final lines of the output\n",
    "!tail -n 7 test_1_out.txt"
   ]
  },
  {
   "cell_type": "markdown",
   "metadata": {
    "cellView": "form",
    "colab": {
     "base_uri": "https://localhost:8080/",
     "height": 191
    },
    "id": "JKUrhdujl3CB",
    "outputId": "5bffb59b-b9e0-427e-b5e4-209139ee3203"
   },
   "source": [
    "# Let's upgrade the model\n",
    "<div style=\"background-color:#ffffff; border-left: 0px solid #3C82E3; border-radius: 5px; padding: 0px; margin-bottom: 20px; font-size: 1.1rem; color:#333;\">\n",
    "\n",
    "  <!-- Title -->\n",
    "  <h2 style=\"margin-top: 0; font-size: 2rem; color: #3C82E3;\">Let's tweak the example file</h2>\n",
    "\n",
    "  <!-- Introduction -->\n",
    "  <p style=\"margin-bottom: 10px;\">\n",
    "    Let's take a look at the final metrics and exit condition. Can we improve?\n",
    "  </p>\n",
    "\n",
    "  <!-- List of Tools -->\n",
    "  <ul style=\"list-style: disc; padding-left: 10px;\">\n",
    "    <li style=\"margin-bottom: 5px;\">We can try to boost up the maximum iteration.</li>\n",
    "    <li style=\"margin-bottom: 5px;\">What about model angular descriptive power?</li>\n",
    "    <li style=\"margin-bottom: 5px;\">Any other suggestions?</li>\n",
    "  </ul>\n",
    "\n",
    "</div>"
   ]
  },
  {
   "cell_type": "code",
   "execution_count": null,
   "metadata": {
    "colab": {
     "base_uri": "https://localhost:8080/"
    },
    "id": "Dt5-V0E1u0oO",
    "outputId": "602b0898-0a2c-47ac-83f5-0120264600d5"
   },
   "outputs": [],
   "source": [
    "!cat allegro/configs/minimal.yaml | grep -e \"l_max\" -e \"max_epochs\" -e \"num_layers\" -e \"num_tensor_features\" -e \"num_bessels_per_basis\""
   ]
  },
  {
   "cell_type": "code",
   "execution_count": null,
   "metadata": {
    "colab": {
     "base_uri": "https://localhost:8080/"
    },
    "id": "TkSzTcritEII",
    "outputId": "463cf3f5-d6fe-4519-80f6-09883fca01f7"
   },
   "outputs": [],
   "source": [
    "%%bash\n",
    "\n",
    "variable_1_Lmax=\"2\"                             # originally 1\n",
    "variable_2_epochsmax=\"20\"                       # originally 10\n",
    "variable_3_nlayers=\"3\"                          # originally 2\n",
    "variable_4_tensor_features=\"32\"                 # originally 32\n",
    "variable_5_r_basis=\"8\"                          # originally 8\n",
    "variable_6_batch=\"1\"                            # originally 1\n",
    "\n",
    "## arch update needed\n",
    "variable_7_resnet_update=\"[1.0, 1.0, 1.0, 1.0]\" # originally size 3 vec\n",
    "\n",
    "awk '{ \\\n",
    "  if ($0 ~ /root:/) { sub(/root:.*/, \"root: results/aspirin_boosted\") }; \\\n",
    "  if ($0 ~ /run_name:/) { sub(/run_name:.*/, \"run_name: aspirin_boosted\") }; \\\n",
    "  if ($0 ~ /l_max:/) { sub(/l_max:.*/, \"l_max: '\"$variable_1_Lmax\"'\") }; \\\n",
    "  if ($0 ~ /max_epochs:/) { sub(/max_epochs:.*/, \"max_epochs: '\"$variable_2_epochsmax\"'\") }; \\\n",
    "  if ($0 ~ /num_layers:/) { sub(/num_layers:.*/, \"num_layers: '\"$variable_3_nlayers\"'\") }; \\\n",
    "  if ($0 ~ /num_tensor_features:/) { sub(/num_tensor_features:.*/, \"num_tensor_features: '\"$variable_4_tensor_features\"'\") }; \\\n",
    "  if ($0 ~ /num_bessels_per_basis:/) { sub(/num_bessels_per_basis:.*/, \"num_bessels_per_basis: '\"$variable_5_r_basis\"'\") }; \\\n",
    "  if ($0 ~ /batch_size:/) { sub(/batch_size:.*/, \"batch_size: '\"$variable_6_batch\"'\") }; \\\n",
    "  if ($0 ~ /latent_resnet_coefficients:/) { sub(/latent_resnet_coefficients:.*/, \"latent_resnet_coefficients: '\"$variable_7_resnet_update\"'\") }; \\\n",
    "  print \\\n",
    "}' allegro/configs/minimal.yaml > allegro/configs/minimal_boosted.yaml"
   ]
  },
  {
   "cell_type": "code",
   "execution_count": null,
   "metadata": {
    "colab": {
     "base_uri": "https://localhost:8080/",
     "height": 300
    },
    "id": "nMHssXtzvpWH",
    "outputId": "2c2362a8-f395-4ddf-c075-c4151837a2cb"
   },
   "outputs": [],
   "source": [
    "%%bash\n",
    "\n",
    "# activate conda environment to access the nequip-train command\n",
    "source /opt/conda/bin/activate base && conda activate T1\n",
    "\n",
    "## minimal_boosted - runtime ~3min\n",
    "\n",
    "aspirin_boosted_path=\"results/aspirin_boosted\"\n",
    "if [ -d \"$aspirin_boosted_path\" ]; then rm -rf $aspirin_boosted_path; fi\n",
    "if [ -e \"test_2_out.txt\" ]; then rm -r test_2_out.txt; fi\n",
    "\n",
    "# run allegro\n",
    "nequip-train allegro/configs/minimal_boosted.yaml &> test_2_out.txt"
   ]
  },
  {
   "cell_type": "code",
   "execution_count": null,
   "metadata": {},
   "outputs": [],
   "source": [
    "# Tail the final lines of the output\n",
    "!tail -n 7 test_2_out.txt"
   ]
  },
  {
   "cell_type": "markdown",
   "metadata": {
    "cellView": "form",
    "colab": {
     "base_uri": "https://localhost:8080/",
     "height": 186
    },
    "id": "ujfkaGqWBm-7",
    "outputId": "c7976dd2-ece9-44d3-9066-0fceed286b77"
   },
   "source": [
    "# Let's make ending training smarter\n",
    "<div style=\"background-color:#ffffff; border-left: 0px solid #3C82E3; border-radius: 5px; padding: 0px; margin-bottom: 20px; font-size: 1.1rem; color:#333;\">\n",
    "\n",
    "  <!-- Title -->\n",
    "  <h2 style=\"margin-top: 0; font-size: 2rem; color: #3C82E3;\">Let's make training smarter</h2>\n",
    "\n",
    "  <!-- Introduction -->\n",
    "  <p style=\"margin-bottom: 10px;\">\n",
    "    Notice that as it stands, the training is not very smart, i.e., it goes brutally to the max number of epochs. Can we improve?\n",
    "  </p>\n",
    "\n",
    "  <!-- List of Tools -->\n",
    "  <ul style=\"list-style: disc; padding-left: 10px;\">\n",
    "    <li style=\"margin-bottom: 5px;\"><b>Important notion</b>: lowering learning rate on plateau.</li>\n",
    "    <li style=\"margin-bottom: 5px;\">Loss function is focusing only on forces.</li>\n",
    "  </ul>\n",
    "\n",
    "</div>"
   ]
  },
  {
   "cell_type": "code",
   "execution_count": null,
   "metadata": {
    "colab": {
     "base_uri": "https://localhost:8080/"
    },
    "id": "Ugxfn2n8DCYQ",
    "outputId": "c5f75d23-051e-4d15-f031-90f2b8142862"
   },
   "outputs": [],
   "source": [
    "%%bash\n",
    "\n",
    "## let's update the loss function to include forces AND energies, and weight them \"appropriately\"\n",
    "loss_lines=\"\\n  forces: 1.\\n  total_energy:\\n    - 1.\\n    - PerAtomMSELoss\"\n",
    "\n",
    "## change LR on plateau\n",
    "lr_scheduler_lines=\"\\n#LR Scheduler\\nlr_scheduler_name: ReduceLROnPlateau\\nlr_scheduler_patience: 3\\nlr_scheduler_factor: 0.5\"\n",
    "\n",
    "## since we are at it, let's add some early stopping flags\n",
    "## walltime (10 mins)\n",
    "walltime_lines=\"\\n#Early stopping based on walltime\\nearly_stopping_upper_bounds:\\n  cumulative_wall: 600.\"\n",
    "## LR dropping below 1e-5\n",
    "LR_lower_bound_lines=\"\\n#Early stopping based on LR reduction\\nearly_stopping_lower_bounds:\\n  LR: 1.0e-5\"\n",
    "## no patience on no improvement in val loss\n",
    "val_loss_impatience_lines=\"\\n#Early stopping based on val loss\\nearly_stopping_patiences:\\n  validation_loss: 100\"\n",
    "\n",
    "variable_2_epochsmax=\"100\"                       # originally 10, then 20, now 100\n",
    "\n",
    "awk '{ \\\n",
    "  if ($0 ~ /root:/) { sub(/root:.*/, \"root: results/aspirin_boosted_smarter\") }; \\\n",
    "  if ($0 ~ /run_name:/) { sub(/run_name:.*/, \"run_name: aspirin_boosted_smarter\") }; \\\n",
    "  if ($0 ~ /loss_coeffs:/) { sub(/loss_coeffs:.*/, \"loss_coeffs: '\"$loss_lines\"'\") }; \\\n",
    "  if ($0 ~ /max_epochs:/) { sub(/max_epochs:.*/, \"max_epochs: '\"$variable_2_epochsmax\"'\") }; \\\n",
    "  print \\\n",
    "}' allegro/configs/minimal_boosted.yaml > allegro/configs/minimal_boosted_smarter.yaml\n",
    "\n",
    "echo -e $lr_scheduler_lines >> allegro/configs/minimal_boosted_smarter.yaml\n",
    "echo -e $walltime_lines >> allegro/configs/minimal_boosted_smarter.yaml\n",
    "echo -e $LR_lower_bound_lines >> allegro/configs/minimal_boosted_smarter.yaml\n",
    "echo -e $val_loss_impatience_lines >> allegro/configs/minimal_boosted_smarter.yaml"
   ]
  },
  {
   "cell_type": "code",
   "execution_count": null,
   "metadata": {
    "colab": {
     "base_uri": "https://localhost:8080/",
     "height": 300
    },
    "id": "jyjL8lXmHSgC",
    "outputId": "e57a0259-f830-4cb9-df58-9176ca30a972"
   },
   "outputs": [],
   "source": [
    "%%bash\n",
    "\n",
    "# activate conda environment to access the nequip-train command\n",
    "source /opt/conda/bin/activate base && conda activate T1\n",
    "\n",
    "## minimal_boosted_smarter - runtime ~Xmin\n",
    "\n",
    "aspirin_boosted_smarter_path=\"results/aspirin_boosted_smarter\"\n",
    "if [ -d \"$aspirin_boosted_smarter_path\" ]; then rm -r $aspirin_boosted_smarter_path; fi\n",
    "if [ -e \"test_3_out.txt\" ]; then rm -r test_3_out.txt; fi\n",
    "\n",
    "# run allegro\n",
    "nequip-train allegro/configs/minimal_boosted_smarter.yaml &> test_3_out.txt"
   ]
  },
  {
   "cell_type": "code",
   "execution_count": null,
   "metadata": {
    "colab": {
     "base_uri": "https://localhost:8080/"
    },
    "id": "k6XQSTHZxaAs",
    "outputId": "f6306b55-4114-4df5-a871-d5c3c26a30f0"
   },
   "outputs": [],
   "source": [
    "# Tail the final lines of the output\n",
    "!tail -n 7 test_3_out.txt"
   ]
  },
  {
   "cell_type": "markdown",
   "metadata": {
    "cellView": "form",
    "colab": {
     "base_uri": "https://localhost:8080/",
     "height": 77
    },
    "id": "ceK7HCEqxoYI",
    "outputId": "ebc8bf83-01c7-40c3-80a9-4e080ff8eda4"
   },
   "source": [
    "# Let's plot\n",
    "<div style=\"background-color:#ffffff; border-left: 0px solid #3C82E3; border-radius: 5px; padding: 0px; margin-bottom: 20px; font-size: 1.1rem; color:#333;\">\n",
    "\n",
    "  <!-- Title -->\n",
    "  <h2 style=\"margin-top: 0; font-size: 2rem; color: #3C82E3;\">Let's plot the validation of our trainings!</h2>\n",
    "\n",
    "</div>"
   ]
  },
  {
   "cell_type": "code",
   "execution_count": null,
   "metadata": {
    "colab": {
     "base_uri": "https://localhost:8080/",
     "height": 507
    },
    "id": "l9Sgnnjr4vVA",
    "outputId": "3ad823d5-c449-4e6c-80be-0327b66d45b0"
   },
   "outputs": [],
   "source": [
    "import numpy as np\n",
    "import matplotlib.pyplot as plt\n",
    "\n",
    "logfiles = [\"test_1_out.txt\", \"test_2_out.txt\", \"test_3_out.txt\"]\n",
    "what_we_want = [\"Epoch\", \"f_mae\"]\n",
    "\n",
    "def get_val_metrics(logfile_name, what_we_want_array):\n",
    "  extracted_validation_data = {col: [] for col in what_we_want_array}\n",
    "\n",
    "  with open(logfile) as f:\n",
    "    data = f.readlines()\n",
    "    data = np.array([x.split() for x in data if \"Validation\" in x.split() or \"Train\" in x.split()][1:])\n",
    "\n",
    "    for wanted in what_we_want_array:\n",
    "      index_wanted = np.where(data[0,:] == wanted)[0][0].astype(int)\n",
    "      extracted_validation_data[wanted] = data[2::3][:,index_wanted]\n",
    "\n",
    "  return extracted_validation_data\n",
    "\n",
    "fig, axs = plt.subplots(1, 3, figsize=(15, 5), sharex=True, sharey=True)\n",
    "for idx, logfile in enumerate(logfiles):\n",
    "\n",
    "  data = get_val_metrics(logfile, what_we_want)\n",
    "  epochs = data[\"Epoch\"].astype(int)\n",
    "  f_mae = data[\"f_mae\"].astype(float)\n",
    "  axs[idx].semilogy(epochs, f_mae)\n",
    "\n",
    "  axs[idx].set_xlabel(\"Epoch\")\n",
    "  axs[idx].set_ylabel(\"Validation f_mae\")\n",
    "  axs[idx].set_title(f\"Validation f_mae from {logfile}\")\n",
    "\n",
    "plt.tight_layout()\n",
    "plt.show()"
   ]
  },
  {
   "cell_type": "code",
   "execution_count": null,
   "metadata": {
    "colab": {
     "base_uri": "https://localhost:8080/",
     "height": 88
    },
    "id": "lpbURH4VLYPD",
    "outputId": "9de4d018-6137-4aaf-a826-4fc089c16f86"
   },
   "outputs": [],
   "source": [
    "%%bash\n",
    "\n",
    "# activate conda environment to access the nequip-train command\n",
    "source /opt/conda/bin/activate base && conda activate T1\n",
    "\n",
    "## minimal_boosted_smarter - runtime ~3min\n",
    "\n",
    "rm -rf ./results/silicon-tutorial\n",
    "nequip-train ./Si_info/Si_tutorial.yaml &> Si_tutorial_out.txt"
   ]
  },
  {
   "cell_type": "code",
   "execution_count": null,
   "metadata": {},
   "outputs": [],
   "source": [
    "# tail the final lines of the output\n",
    "!tail -n 100 Si_tutorial_out.txt"
   ]
  },
  {
   "cell_type": "markdown",
   "metadata": {
    "cellView": "form",
    "colab": {
     "base_uri": "https://localhost:8080/",
     "height": 191
    },
    "id": "TmoFoIzNBy-a",
    "outputId": "86b8fdaa-45d0-4ced-fb26-04dda730e79f"
   },
   "source": [
    "# Let's lmp\n",
    "<div style=\"background-color:#ffffff; border-left: 0px solid #3C82E3; border-radius: 5px; padding: 0px; margin-bottom: 20px; font-size: 1.1rem; color:#333;\">\n",
    "\n",
    "  <!-- Title -->\n",
    "  <h2 style=\"margin-top: 0; font-size: 2rem; color: #3C82E3;\">Let's LAMMPS!</h2>\n",
    "\n",
    "  <!-- Introduction -->\n",
    "  <p style=\"margin-bottom: 10px;\">\n",
    "    We will be doing the following three things:\n",
    "  </p>\n",
    "\n",
    "  <!-- List of Tools -->\n",
    "  <ul style=\"list-style: disc; padding-left: 10px;\">\n",
    "    <li style=\"margin-bottom: 5px;\">Deploy (compile) the learned model.</li>\n",
    "    <li style=\"margin-bottom: 5px;\">Generate files for LAMMPS</li>\n",
    "    <li style=\"margin-bottom: 5px;\">Run!</li>\n",
    "  </ul>\n",
    "\n",
    "</div>"
   ]
  },
  {
   "cell_type": "code",
   "execution_count": null,
   "metadata": {
    "colab": {
     "base_uri": "https://localhost:8080/"
    },
    "id": "jwJqY1ZxBcco",
    "outputId": "bb63a356-ed54-4c46-f92e-480bae5e8d68"
   },
   "outputs": [],
   "source": [
    "%%bash\n",
    "\n",
    "# activate conda environment to access the nequip-deploy command\n",
    "source /opt/conda/bin/activate base && conda activate T1\n",
    "\n",
    "# deploy\n",
    "nequip-deploy build --train-dir results/silicon-tutorial/Si-tutorial si-deployed.pth"
   ]
  },
  {
   "cell_type": "code",
   "execution_count": null,
   "metadata": {
    "id": "iwL8WqB3CQHo"
   },
   "outputs": [],
   "source": [
    "# info for lammps\n",
    "\n",
    "# 1: the structure\n",
    "from ase.io import read, write\n",
    "from os import system\n",
    "\n",
    "Si_str_start = read('./Si_info/sitraj.extxyz', index=0)\n",
    "system(f\"mkdir ./Si_run\")\n",
    "write('./Si_run/si.data', Si_str_start, format='lammps-data')\n",
    "\n",
    "# 2: the input file\n",
    "lammps_input = \"\"\"\n",
    "units\tmetal\n",
    "atom_style atomic\n",
    "dimension 3\n",
    "\n",
    "# set newton on for pair_allegro (off for pair_nequip)\n",
    "newton on\n",
    "boundary p p p\n",
    "read_data ./si.data\n",
    "\n",
    "# let's make it bigger\n",
    "replicate 3 3 3\n",
    "\n",
    "# allegro pair style\n",
    "pair_style\tallegro\n",
    "pair_coeff\t* * ../si-deployed.pth Si\n",
    "\n",
    "mass 1 28.0855\n",
    "\n",
    "velocity all create 300.0 1234567 loop geom\n",
    "\n",
    "neighbor 1.0 bin\n",
    "neigh_modify delay 5 every 1\n",
    "\n",
    "timestep 0.001\n",
    "thermo 10\n",
    "\n",
    "# nose-hoover thermostat, 300K\n",
    "fix  1 all nvt temp 300 300 $(100*dt)\n",
    "\n",
    "# compute rdf and average after some equilibration\n",
    "comm_modify cutoff 7.0\n",
    "compute rdfall all rdf 1000 cutoff 5.0\n",
    "fix 2 all ave/time 1 2500 5000 c_rdfall[*] file si.rdf mode vector\n",
    "\n",
    "# run 5ps\n",
    "run 5000\n",
    "\"\"\"\n",
    "with open(\"Si_run/si_rdf.in\", \"w\") as f:\n",
    "    f.write(lammps_input)"
   ]
  },
  {
   "cell_type": "code",
   "execution_count": null,
   "metadata": {
    "colab": {
     "base_uri": "https://localhost:8080/",
     "height": 300
    },
    "id": "v29WCb73DZ2J",
    "outputId": "8ff9fe31-9252-4665-8eea-2ac593e133a2"
   },
   "outputs": [],
   "source": [
    "## runtime ~3min\n",
    "\n",
    "# 3: run lammps!\n",
    "# note: change LAMMPS path below if needed\n",
    "\n",
    "!cd ./Si_run && /opt/lammps/build/lmp -in si_rdf.in"
   ]
  },
  {
   "cell_type": "code",
   "execution_count": null,
   "metadata": {
    "colab": {
     "base_uri": "https://localhost:8080/",
     "height": 771
    },
    "id": "bpzaaRXtEjLL",
    "outputId": "f62c78a0-b011-4b1d-dd1f-af07523a8e9c"
   },
   "outputs": [],
   "source": [
    "import numpy as np\n",
    "import matplotlib.pyplot as plt\n",
    "\n",
    "!gdown --no-cookies 1aa2Kga_w-Zcw6BsmzJqH67NPcVwgHPS- --output Si_exp_1.txt\n",
    "!mv ./Si_exp_1.txt Si_run/\n",
    "\n",
    "with open(\"./Si_run/si.rdf\", \"r\") as f:\n",
    "    data_allegro = f.readlines()\n",
    "    data_allegro = np.array([x.split() for x in data_allegro[4:]]).astype(float)\n",
    "\n",
    "with open(\"./Si_info/Si_exp_1.txt\", \"r\") as f:\n",
    "    data_exp = f.readlines()\n",
    "    data_exp = np.array([x.split() for x in data_exp[3:]]).astype(float)\n",
    "\n",
    "plt.figure(figsize=(15,8))\n",
    "plt.plot(data_allegro[:,1], data_allegro[:,2], label=\"Si, Allegro, $T=300K$\")\n",
    "plt.plot(data_exp[:,0], data_exp[:,1], label=\"Si, some Exp\")\n",
    "\n",
    "plt.xlim(1.5, 4.0)\n",
    "plt.xlabel('r [$\\AA$]')\n",
    "plt.ylabel('g(r)')\n",
    "plt.legend(loc='upper right')\n",
    "plt.show()"
   ]
  }
 ],
 "metadata": {
  "accelerator": "GPU",
  "colab": {
   "gpuType": "T4",
   "provenance": []
  },
  "kernelspec": {
   "display_name": "T1",
   "language": "python",
   "name": "t1"
  },
  "language_info": {
   "codemirror_mode": {
    "name": "ipython",
    "version": 3
   },
   "file_extension": ".py",
   "mimetype": "text/x-python",
   "name": "python",
   "nbconvert_exporter": "python",
   "pygments_lexer": "ipython3",
   "version": "3.13.3"
  }
 },
 "nbformat": 4,
 "nbformat_minor": 4
}
