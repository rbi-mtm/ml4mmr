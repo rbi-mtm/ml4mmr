{
 "cells": [
  {
   "cell_type": "markdown",
   "id": "22688575",
   "metadata": {},
   "source": [
    "# Tutorial 1 – SPaiNN Database\n",
    "\n",
    "This tutorial describes how data needs to be prepared and stored in order to be used with **SPaiNN**. \n",
    "If you are using SHARC to generate data or already have an existing database for SchNarc this step is simple and straight forward. \n",
    "If you generate your data with other tools you might have to create a custom script to convert the data in the correct form. For latter you find a description on how data needs to be prepared in this tutorial.\n",
    "\n",
    "The data pipeline of **SpaiNN** mainly consists of DatabaseUtils and involves the creation of a database using the ``GenerateDB`` class or the conversion of existing databases (e.g., SchNarc database) using the ``ConvertDB`` class.\n",
    "\n",
    "## Convert an existing database\n",
    "\n",
    "The following example demonstrates how to convert an existing database into a **SPaiNN** database.\n",
    "For this purpose, we use the database obtained for the methylenimmonium cation ($\\mathsf{CH_2NH_2^+}$), which was *e.g.* used in combination with the SchNarc sofware package.\n",
    "\n",
    "<img src=\"./img/properties_shape.png\" width='450'>\n",
    "\n",
    "The sample SchNarc database (``schnarc_ch2nh2+.db``) contains energies, forces, non-adiabatic coupling, dipoles, and spin-orbit couplings of 99 geometries of the methylenimmonium cation.\n",
    "The respective properties are stored in form of an Atomic Simulation Environment (ASE) databse.\n",
    "\n",
    "In the following way, one can perform the conversion of the databases.\n",
    "\n",
    "**1. Import Required Packages**\n",
    "\n",
    "To start, you need to import necessary packages. This can be achieved by including the following lines of code:"
   ]
  },
  {
   "cell_type": "code",
   "execution_count": 1,
   "id": "32d43b98",
   "metadata": {},
   "outputs": [],
   "source": [
    "import os, sys\n",
    "from ase.db import connect\n",
    "\n",
    "import spainn\n",
    "from spainn.asetools import ConvertDB"
   ]
  },
  {
   "cell_type": "markdown",
   "id": "0f1e0916",
   "metadata": {},
   "source": [
    "**2. Converting the Database**\n",
    "\n",
    "To convert an existing database, you employ the `convert` function from the `ConvertDB` module of **SPaiNN**. This function brings the property entries of the existing databse in the shapes as needed in the SPaiNN data pipeline. For instance, the forces must be of shape $N_{atoms}\\times N_{states}\\times 3$. \n",
    "Moreover, the nonadiabatic couplings can be smoothed when converting the database, *i.e.*, the original nonadiabatic coupling entries are divided by the energy difference of the respective coupled states. Here’s how to perform this step:"
   ]
  },
  {
   "cell_type": "code",
   "execution_count": 2,
   "id": "0a3c8729",
   "metadata": {},
   "outputs": [
    {
     "name": "stderr",
     "output_type": "stream",
     "text": [
      "INFO:spainn.asetools.convert_db:Converting /home/carolin/Documents/00_software/SPaiNN/tutorials/data/schnarc_ch2nh2+.db into /home/carolin/Documents/00_software/SPaiNN/tutorials/data/spainn_ch2nh2+.db\n",
      "INFO:spainn.asetools.convert_db:/home/carolin/Documents/00_software/SPaiNN/tutorials/data/schnarc_ch2nh2+.db has 99 entries\n",
      "INFO:spainn.asetools.convert_db:/home/carolin/Documents/00_software/SPaiNN/tutorials/data/schnarc_ch2nh2+.db keys: energy socs forces nacs dipoles\n"
     ]
    }
   ],
   "source": [
    "%rm ./data/spainn_ch2nh2+.db\n",
    "# Path to existing and to-be-created database\n",
    "oldDB = os.path.join(os.getcwd(), 'data', 'schnarc_ch2nh2+.db')\n",
    "newDB = os.path.join(os.getcwd(), 'data', 'spainn_ch2nh2+.db')\n",
    "\n",
    "convDB = ConvertDB()\n",
    "convDB.convert(olddb=oldDB, newdb=newDB, copy_metadata=True, smooth_nacs=True)"
   ]
  },
  {
   "cell_type": "markdown",
   "id": "b02571ab",
   "metadata": {},
   "source": [
    "**3. Updating Metadata**\n",
    "\n",
    "Finally, you update the metadata information of the database. Noteworthy, for now we have just kept the metadata information of the original **SchNarc** database. However, we have to add a dictionary of units (properties and atomic coordinates) and states (number of singlet, doublet, and triplet states) as metadata. This is required at later stages in the **SPaiNN** data pipeline. The following code snippet demonstrates how to add this information during the database conversion:"
   ]
  },
  {
   "cell_type": "code",
   "execution_count": 3,
   "id": "3bd47b2c",
   "metadata": {},
   "outputs": [
    {
     "data": {
      "text/plain": [
       "{'n_singlets': 3,\n",
       " 'n_triplets': 0,\n",
       " 'states': 'S S S ',\n",
       " 'phasecorrected': False,\n",
       " 'ReferenceMethod': 'MR-CISD(6,4)/aug-cc-pVDZ, program: COLUMBUS',\n",
       " 'atomrefs': {}}"
      ]
     },
     "execution_count": 3,
     "metadata": {},
     "output_type": "execute_result"
    }
   ],
   "source": [
    "# Current metadata\n",
    "db_new = connect(newDB)\n",
    "metadata_ori = db_new.metadata\n",
    "metadata_ori"
   ]
  },
  {
   "cell_type": "code",
   "execution_count": 4,
   "id": "1fd9dc73",
   "metadata": {},
   "outputs": [
    {
     "data": {
      "text/plain": [
       "{'n_singlets': 3,\n",
       " 'n_triplets': 0,\n",
       " 'states': 'S S S ',\n",
       " 'phasecorrected': False,\n",
       " 'ReferenceMethod': 'MR-CISD(6,4)/aug-cc-pVDZ, program: COLUMBUS',\n",
       " 'atomrefs': {},\n",
       " '_distance_unit': 'Bohr',\n",
       " '_property_unit_dict': {'energy': 'Hartree',\n",
       "  'forces': 'Hartree/Bohr',\n",
       "  'nacs': '1',\n",
       "  'smooth_nacs': '1'}}"
      ]
     },
     "execution_count": 4,
     "metadata": {},
     "output_type": "execute_result"
    }
   ],
   "source": [
    "# Dictionary of units and how to add it to existing metadata\n",
    "\n",
    "unit_dict = {\n",
    "   '_distance_unit': 'Bohr',\n",
    "   '_property_unit_dict': {'energy': 'Hartree', 'forces': 'Hartree/Bohr', 'nacs': '1', 'smooth_nacs': '1'},\n",
    "}\n",
    "\n",
    "db_new.metadata = {**metadata_ori, **unit_dict}\n",
    "db_new.metadata"
   ]
  },
  {
   "cell_type": "markdown",
   "id": "4aba2aff",
   "metadata": {},
   "source": [
    "## Overview of the dataset (energies)"
   ]
  },
  {
   "cell_type": "code",
   "execution_count": 5,
   "id": "d4961ac8",
   "metadata": {},
   "outputs": [
    {
     "data": {
      "image/png": "[encoded data removed]",
      "text/plain": [
       "<Figure size 640x480 with 1 Axes>"
      ]
     },
     "metadata": {},
     "output_type": "display_data"
    }
   ],
   "source": [
    "import pandas as pd\n",
    "import seaborn as sns\n",
    "import matplotlib.pyplot as plt\n",
    "\n",
    "db_spainn = connect(newDB)\n",
    "\n",
    "table_data = [\n",
    "    {\n",
    "        'Molecule': db_spainn.get_atoms(mols+1).get_chemical_formula(),\n",
    "        'S$_0$': db_spainn.get(mols+1).data['energy'][0][0],\n",
    "        'S$_1$': db_spainn.get(mols+1).data['energy'][0][1],\n",
    "        'S$_2$': db_spainn.get(mols+1).data['energy'][0][2]\n",
    "    }\n",
    "    for mols in range(len(db_spainn))\n",
    "]\n",
    "\n",
    "df = pd.DataFrame(table_data)\n",
    "\n",
    "# Create a combined histogram plot\n",
    "sns.histplot(data=df, bins=60, kde=False, multiple='layer')\n",
    "\n",
    "# Set labels and title\n",
    "plt.xlabel('Energy / Hartree')\n",
    "plt.ylabel('Count')\n",
    "plt.title('Distribution of Energies in the Dataset')\n",
    "\n",
    "# Show the plot\n",
    "plt.show()"
   ]
  }
 ],
 "metadata": {
  "kernelspec": {
   "display_name": "Python 3 (ipykernel)",
   "language": "python",
   "name": "python3"
  },
  "language_info": {
   "codemirror_mode": {
    "name": "ipython",
    "version": 3
   },
   "file_extension": ".py",
   "mimetype": "text/x-python",
   "name": "python",
   "nbconvert_exporter": "python",
   "pygments_lexer": "ipython3",
   "version": "3.9.16"
  }
 },
 "nbformat": 4,
 "nbformat_minor": 5
}
