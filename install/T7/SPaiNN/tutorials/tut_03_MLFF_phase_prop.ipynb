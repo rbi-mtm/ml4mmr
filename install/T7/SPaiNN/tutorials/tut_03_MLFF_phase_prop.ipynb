{
 "cells": [
  {
   "cell_type": "markdown",
   "id": "88a4b6e6",
   "metadata": {},
   "source": [
    "# Tutorial 3 – Training Nonadiabatic Couplings\n",
    "\n",
    "\n",
    "When focusing solely on the ground state, machine learning force fields are usually created by learning the energies and forces (energy gradients) associated with it. \n",
    "However, when developing machine learning force fields for multiple electronic states, encompassing both the ground and excited states, it becomes necessary not only to account for the energies and forces of each specific state, but also to consider the interactions or couplings between these electronic states. \n",
    "These couplings arise from factors like changes in the dipole moment or geometry.\n",
    "\n",
    "## NN Challenges: Taming Tricky Properties\n",
    "\n",
    "### The Phase Problem\n",
    "\n",
    "The energy of a given electronic state can be derived from its wavefunction $\\Psi_i(\\mathbf{R}$) and the potential energy operator $\\hat{V}$ according to\n",
    "\n",
    "\\begin{equation}\n",
    "E_i = \\left\\langle\\Psi_i(\\mathbf{R}) | \\hat{V} | \\Psi_i(\\mathbf{R}) \\right\\rangle ~. \n",
    "\\end{equation}\n",
    "\n",
    "This approach is applicable for predicting both, energies of ground and excited states.\n",
    "However, there are additional important properties that emerge when two distinct electronic states are coupled. An example is the transition dipole moment ($\\mathbf{\\mu}_{ij}$), which is influenced by the dipole operator ($\\mu$), expressed as\n",
    "\n",
    "\\begin{equation}\n",
    "\\displaystyle \\mathbf{\\mu}_{ij}(\\mathbf{R}) = \\left\\langle \\Psi_{i}(\\mathbf{R}) | \\hat{\\mathbf{\\mu}} | \\Psi_{j}(\\mathbf{R}) \\right\\rangle ~.\n",
    "\\end{equation}\n",
    "\n",
    "Another crucial property, particularly relevant for nonadiabatic molecular dynamics simulations, is the nonadiabatic coupling vector ($\\mathbf{C}_{ij}$), defined as\n",
    "\n",
    "\\begin{equation}\n",
    "\\displaystyle \\mathbf{C}_{ij} = \\left\\langle \\Psi_{i}(\\mathbf{R}) | \\nabla_{\\mathbf{R}} \\Psi_{j}(\\mathbf{R}) \\right\\rangle ~.\n",
    "\\end{equation}\n",
    "\n",
    "Wavefunctions ($\\Psi_i$) are subject to phase variations, leading to arbitrary signs. \n",
    "Consequently, properties related to different states, *i.e.* $\\mathbf{\\mu}_{ij}$ and $\\mathbf{C}_{ij}$, also possess arbitrary signs. \n",
    "This sign issue can lead neural network predictions to cancel out, as the same input (geometry) might yield opposite sign outputs. To mitigate this numerical challenge, a phase-less loss function is employed for such properties. The phase-less variant of the mean absolute error ($\\mathsf{MAE}$, $n=1$) and mean squared error ($\\mathsf{MSE}$, $n=2$) are defined as\n",
    "\n",
    "\\begin{equation}\n",
    "\\displaystyle \\mathcal{L}_p = \\frac{1}{3N} \\sum_{k}^{N_{c}} \\min_i\\left( \\sum_{l,m} \\left| Q_k^{ref} 1_2^{\\top} - Q_k^{NN} 1_2^{\\top} \\odot \\begin{pmatrix}\n",
    "        1 \\\\ -1 \n",
    "    \\end{pmatrix}^{\\top}~\\right|_{lm}^n \\right) ~,\n",
    "\\end{equation}\n",
    "\n",
    "where $Q^{NN}$ represents the predicted and $Q^{ref}$ the reference values.\n",
    "Summation is performed using the indices $k$, $l$ and $m$, whereas the values of $k$ range from 1 to the number of couplings ($N_c$), $l$ ranges from 1 to $N_{atoms}$ and $m$ ranges from 1 to 3 (xyz-direction, vectorial property).\n",
    "\n",
    "In simpler terms, the $\\mathsf{MAE}$ and $\\mathsf{MSE}$ can be expressed as\n",
    "\n",
    "\\begin{equation}\n",
    "\\displaystyle \\mathsf{MAE} = \\min\\left(|| Q^{ref} - Q^{NN} ||, || Q^{ref} + Q^{NN} || \\right)~\\text{and},\n",
    "\\end{equation}\n",
    "\n",
    "\\begin{equation}\n",
    "\\displaystyle \\mathsf{MSE} = \\min\\left(|| Q^{ref} - Q^{NN} ||_2, || Q^{ref} + Q^{NN} ||_2 \\right)~.\n",
    "\\end{equation}\n",
    "\n",
    "Notably, for properties like transition dipoles and nonadiabatic couplings, which are vectorial in nature, the '$-$' or '$+$' sign in these equations pertains to the entire vector."
   ]
  },
  {
   "cell_type": "markdown",
   "id": "25f00e51",
   "metadata": {},
   "source": [
    "### The singularity problem\n",
    "\n",
    "The effects that go beyond the Born-Oppenheimer approximation and nonadiabatic transitions between distinct electronic states are determined by nonadiabatic couplings denoted as $\\mathbf{C}_{ji}$. \n",
    "These couplings can be expressed in a Hellmann-Feynman-like form, which reads as\n",
    "\n",
    "\\begin{equation}\n",
    "    \\mathbf{C}_{ij} = \\left\\langle \\Psi_i(\\mathbf{R}) | \\nabla_{\\mathbf{R}} \\Psi_j(\\mathbf{R}) \\right\\rangle = \\frac{\\left\\langle \\Psi_i(\\mathbf{R}) | \\nabla_{\\mathbf{R}}\\hat{H} | \\Psi_j(\\mathbf{R}) \\right\\rangle}{E_j - E_i} ~~~~~~\\text{with}~ j > i~.\n",
    "\\end{equation}\n",
    "\n",
    "This equation reveals that the nonadiabatic couplings become singular when approaching the intersection of two electronic states, *i.e.*, as $E_j - E_i \\rightarrow 0$. \n",
    "This singularity poses challenges for neural network (NN) predictions. \n",
    "To mitigate this, we choose to train the NN with respect to $\\mathbf{C}_{ij}\\left(E_j - E_i\\right)$, which we refer to as smoothed nonadiabatic couplings, denoted as $\\mathbf{C}_{ij}^s$. \n",
    "These smoothed couplings are well-defined properties and are utilized in this tutorial as part of the database (```smooth_nacs```). \n",
    "It's worth noting that an alternative approach involves calculating $\\mathbf{C}_{ij}^s$ during training, either using reference energies or NN-predicted energies. \n",
    "However, this method is computationally more demanding and less robust, especially when relying on NN-predicted energies.\n"
   ]
  },
  {
   "cell_type": "markdown",
   "id": "56cffaa7",
   "metadata": {},
   "source": [
    "## Load and Preprocess Data\n",
    "\n",
    "To process and prepare data for training, we begin with importing all relevant packages and specifying the location of an existing ASE (Atomic Simulation Envirnonment) database. Please return to the first tutorial to learn how to convert original quantum chemical data into an ASE database."
   ]
  },
  {
   "cell_type": "code",
   "execution_count": 1,
   "id": "4a46cd29",
   "metadata": {},
   "outputs": [],
   "source": [
    "import sys, os\n",
    "\n",
    "from ase.db import connect\n",
    "\n",
    "import torch\n",
    "import torchmetrics\n",
    "import pytorch_lightning as pl\n",
    "import schnetpack as spk\n",
    "\n",
    "import spainn\n",
    "import spainn.properties as sp"
   ]
  },
  {
   "cell_type": "markdown",
   "id": "02d44dbd",
   "metadata": {},
   "source": [
    "Here, we want to train a model for three electronic states, namely $S_0$, $S_1$, and $S_2$.\n",
    "Therefore, we train the NN with respect to the energies ($E_i$), forces (-$\\nabla_{\\mathbf{R}}E_i$), and smoothed nonadiabatic couplings ($\\mathbf{C}_{ij}^s$).\n",
    "In the following way, one can check, if the desired properties, *i.e.* the property keys `energy`, `forces`, and `smooth_nacs` are stored in the databse:"
   ]
  },
  {
   "cell_type": "code",
   "execution_count": 2,
   "id": "0708bea8",
   "metadata": {},
   "outputs": [
    {
     "data": {
      "text/plain": [
       "dict_keys(['energy', 'socs', 'forces', 'nacs', 'smooth_nacs', 'dipoles'])"
      ]
     },
     "execution_count": 2,
     "metadata": {},
     "output_type": "execute_result"
    }
   ],
   "source": [
    "dbname = 'spainn_ch2nh2+.db'\n",
    "datapath = os.path.join(os.getcwd(), 'data', dbname)\n",
    "db = connect(datapath)\n",
    "\n",
    "db.get(1).data.keys()"
   ]
  },
  {
   "cell_type": "markdown",
   "id": "91edb6eb",
   "metadata": {},
   "source": [
    "Next the data is loaded form the `spainn_ch2nh2+.db` from the data folder.\n",
    "For this we use the ``SPAINN`` class that inhertits the ``AtomsDataModule`` class provided by SchNetPack."
   ]
  },
  {
   "cell_type": "code",
   "execution_count": 3,
   "id": "8125c081",
   "metadata": {},
   "outputs": [
    {
     "name": "stderr",
     "output_type": "stream",
     "text": [
      "100%|█████████████████████████████████████████████████████████████████████████████████████████████| 35/35 [00:00<00:00, 128.19it/s]"
     ]
    },
    {
     "name": "stdout",
     "output_type": "stream",
     "text": [
      "{'energy': (tensor([-15.7648, -15.7358, -15.7207], dtype=torch.float64), tensor([0.0103, 0.0065, 0.0053], dtype=torch.float64))}\n"
     ]
    },
    {
     "name": "stderr",
     "output_type": "stream",
     "text": [
      "\n"
     ]
    }
   ],
   "source": [
    "%rm ./train/split.npz\n",
    "\n",
    "data_module = sp.SPAINN(\n",
    "    n_states = 3, # singlet states 0, 1, 2\n",
    "    n_nacs = 3, # couplings: 01, 02, 12\n",
    "    datapath=datapath, # path to database\n",
    "    batch_size=2,\n",
    "    num_train=0.7, # 70% of databse for training\n",
    "    num_val=0.1, # 10% of database for validation\n",
    "    split_file=os.path.join('train', 'split.npz'),\n",
    "    splitting=spk.data.splitting.RandomSplit(),\n",
    "    load_properties=['energy', 'forces', 'smooth_nacs'],\n",
    "    transforms=[\n",
    "        # remove mean of energy in every electronic state\n",
    "        spk.transform.RemoveOffsets(sp.SPAINN.energy, remove_mean=True, remove_atomrefs=False),\n",
    "        spk.transform.ASENeighborList(cutoff=5.0),\n",
    "        spk.transform.CastTo32(),\n",
    "            ],\n",
    ")\n",
    "\n",
    "# setup everything\n",
    "data_module.prepare_data()\n",
    "data_module.setup()"
   ]
  },
  {
   "cell_type": "markdown",
   "id": "6beb0449",
   "metadata": {},
   "source": [
    "To check, if the desired properties, namely `energy`, `forces`, and `smooth_nacs` are loaded to the datamodule, you can access the keys and shapes from the data module in the following way:"
   ]
  },
  {
   "cell_type": "code",
   "execution_count": 4,
   "id": "9e30d6e3",
   "metadata": {},
   "outputs": [
    {
     "name": "stdout",
     "output_type": "stream",
     "text": [
      "Loaded properties:\n",
      " energy\ttorch.Size([1, 3])\n",
      " forces\ttorch.Size([6, 3, 3])\n",
      " smooth_nacs\ttorch.Size([6, 3, 3])\n",
      "\n"
     ]
    }
   ],
   "source": [
    "properties = data_module.dataset[0]\n",
    "print('Loaded properties:\\n', \n",
    "      *[str(i)+'\\t'+str(properties[i].shape)+'\\n' for i in properties.keys() if not i.startswith('_')])\n"
   ]
  },
  {
   "cell_type": "markdown",
   "id": "eff6f93d",
   "metadata": {},
   "source": [
    "## Define the Model\n",
    "\n",
    "After the data preparation, we now build a model for training the NN PESs. \n",
    "This is done in three core steps:\n",
    "\n",
    "1. Defining input modules (pairwise distance)\n",
    "2. Building a representation (PaiNN representation)\n",
    "3. Defining output modules (module for `energy`, `forces` and `smooth_nacs`)\n",
    "\n",
    "### Defining Input Modules\n",
    "\n",
    "Here we use a paiwise distance as input module and use the PaiNN representation."
   ]
  },
  {
   "cell_type": "code",
   "execution_count": 5,
   "id": "321b5af9",
   "metadata": {},
   "outputs": [],
   "source": [
    "n_atom_basis = 50\n",
    "cutoff = 10.0\n",
    "\n",
    "# input module: calculates pairwise distances between atoms\n",
    "pairwise_distance = spk.atomistic.PairwiseDistances()\n",
    "\n",
    "# radial basis for convolution\n",
    "radial_basis = spk.nn.GaussianRBF(n_rbf=20, cutoff=cutoff)"
   ]
  },
  {
   "cell_type": "markdown",
   "id": "ede65f4b",
   "metadata": {},
   "source": [
    "### Building a Representation\n",
    "\n",
    "In the previous tutorial, we trained the NN with respect to $E_i$ and $-\\nabla_{\\mathbf{R}}E_i$ using the SchNet representation.\n",
    "Using this representation, allows energy predictions that are invariant to rotations and force predictions that are equivariant to rotations (as we learn the forces from the negative gradient of the energy).\n",
    "However, SchNet provides nonadiabatic coupling predictions that are invariant to rotations.\n",
    "However, we would like to represent the atomwise contribution of the nonadiabatic couplings within the chemical environment by equivariant vectors.\n",
    "For this reason, we rely here on the PaiNN representation, which allows the following predictions with respect to rotation:\n",
    "\n",
    "- `energy`: invariant\n",
    "- `forces`: equivariant\n",
    "- `smooth_nacs`: equivariant\n"
   ]
  },
  {
   "cell_type": "code",
   "execution_count": 6,
   "id": "33df7538",
   "metadata": {},
   "outputs": [],
   "source": [
    "# PaiNN Representation\n",
    "painn = spk.representation.PaiNN(\n",
    "    radial_basis = radial_basis,\n",
    "    n_atom_basis=n_atom_basis,\n",
    "    n_interactions=6,\n",
    "    cutoff_fn=spk.nn.CosineCutoff(cutoff)\n",
    ")"
   ]
  },
  {
   "cell_type": "markdown",
   "id": "3c75960b",
   "metadata": {},
   "source": [
    "### Defining Output Modules\n",
    "\n",
    "As we want to model energies, forces and nonadiabatic couplings, we need three output modules. \n",
    "We will use an `Atomwise` module to predict the energies of the electronic states as implemented in SchNetPack, by adjusting the number of outputs to the number of electronic states, *i.e.*, `n_out=3`.\n",
    "To describe the forces as derivative of the energy for multiple electronic states, we use the `Forces` module of **SPaiNN**, that computes the negative derivative of the energy for every electronic state with respect to the nuclear positions.\n",
    "For the nonadiabatic couplings, we use the `Nacs` module of **SPaiNN** with `n_out` being the number of couplings ($N_C$), according to:\n",
    "\n",
    "\\begin{equation}\n",
    "\\displaystyle N_C = \\frac{1}{2} N_{\\text{singlets}} \\left( N_{\\text{singlets}} - 1\\right)\n",
    "\\end{equation}"
   ]
  },
  {
   "cell_type": "code",
   "execution_count": 7,
   "id": "d309db60",
   "metadata": {},
   "outputs": [],
   "source": [
    "pred_energy = spainn.model.Atomwise(\n",
    "    n_in=n_atom_basis,\n",
    "    n_out=3, # number of electronic states (S0, S1, S2)\n",
    "    n_layers=3,\n",
    ")\n",
    "\n",
    "pred_forces = spainn.model.Forces()\n",
    "\n",
    "pred_nacs = spainn.model.Nacs(\n",
    "    n_in=n_atom_basis,\n",
    "    n_out=3, # number of couplings (C01, C02, C12)\n",
    "    nac_key=sp.SPAINN.smooth_nacs,\n",
    "    use_vector_repr=True # False for SchNet\n",
    ")"
   ]
  },
  {
   "cell_type": "markdown",
   "id": "030e0ec1",
   "metadata": {},
   "source": [
    "In the following the representation as well as input and output modules are assembled to a NN potential. \n",
    "In this step, we also specify a post-processor, that adds the mean, which we removed as offset in the data pre-processing, to the predictions to obtain energies on the scale of the reference data. \n",
    "This is done with the `AddMultipleOffsets` post-processor of **SPaiNN**."
   ]
  },
  {
   "cell_type": "code",
   "execution_count": 8,
   "id": "b86112ae",
   "metadata": {},
   "outputs": [],
   "source": [
    "nnpot = spk.model.NeuralNetworkPotential(\n",
    "    representation=painn,\n",
    "    input_modules=[pairwise_distance],\n",
    "    output_modules=[pred_energy, pred_forces, pred_nacs],\n",
    "    input_dtype_str='float32',\n",
    "    do_postprocessing=True,\n",
    "    postprocessors=[\n",
    "        spk.transform.CastTo64(),\n",
    "        spk.transform.AddOffsets(spainn.SPAINN.energy, add_mean=True, add_atomrefs=False),\n",
    "    ],\n",
    ")"
   ]
  },
  {
   "cell_type": "markdown",
   "id": "deac0e04",
   "metadata": {},
   "source": [
    "## Training the Model\n",
    "\n",
    "For training a model, the training task, *i.e.*, model, loss-functions and optimizers have to be defined. First the output of the models are connected to loss functions using the `ModelOutput` class of SchNetPack. Here, the combined loss function reads as:\n",
    "\n",
    "\\begin{equation}\n",
    "\\displaystyle \\mathcal{L}(E_{ref},\\mathbf{F}_{ref},\\mathbf{C}_{ref},E_{NN},\\mathbf{F}_{NN},\\mathbf{C}_{NN}) = -\\frac{1}{n_{train}}\\sum_{n=1}^{n_{train}} \\left( \\rho_1 \\mathcal{L}_E + \\rho_2 \\mathcal{L}_F + \\rho_3 \\mathcal{L}_C \\right)\n",
    "\\end{equation}\n",
    "\n",
    "The loss weights $\\rho_k$ are introduced to control the tradeoff between energies, forces and nonadiabatic couplings.\n",
    "\n",
    "For predicting energies and forces, we employ the standard mean-square error loss functions, that read as\n",
    "\\begin{equation}\n",
    "\\displaystyle \\mathcal{L}_E(E_{ref},E_{NN}) = ||E_{ref} - E_{NN}||_2~,~\\text{and}\n",
    "\\end{equation}\n",
    "\n",
    "\\begin{equation}\n",
    "\\displaystyle \\mathcal{L}_F(\\mathbf{F_{ref}},-\\nabla_{\\mathbf{R}}E_{NN}) = ||\\mathbf{F_{ref}} - \\left( -\\nabla_{\\mathbf{R}}E_{NN}\\right) ||_2~.\n",
    "\\end{equation}\n",
    "\n",
    "For predicting the nonadiabadtic couplings, we employ the phase-less loss-function ```PhaseLoss``` of **SpaiNN**.\n",
    "As described above, the phase vector of every wavefunction $\\Psi_i(\\mathbf{R})$ has an arbitrary sign and resultingly, the nonadiabatic couplings, will also have an arbitrary sign.\n",
    "This sign problem will cause NN predictions to collapse to zero, as the same input, *i.e.* geometry can lead to opposite signs of output.\n",
    "To overcome this numerical bottleneck, we use the ```PhaseLoss``` loss function, which is a phase-less version of the mean absolute error, and can be expressed as\n",
    "\n",
    "\\begin{equation}\n",
    "\\displaystyle \\mathcal{L}_C = \\min\\left(|| \\mathbf{\\hat{C}}_{ij}^{s} - \\mathbf{C}_{ij}^{s} ||, || \\mathbf{\\hat{C}}_{ij}^{s} + \\mathbf{C}_{ij}^{s} || \\right) ~,\n",
    "\\end{equation}\n",
    "\n",
    "where $\\mathbf{\\hat{C}}_{ij}^s$ represents the reference and $\\mathbf{C}_{ij}^s$ the predicted smoothed nonadiabatic couplings.\n",
    "\n"
   ]
  },
  {
   "cell_type": "code",
   "execution_count": 9,
   "id": "896d01b2",
   "metadata": {},
   "outputs": [],
   "source": [
    "output_energy = spk.task.ModelOutput(\n",
    "    name=spainn.SPAINN.energy,\n",
    "    loss_fn=torch.nn.MSELoss(),\n",
    "    loss_weight=1.0, #0.05,\n",
    "    metrics={\n",
    "        \"MSE\": torchmetrics.MeanSquaredError(),\n",
    "    },\n",
    ")\n",
    "\n",
    "output_forces = spk.task.ModelOutput(\n",
    "    name=spainn.SPAINN.forces,\n",
    "    loss_fn=torch.nn.MSELoss(),\n",
    "    loss_weight=1.0, #0.10,\n",
    "    metrics={\n",
    "        \"MSE\": torchmetrics.MeanSquaredError(),\n",
    "    },\n",
    ")\n",
    "\n",
    "output_nacs = spk.task.ModelOutput(\n",
    "    name=sp.SPAINN.smooth_nacs,\n",
    "    # MSE loss function for phase properties \n",
    "    loss_fn=spainn.loss.PhaseLossAtomisticMSE(atoms=6),\n",
    "    loss_weight=1.0, #0.85,\n",
    "    metrics={\n",
    "        \"MSE\": spainn.metric.PhaseAtomisticMSE(atoms=6),\n",
    "    },\n",
    ")"
   ]
  },
  {
   "cell_type": "markdown",
   "id": "c3ecdfa0",
   "metadata": {},
   "source": [
    "In the next step we set up the task and trainer, *i.e.*, a PyTorch Lightning `Trainer` and train for 100 epochs."
   ]
  },
  {
   "cell_type": "code",
   "execution_count": 10,
   "id": "56f6059b",
   "metadata": {},
   "outputs": [
    {
     "name": "stderr",
     "output_type": "stream",
     "text": [
      "GPU available: False, used: False\n",
      "TPU available: False, using: 0 TPU cores\n",
      "IPU available: False, using: 0 IPUs\n",
      "HPU available: False, using: 0 HPUs\n",
      "\n",
      "  | Name    | Type                   | Params\n",
      "---------------------------------------------------\n",
      "0 | model   | NeuralNetworkPotential | 202 K \n",
      "1 | outputs | ModuleList             | 0     \n",
      "---------------------------------------------------\n",
      "202 K     Trainable params\n",
      "0         Non-trainable params\n",
      "202 K     Total params\n",
      "0.811     Total estimated model params size (MB)\n"
     ]
    },
    {
     "data": {
      "application/vnd.jupyter.widget-view+json": {
       "model_id": "",
       "version_major": 2,
       "version_minor": 0
      },
      "text/plain": [
       "Sanity Checking: 0it [00:00, ?it/s]"
      ]
     },
     "metadata": {},
     "output_type": "display_data"
    },
    {
     "data": {
      "application/vnd.jupyter.widget-view+json": {
       "model_id": "ccec955ef3344143abe70aeca88eecc7",
       "version_major": 2,
       "version_minor": 0
      },
      "text/plain": [
       "Training: 0it [00:00, ?it/s]"
      ]
     },
     "metadata": {},
     "output_type": "display_data"
    },
    {
     "data": {
      "application/vnd.jupyter.widget-view+json": {
       "model_id": "",
       "version_major": 2,
       "version_minor": 0
      },
      "text/plain": [
       "Validation: 0it [00:00, ?it/s]"
      ]
     },
     "metadata": {},
     "output_type": "display_data"
    },
    {
     "data": {
      "application/vnd.jupyter.widget-view+json": {
       "model_id": "",
       "version_major": 2,
       "version_minor": 0
      },
      "text/plain": [
       "Validation: 0it [00:00, ?it/s]"
      ]
     },
     "metadata": {},
     "output_type": "display_data"
    },
    {
     "data": {
      "application/vnd.jupyter.widget-view+json": {
       "model_id": "",
       "version_major": 2,
       "version_minor": 0
      },
      "text/plain": [
       "Validation: 0it [00:00, ?it/s]"
      ]
     },
     "metadata": {},
     "output_type": "display_data"
    },
    {
     "data": {
      "application/vnd.jupyter.widget-view+json": {
       "model_id": "",
       "version_major": 2,
       "version_minor": 0
      },
      "text/plain": [
       "Validation: 0it [00:00, ?it/s]"
      ]
     },
     "metadata": {},
     "output_type": "display_data"
    },
    {
     "data": {
      "application/vnd.jupyter.widget-view+json": {
       "model_id": "",
       "version_major": 2,
       "version_minor": 0
      },
      "text/plain": [
       "Validation: 0it [00:00, ?it/s]"
      ]
     },
     "metadata": {},
     "output_type": "display_data"
    },
    {
     "data": {
      "application/vnd.jupyter.widget-view+json": {
       "model_id": "",
       "version_major": 2,
       "version_minor": 0
      },
      "text/plain": [
       "Validation: 0it [00:00, ?it/s]"
      ]
     },
     "metadata": {},
     "output_type": "display_data"
    },
    {
     "data": {
      "application/vnd.jupyter.widget-view+json": {
       "model_id": "",
       "version_major": 2,
       "version_minor": 0
      },
      "text/plain": [
       "Validation: 0it [00:00, ?it/s]"
      ]
     },
     "metadata": {},
     "output_type": "display_data"
    },
    {
     "data": {
      "application/vnd.jupyter.widget-view+json": {
       "model_id": "",
       "version_major": 2,
       "version_minor": 0
      },
      "text/plain": [
       "Validation: 0it [00:00, ?it/s]"
      ]
     },
     "metadata": {},
     "output_type": "display_data"
    },
    {
     "data": {
      "application/vnd.jupyter.widget-view+json": {
       "model_id": "",
       "version_major": 2,
       "version_minor": 0
      },
      "text/plain": [
       "Validation: 0it [00:00, ?it/s]"
      ]
     },
     "metadata": {},
     "output_type": "display_data"
    },
    {
     "data": {
      "application/vnd.jupyter.widget-view+json": {
       "model_id": "",
       "version_major": 2,
       "version_minor": 0
      },
      "text/plain": [
       "Validation: 0it [00:00, ?it/s]"
      ]
     },
     "metadata": {},
     "output_type": "display_data"
    },
    {
     "data": {
      "application/vnd.jupyter.widget-view+json": {
       "model_id": "",
       "version_major": 2,
       "version_minor": 0
      },
      "text/plain": [
       "Validation: 0it [00:00, ?it/s]"
      ]
     },
     "metadata": {},
     "output_type": "display_data"
    },
    {
     "data": {
      "application/vnd.jupyter.widget-view+json": {
       "model_id": "",
       "version_major": 2,
       "version_minor": 0
      },
      "text/plain": [
       "Validation: 0it [00:00, ?it/s]"
      ]
     },
     "metadata": {},
     "output_type": "display_data"
    },
    {
     "data": {
      "application/vnd.jupyter.widget-view+json": {
       "model_id": "",
       "version_major": 2,
       "version_minor": 0
      },
      "text/plain": [
       "Validation: 0it [00:00, ?it/s]"
      ]
     },
     "metadata": {},
     "output_type": "display_data"
    },
    {
     "data": {
      "application/vnd.jupyter.widget-view+json": {
       "model_id": "",
       "version_major": 2,
       "version_minor": 0
      },
      "text/plain": [
       "Validation: 0it [00:00, ?it/s]"
      ]
     },
     "metadata": {},
     "output_type": "display_data"
    },
    {
     "data": {
      "application/vnd.jupyter.widget-view+json": {
       "model_id": "",
       "version_major": 2,
       "version_minor": 0
      },
      "text/plain": [
       "Validation: 0it [00:00, ?it/s]"
      ]
     },
     "metadata": {},
     "output_type": "display_data"
    },
    {
     "data": {
      "application/vnd.jupyter.widget-view+json": {
       "model_id": "",
       "version_major": 2,
       "version_minor": 0
      },
      "text/plain": [
       "Validation: 0it [00:00, ?it/s]"
      ]
     },
     "metadata": {},
     "output_type": "display_data"
    },
    {
     "data": {
      "application/vnd.jupyter.widget-view+json": {
       "model_id": "",
       "version_major": 2,
       "version_minor": 0
      },
      "text/plain": [
       "Validation: 0it [00:00, ?it/s]"
      ]
     },
     "metadata": {},
     "output_type": "display_data"
    },
    {
     "data": {
      "application/vnd.jupyter.widget-view+json": {
       "model_id": "",
       "version_major": 2,
       "version_minor": 0
      },
      "text/plain": [
       "Validation: 0it [00:00, ?it/s]"
      ]
     },
     "metadata": {},
     "output_type": "display_data"
    },
    {
     "data": {
      "application/vnd.jupyter.widget-view+json": {
       "model_id": "",
       "version_major": 2,
       "version_minor": 0
      },
      "text/plain": [
       "Validation: 0it [00:00, ?it/s]"
      ]
     },
     "metadata": {},
     "output_type": "display_data"
    },
    {
     "data": {
      "application/vnd.jupyter.widget-view+json": {
       "model_id": "",
       "version_major": 2,
       "version_minor": 0
      },
      "text/plain": [
       "Validation: 0it [00:00, ?it/s]"
      ]
     },
     "metadata": {},
     "output_type": "display_data"
    },
    {
     "data": {
      "application/vnd.jupyter.widget-view+json": {
       "model_id": "",
       "version_major": 2,
       "version_minor": 0
      },
      "text/plain": [
       "Validation: 0it [00:00, ?it/s]"
      ]
     },
     "metadata": {},
     "output_type": "display_data"
    },
    {
     "data": {
      "application/vnd.jupyter.widget-view+json": {
       "model_id": "",
       "version_major": 2,
       "version_minor": 0
      },
      "text/plain": [
       "Validation: 0it [00:00, ?it/s]"
      ]
     },
     "metadata": {},
     "output_type": "display_data"
    },
    {
     "data": {
      "application/vnd.jupyter.widget-view+json": {
       "model_id": "",
       "version_major": 2,
       "version_minor": 0
      },
      "text/plain": [
       "Validation: 0it [00:00, ?it/s]"
      ]
     },
     "metadata": {},
     "output_type": "display_data"
    },
    {
     "data": {
      "application/vnd.jupyter.widget-view+json": {
       "model_id": "",
       "version_major": 2,
       "version_minor": 0
      },
      "text/plain": [
       "Validation: 0it [00:00, ?it/s]"
      ]
     },
     "metadata": {},
     "output_type": "display_data"
    },
    {
     "data": {
      "application/vnd.jupyter.widget-view+json": {
       "model_id": "",
       "version_major": 2,
       "version_minor": 0
      },
      "text/plain": [
       "Validation: 0it [00:00, ?it/s]"
      ]
     },
     "metadata": {},
     "output_type": "display_data"
    },
    {
     "data": {
      "application/vnd.jupyter.widget-view+json": {
       "model_id": "",
       "version_major": 2,
       "version_minor": 0
      },
      "text/plain": [
       "Validation: 0it [00:00, ?it/s]"
      ]
     },
     "metadata": {},
     "output_type": "display_data"
    },
    {
     "data": {
      "application/vnd.jupyter.widget-view+json": {
       "model_id": "",
       "version_major": 2,
       "version_minor": 0
      },
      "text/plain": [
       "Validation: 0it [00:00, ?it/s]"
      ]
     },
     "metadata": {},
     "output_type": "display_data"
    },
    {
     "data": {
      "application/vnd.jupyter.widget-view+json": {
       "model_id": "",
       "version_major": 2,
       "version_minor": 0
      },
      "text/plain": [
       "Validation: 0it [00:00, ?it/s]"
      ]
     },
     "metadata": {},
     "output_type": "display_data"
    },
    {
     "data": {
      "application/vnd.jupyter.widget-view+json": {
       "model_id": "",
       "version_major": 2,
       "version_minor": 0
      },
      "text/plain": [
       "Validation: 0it [00:00, ?it/s]"
      ]
     },
     "metadata": {},
     "output_type": "display_data"
    },
    {
     "data": {
      "application/vnd.jupyter.widget-view+json": {
       "model_id": "",
       "version_major": 2,
       "version_minor": 0
      },
      "text/plain": [
       "Validation: 0it [00:00, ?it/s]"
      ]
     },
     "metadata": {},
     "output_type": "display_data"
    },
    {
     "data": {
      "application/vnd.jupyter.widget-view+json": {
       "model_id": "",
       "version_major": 2,
       "version_minor": 0
      },
      "text/plain": [
       "Validation: 0it [00:00, ?it/s]"
      ]
     },
     "metadata": {},
     "output_type": "display_data"
    },
    {
     "data": {
      "application/vnd.jupyter.widget-view+json": {
       "model_id": "",
       "version_major": 2,
       "version_minor": 0
      },
      "text/plain": [
       "Validation: 0it [00:00, ?it/s]"
      ]
     },
     "metadata": {},
     "output_type": "display_data"
    },
    {
     "data": {
      "application/vnd.jupyter.widget-view+json": {
       "model_id": "",
       "version_major": 2,
       "version_minor": 0
      },
      "text/plain": [
       "Validation: 0it [00:00, ?it/s]"
      ]
     },
     "metadata": {},
     "output_type": "display_data"
    },
    {
     "data": {
      "application/vnd.jupyter.widget-view+json": {
       "model_id": "",
       "version_major": 2,
       "version_minor": 0
      },
      "text/plain": [
       "Validation: 0it [00:00, ?it/s]"
      ]
     },
     "metadata": {},
     "output_type": "display_data"
    },
    {
     "data": {
      "application/vnd.jupyter.widget-view+json": {
       "model_id": "",
       "version_major": 2,
       "version_minor": 0
      },
      "text/plain": [
       "Validation: 0it [00:00, ?it/s]"
      ]
     },
     "metadata": {},
     "output_type": "display_data"
    },
    {
     "data": {
      "application/vnd.jupyter.widget-view+json": {
       "model_id": "",
       "version_major": 2,
       "version_minor": 0
      },
      "text/plain": [
       "Validation: 0it [00:00, ?it/s]"
      ]
     },
     "metadata": {},
     "output_type": "display_data"
    },
    {
     "data": {
      "application/vnd.jupyter.widget-view+json": {
       "model_id": "",
       "version_major": 2,
       "version_minor": 0
      },
      "text/plain": [
       "Validation: 0it [00:00, ?it/s]"
      ]
     },
     "metadata": {},
     "output_type": "display_data"
    },
    {
     "data": {
      "application/vnd.jupyter.widget-view+json": {
       "model_id": "",
       "version_major": 2,
       "version_minor": 0
      },
      "text/plain": [
       "Validation: 0it [00:00, ?it/s]"
      ]
     },
     "metadata": {},
     "output_type": "display_data"
    },
    {
     "data": {
      "application/vnd.jupyter.widget-view+json": {
       "model_id": "",
       "version_major": 2,
       "version_minor": 0
      },
      "text/plain": [
       "Validation: 0it [00:00, ?it/s]"
      ]
     },
     "metadata": {},
     "output_type": "display_data"
    },
    {
     "data": {
      "application/vnd.jupyter.widget-view+json": {
       "model_id": "",
       "version_major": 2,
       "version_minor": 0
      },
      "text/plain": [
       "Validation: 0it [00:00, ?it/s]"
      ]
     },
     "metadata": {},
     "output_type": "display_data"
    },
    {
     "data": {
      "application/vnd.jupyter.widget-view+json": {
       "model_id": "",
       "version_major": 2,
       "version_minor": 0
      },
      "text/plain": [
       "Validation: 0it [00:00, ?it/s]"
      ]
     },
     "metadata": {},
     "output_type": "display_data"
    },
    {
     "data": {
      "application/vnd.jupyter.widget-view+json": {
       "model_id": "",
       "version_major": 2,
       "version_minor": 0
      },
      "text/plain": [
       "Validation: 0it [00:00, ?it/s]"
      ]
     },
     "metadata": {},
     "output_type": "display_data"
    },
    {
     "data": {
      "application/vnd.jupyter.widget-view+json": {
       "model_id": "",
       "version_major": 2,
       "version_minor": 0
      },
      "text/plain": [
       "Validation: 0it [00:00, ?it/s]"
      ]
     },
     "metadata": {},
     "output_type": "display_data"
    },
    {
     "data": {
      "application/vnd.jupyter.widget-view+json": {
       "model_id": "",
       "version_major": 2,
       "version_minor": 0
      },
      "text/plain": [
       "Validation: 0it [00:00, ?it/s]"
      ]
     },
     "metadata": {},
     "output_type": "display_data"
    },
    {
     "data": {
      "application/vnd.jupyter.widget-view+json": {
       "model_id": "",
       "version_major": 2,
       "version_minor": 0
      },
      "text/plain": [
       "Validation: 0it [00:00, ?it/s]"
      ]
     },
     "metadata": {},
     "output_type": "display_data"
    },
    {
     "data": {
      "application/vnd.jupyter.widget-view+json": {
       "model_id": "",
       "version_major": 2,
       "version_minor": 0
      },
      "text/plain": [
       "Validation: 0it [00:00, ?it/s]"
      ]
     },
     "metadata": {},
     "output_type": "display_data"
    },
    {
     "data": {
      "application/vnd.jupyter.widget-view+json": {
       "model_id": "",
       "version_major": 2,
       "version_minor": 0
      },
      "text/plain": [
       "Validation: 0it [00:00, ?it/s]"
      ]
     },
     "metadata": {},
     "output_type": "display_data"
    },
    {
     "data": {
      "application/vnd.jupyter.widget-view+json": {
       "model_id": "",
       "version_major": 2,
       "version_minor": 0
      },
      "text/plain": [
       "Validation: 0it [00:00, ?it/s]"
      ]
     },
     "metadata": {},
     "output_type": "display_data"
    },
    {
     "data": {
      "application/vnd.jupyter.widget-view+json": {
       "model_id": "",
       "version_major": 2,
       "version_minor": 0
      },
      "text/plain": [
       "Validation: 0it [00:00, ?it/s]"
      ]
     },
     "metadata": {},
     "output_type": "display_data"
    },
    {
     "data": {
      "application/vnd.jupyter.widget-view+json": {
       "model_id": "",
       "version_major": 2,
       "version_minor": 0
      },
      "text/plain": [
       "Validation: 0it [00:00, ?it/s]"
      ]
     },
     "metadata": {},
     "output_type": "display_data"
    },
    {
     "data": {
      "application/vnd.jupyter.widget-view+json": {
       "model_id": "",
       "version_major": 2,
       "version_minor": 0
      },
      "text/plain": [
       "Validation: 0it [00:00, ?it/s]"
      ]
     },
     "metadata": {},
     "output_type": "display_data"
    },
    {
     "data": {
      "application/vnd.jupyter.widget-view+json": {
       "model_id": "",
       "version_major": 2,
       "version_minor": 0
      },
      "text/plain": [
       "Validation: 0it [00:00, ?it/s]"
      ]
     },
     "metadata": {},
     "output_type": "display_data"
    },
    {
     "data": {
      "application/vnd.jupyter.widget-view+json": {
       "model_id": "",
       "version_major": 2,
       "version_minor": 0
      },
      "text/plain": [
       "Validation: 0it [00:00, ?it/s]"
      ]
     },
     "metadata": {},
     "output_type": "display_data"
    },
    {
     "data": {
      "application/vnd.jupyter.widget-view+json": {
       "model_id": "",
       "version_major": 2,
       "version_minor": 0
      },
      "text/plain": [
       "Validation: 0it [00:00, ?it/s]"
      ]
     },
     "metadata": {},
     "output_type": "display_data"
    },
    {
     "data": {
      "application/vnd.jupyter.widget-view+json": {
       "model_id": "",
       "version_major": 2,
       "version_minor": 0
      },
      "text/plain": [
       "Validation: 0it [00:00, ?it/s]"
      ]
     },
     "metadata": {},
     "output_type": "display_data"
    },
    {
     "data": {
      "application/vnd.jupyter.widget-view+json": {
       "model_id": "",
       "version_major": 2,
       "version_minor": 0
      },
      "text/plain": [
       "Validation: 0it [00:00, ?it/s]"
      ]
     },
     "metadata": {},
     "output_type": "display_data"
    },
    {
     "data": {
      "application/vnd.jupyter.widget-view+json": {
       "model_id": "",
       "version_major": 2,
       "version_minor": 0
      },
      "text/plain": [
       "Validation: 0it [00:00, ?it/s]"
      ]
     },
     "metadata": {},
     "output_type": "display_data"
    },
    {
     "data": {
      "application/vnd.jupyter.widget-view+json": {
       "model_id": "",
       "version_major": 2,
       "version_minor": 0
      },
      "text/plain": [
       "Validation: 0it [00:00, ?it/s]"
      ]
     },
     "metadata": {},
     "output_type": "display_data"
    },
    {
     "data": {
      "application/vnd.jupyter.widget-view+json": {
       "model_id": "",
       "version_major": 2,
       "version_minor": 0
      },
      "text/plain": [
       "Validation: 0it [00:00, ?it/s]"
      ]
     },
     "metadata": {},
     "output_type": "display_data"
    },
    {
     "data": {
      "application/vnd.jupyter.widget-view+json": {
       "model_id": "",
       "version_major": 2,
       "version_minor": 0
      },
      "text/plain": [
       "Validation: 0it [00:00, ?it/s]"
      ]
     },
     "metadata": {},
     "output_type": "display_data"
    },
    {
     "data": {
      "application/vnd.jupyter.widget-view+json": {
       "model_id": "",
       "version_major": 2,
       "version_minor": 0
      },
      "text/plain": [
       "Validation: 0it [00:00, ?it/s]"
      ]
     },
     "metadata": {},
     "output_type": "display_data"
    },
    {
     "data": {
      "application/vnd.jupyter.widget-view+json": {
       "model_id": "",
       "version_major": 2,
       "version_minor": 0
      },
      "text/plain": [
       "Validation: 0it [00:00, ?it/s]"
      ]
     },
     "metadata": {},
     "output_type": "display_data"
    },
    {
     "data": {
      "application/vnd.jupyter.widget-view+json": {
       "model_id": "",
       "version_major": 2,
       "version_minor": 0
      },
      "text/plain": [
       "Validation: 0it [00:00, ?it/s]"
      ]
     },
     "metadata": {},
     "output_type": "display_data"
    },
    {
     "data": {
      "application/vnd.jupyter.widget-view+json": {
       "model_id": "",
       "version_major": 2,
       "version_minor": 0
      },
      "text/plain": [
       "Validation: 0it [00:00, ?it/s]"
      ]
     },
     "metadata": {},
     "output_type": "display_data"
    },
    {
     "data": {
      "application/vnd.jupyter.widget-view+json": {
       "model_id": "",
       "version_major": 2,
       "version_minor": 0
      },
      "text/plain": [
       "Validation: 0it [00:00, ?it/s]"
      ]
     },
     "metadata": {},
     "output_type": "display_data"
    },
    {
     "data": {
      "application/vnd.jupyter.widget-view+json": {
       "model_id": "",
       "version_major": 2,
       "version_minor": 0
      },
      "text/plain": [
       "Validation: 0it [00:00, ?it/s]"
      ]
     },
     "metadata": {},
     "output_type": "display_data"
    },
    {
     "data": {
      "application/vnd.jupyter.widget-view+json": {
       "model_id": "",
       "version_major": 2,
       "version_minor": 0
      },
      "text/plain": [
       "Validation: 0it [00:00, ?it/s]"
      ]
     },
     "metadata": {},
     "output_type": "display_data"
    },
    {
     "data": {
      "application/vnd.jupyter.widget-view+json": {
       "model_id": "",
       "version_major": 2,
       "version_minor": 0
      },
      "text/plain": [
       "Validation: 0it [00:00, ?it/s]"
      ]
     },
     "metadata": {},
     "output_type": "display_data"
    },
    {
     "data": {
      "application/vnd.jupyter.widget-view+json": {
       "model_id": "",
       "version_major": 2,
       "version_minor": 0
      },
      "text/plain": [
       "Validation: 0it [00:00, ?it/s]"
      ]
     },
     "metadata": {},
     "output_type": "display_data"
    },
    {
     "data": {
      "application/vnd.jupyter.widget-view+json": {
       "model_id": "",
       "version_major": 2,
       "version_minor": 0
      },
      "text/plain": [
       "Validation: 0it [00:00, ?it/s]"
      ]
     },
     "metadata": {},
     "output_type": "display_data"
    },
    {
     "data": {
      "application/vnd.jupyter.widget-view+json": {
       "model_id": "",
       "version_major": 2,
       "version_minor": 0
      },
      "text/plain": [
       "Validation: 0it [00:00, ?it/s]"
      ]
     },
     "metadata": {},
     "output_type": "display_data"
    },
    {
     "data": {
      "application/vnd.jupyter.widget-view+json": {
       "model_id": "",
       "version_major": 2,
       "version_minor": 0
      },
      "text/plain": [
       "Validation: 0it [00:00, ?it/s]"
      ]
     },
     "metadata": {},
     "output_type": "display_data"
    },
    {
     "data": {
      "application/vnd.jupyter.widget-view+json": {
       "model_id": "",
       "version_major": 2,
       "version_minor": 0
      },
      "text/plain": [
       "Validation: 0it [00:00, ?it/s]"
      ]
     },
     "metadata": {},
     "output_type": "display_data"
    },
    {
     "data": {
      "application/vnd.jupyter.widget-view+json": {
       "model_id": "",
       "version_major": 2,
       "version_minor": 0
      },
      "text/plain": [
       "Validation: 0it [00:00, ?it/s]"
      ]
     },
     "metadata": {},
     "output_type": "display_data"
    },
    {
     "data": {
      "application/vnd.jupyter.widget-view+json": {
       "model_id": "",
       "version_major": 2,
       "version_minor": 0
      },
      "text/plain": [
       "Validation: 0it [00:00, ?it/s]"
      ]
     },
     "metadata": {},
     "output_type": "display_data"
    },
    {
     "data": {
      "application/vnd.jupyter.widget-view+json": {
       "model_id": "",
       "version_major": 2,
       "version_minor": 0
      },
      "text/plain": [
       "Validation: 0it [00:00, ?it/s]"
      ]
     },
     "metadata": {},
     "output_type": "display_data"
    },
    {
     "data": {
      "application/vnd.jupyter.widget-view+json": {
       "model_id": "",
       "version_major": 2,
       "version_minor": 0
      },
      "text/plain": [
       "Validation: 0it [00:00, ?it/s]"
      ]
     },
     "metadata": {},
     "output_type": "display_data"
    },
    {
     "data": {
      "application/vnd.jupyter.widget-view+json": {
       "model_id": "",
       "version_major": 2,
       "version_minor": 0
      },
      "text/plain": [
       "Validation: 0it [00:00, ?it/s]"
      ]
     },
     "metadata": {},
     "output_type": "display_data"
    },
    {
     "data": {
      "application/vnd.jupyter.widget-view+json": {
       "model_id": "",
       "version_major": 2,
       "version_minor": 0
      },
      "text/plain": [
       "Validation: 0it [00:00, ?it/s]"
      ]
     },
     "metadata": {},
     "output_type": "display_data"
    },
    {
     "data": {
      "application/vnd.jupyter.widget-view+json": {
       "model_id": "",
       "version_major": 2,
       "version_minor": 0
      },
      "text/plain": [
       "Validation: 0it [00:00, ?it/s]"
      ]
     },
     "metadata": {},
     "output_type": "display_data"
    },
    {
     "data": {
      "application/vnd.jupyter.widget-view+json": {
       "model_id": "",
       "version_major": 2,
       "version_minor": 0
      },
      "text/plain": [
       "Validation: 0it [00:00, ?it/s]"
      ]
     },
     "metadata": {},
     "output_type": "display_data"
    },
    {
     "data": {
      "application/vnd.jupyter.widget-view+json": {
       "model_id": "",
       "version_major": 2,
       "version_minor": 0
      },
      "text/plain": [
       "Validation: 0it [00:00, ?it/s]"
      ]
     },
     "metadata": {},
     "output_type": "display_data"
    },
    {
     "data": {
      "application/vnd.jupyter.widget-view+json": {
       "model_id": "",
       "version_major": 2,
       "version_minor": 0
      },
      "text/plain": [
       "Validation: 0it [00:00, ?it/s]"
      ]
     },
     "metadata": {},
     "output_type": "display_data"
    },
    {
     "data": {
      "application/vnd.jupyter.widget-view+json": {
       "model_id": "",
       "version_major": 2,
       "version_minor": 0
      },
      "text/plain": [
       "Validation: 0it [00:00, ?it/s]"
      ]
     },
     "metadata": {},
     "output_type": "display_data"
    },
    {
     "data": {
      "application/vnd.jupyter.widget-view+json": {
       "model_id": "",
       "version_major": 2,
       "version_minor": 0
      },
      "text/plain": [
       "Validation: 0it [00:00, ?it/s]"
      ]
     },
     "metadata": {},
     "output_type": "display_data"
    },
    {
     "data": {
      "application/vnd.jupyter.widget-view+json": {
       "model_id": "",
       "version_major": 2,
       "version_minor": 0
      },
      "text/plain": [
       "Validation: 0it [00:00, ?it/s]"
      ]
     },
     "metadata": {},
     "output_type": "display_data"
    },
    {
     "data": {
      "application/vnd.jupyter.widget-view+json": {
       "model_id": "",
       "version_major": 2,
       "version_minor": 0
      },
      "text/plain": [
       "Validation: 0it [00:00, ?it/s]"
      ]
     },
     "metadata": {},
     "output_type": "display_data"
    },
    {
     "data": {
      "application/vnd.jupyter.widget-view+json": {
       "model_id": "",
       "version_major": 2,
       "version_minor": 0
      },
      "text/plain": [
       "Validation: 0it [00:00, ?it/s]"
      ]
     },
     "metadata": {},
     "output_type": "display_data"
    },
    {
     "data": {
      "application/vnd.jupyter.widget-view+json": {
       "model_id": "",
       "version_major": 2,
       "version_minor": 0
      },
      "text/plain": [
       "Validation: 0it [00:00, ?it/s]"
      ]
     },
     "metadata": {},
     "output_type": "display_data"
    },
    {
     "data": {
      "application/vnd.jupyter.widget-view+json": {
       "model_id": "",
       "version_major": 2,
       "version_minor": 0
      },
      "text/plain": [
       "Validation: 0it [00:00, ?it/s]"
      ]
     },
     "metadata": {},
     "output_type": "display_data"
    },
    {
     "data": {
      "application/vnd.jupyter.widget-view+json": {
       "model_id": "",
       "version_major": 2,
       "version_minor": 0
      },
      "text/plain": [
       "Validation: 0it [00:00, ?it/s]"
      ]
     },
     "metadata": {},
     "output_type": "display_data"
    },
    {
     "data": {
      "application/vnd.jupyter.widget-view+json": {
       "model_id": "",
       "version_major": 2,
       "version_minor": 0
      },
      "text/plain": [
       "Validation: 0it [00:00, ?it/s]"
      ]
     },
     "metadata": {},
     "output_type": "display_data"
    },
    {
     "data": {
      "application/vnd.jupyter.widget-view+json": {
       "model_id": "",
       "version_major": 2,
       "version_minor": 0
      },
      "text/plain": [
       "Validation: 0it [00:00, ?it/s]"
      ]
     },
     "metadata": {},
     "output_type": "display_data"
    },
    {
     "data": {
      "application/vnd.jupyter.widget-view+json": {
       "model_id": "",
       "version_major": 2,
       "version_minor": 0
      },
      "text/plain": [
       "Validation: 0it [00:00, ?it/s]"
      ]
     },
     "metadata": {},
     "output_type": "display_data"
    },
    {
     "data": {
      "application/vnd.jupyter.widget-view+json": {
       "model_id": "",
       "version_major": 2,
       "version_minor": 0
      },
      "text/plain": [
       "Validation: 0it [00:00, ?it/s]"
      ]
     },
     "metadata": {},
     "output_type": "display_data"
    },
    {
     "data": {
      "application/vnd.jupyter.widget-view+json": {
       "model_id": "",
       "version_major": 2,
       "version_minor": 0
      },
      "text/plain": [
       "Validation: 0it [00:00, ?it/s]"
      ]
     },
     "metadata": {},
     "output_type": "display_data"
    },
    {
     "data": {
      "application/vnd.jupyter.widget-view+json": {
       "model_id": "",
       "version_major": 2,
       "version_minor": 0
      },
      "text/plain": [
       "Validation: 0it [00:00, ?it/s]"
      ]
     },
     "metadata": {},
     "output_type": "display_data"
    },
    {
     "data": {
      "application/vnd.jupyter.widget-view+json": {
       "model_id": "",
       "version_major": 2,
       "version_minor": 0
      },
      "text/plain": [
       "Validation: 0it [00:00, ?it/s]"
      ]
     },
     "metadata": {},
     "output_type": "display_data"
    },
    {
     "data": {
      "application/vnd.jupyter.widget-view+json": {
       "model_id": "",
       "version_major": 2,
       "version_minor": 0
      },
      "text/plain": [
       "Validation: 0it [00:00, ?it/s]"
      ]
     },
     "metadata": {},
     "output_type": "display_data"
    },
    {
     "data": {
      "application/vnd.jupyter.widget-view+json": {
       "model_id": "",
       "version_major": 2,
       "version_minor": 0
      },
      "text/plain": [
       "Validation: 0it [00:00, ?it/s]"
      ]
     },
     "metadata": {},
     "output_type": "display_data"
    },
    {
     "name": "stderr",
     "output_type": "stream",
     "text": [
      "`Trainer.fit` stopped: `max_epochs=100` reached.\n"
     ]
    }
   ],
   "source": [
    "import warnings; warnings.simplefilter('ignore')\n",
    "\n",
    "task = spk.task.AtomisticTask(\n",
    "    model=nnpot,\n",
    "    outputs=[output_energy, output_forces, output_nacs],\n",
    "    optimizer_cls=torch.optim.AdamW,\n",
    "    optimizer_args={\"lr\": 1e-4},\n",
    "    scheduler_monitor=\"val_loss\",\n",
    ")\n",
    "\n",
    "modelpath = os.path.join(os.getcwd(), 'train')\n",
    "callbacks = [\n",
    "    spk.train.ModelCheckpoint(\n",
    "        model_path=os.path.join(modelpath, \"best_model_E_F_C\"),\n",
    "        save_top_k=1,\n",
    "        monitor=\"val_loss\"\n",
    "    )\n",
    "]\n",
    "\n",
    "trainer = pl.Trainer(\n",
    "    log_every_n_steps=1,\n",
    "    callbacks=callbacks,\n",
    "    logger=pl.loggers.TensorBoardLogger(save_dir=modelpath),\n",
    "    default_root_dir=modelpath,\n",
    "    max_epochs=100, # for testing, we restrict the number of epochs\n",
    ")\n",
    "\n",
    "trainer.fit(task, datamodule=data_module)"
   ]
  },
  {
   "cell_type": "markdown",
   "id": "970ca10e",
   "metadata": {},
   "source": [
    "## Using the Model\n",
    "\n",
    "To use the trained model, we load the `best_model_E_F_C` file and, *e.g.*, evaluate on the test data."
   ]
  },
  {
   "cell_type": "code",
   "execution_count": 11,
   "id": "bf29da8a",
   "metadata": {
    "scrolled": true
   },
   "outputs": [
    {
     "data": {
      "image/png": "[encoded data removed]",
      "text/plain": [
       "<Figure size 1000x1000 with 4 Axes>"
      ]
     },
     "metadata": {},
     "output_type": "display_data"
    }
   ],
   "source": [
    "import spainn.plotting as sp\n",
    "\n",
    "plotter = sp.PlotMAE(\n",
    "  database = datapath,\n",
    "  split_file = os.path.join(os.getcwd(), 'train', 'split.npz'),\n",
    "  model_file = os.path.join(os.getcwd(), 'train', 'best_model_E_F_C'),\n",
    "  cutoff = cutoff,\n",
    "  properties2plot=['energy', 'smooth_nacs'],\n",
    "  subset2plot=['train', 'test'],\n",
    ")\n",
    "\n",
    "plotter.plot()"
   ]
  }
 ],
 "metadata": {
  "kernelspec": {
   "display_name": "Python 3 (ipykernel)",
   "language": "python",
   "name": "python3"
  },
  "language_info": {
   "codemirror_mode": {
    "name": "ipython",
    "version": 3
   },
   "file_extension": ".py",
   "mimetype": "text/x-python",
   "name": "python",
   "nbconvert_exporter": "python",
   "pygments_lexer": "ipython3",
   "version": "3.9.16"
  }
 },
 "nbformat": 4,
 "nbformat_minor": 5
}
