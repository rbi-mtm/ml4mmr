{
 "cells": [
  {
   "cell_type": "markdown",
   "id": "88a4b6e6",
   "metadata": {},
   "source": [
    "# Tutorial 4 – Predicting Energies and Nonadiabatic Couplings\n",
    "\n",
    "In Tutorial 3, we showed how to train a NN model for predicting energies, forces and nonadiabatic couplings.\n",
    "Here we demonstrate, how to use the trained model, to predict the energies and nonadiabatic couplings for a geometry of the sample molecule, which was not included in the database."
   ]
  },
  {
   "cell_type": "code",
   "execution_count": 1,
   "id": "30b9b5fb",
   "metadata": {},
   "outputs": [],
   "source": [
    "import os, sys\n",
    "import numpy as np\n",
    "import matplotlib.pyplot as plt\n",
    "\n",
    "import ase\n",
    "from ase.db import connect"
   ]
  },
  {
   "cell_type": "markdown",
   "id": "c207ca6b",
   "metadata": {},
   "source": [
    "## Molecule out of Dataset\n",
    "\n",
    "In the following we create an `Atoms` object from the symbols and positions of our target molecule."
   ]
  },
  {
   "cell_type": "code",
   "execution_count": 2,
   "id": "1d7d384f",
   "metadata": {},
   "outputs": [],
   "source": [
    "# molecular symbols of target structure (same as database)\n",
    "symbols = 'CNHHHH'\n",
    "# positions of atoms in target structure (not included in database)\n",
    "positions = np.array(\n",
    "    [[ 0.0000,  0.0000,  0.0000 ],\n",
    "     [ 2.4321,  0.0000,  0.0000 ],\n",
    "     [-1.0111,  1.7951,  0.0000 ],\n",
    "     [ 3.4373,  1.6202, -0.2566 ],\n",
    "     [ 3.4373, -1.6202,  0.2566 ],\n",
    "     [-1.0111, -1.7951,  0.0000 ]]\n",
    ")\n",
    "# create ase Atoms object\n",
    "target_mol = ase.Atoms(symbols=symbols, positions=positions)"
   ]
  },
  {
   "cell_type": "markdown",
   "id": "67f20190",
   "metadata": {},
   "source": [
    "## Define the calculator\n",
    "\n",
    "In this step, we define a calculator for predicting for the target geometry the properties. \n",
    "Therefore, we have to specify the path to the trained model (see Tutorial 3) as well as the neighbor list for building the representation.\n"
   ]
  },
  {
   "cell_type": "code",
   "execution_count": 3,
   "id": "ff3065ce",
   "metadata": {},
   "outputs": [],
   "source": [
    "from schnetpack.transform import MatScipyNeighborList\n",
    "from spainn.interface import NacCalculator\n",
    "\n",
    "# set up calculator for predictions\n",
    "calc = NacCalculator(\n",
    "    model_file=os.path.join(os.getcwd(), 'train', 'best_model_E_F_C'), \n",
    "    neighbor_list=MatScipyNeighborList(cutoff=10.0)\n",
    ")\n",
    "# apply calculator to target molecule\n",
    "target_mol.calc = calc"
   ]
  },
  {
   "cell_type": "markdown",
   "id": "0c59c277",
   "metadata": {},
   "source": [
    "In the next step, we get the predictions from our model, by calling the `get_properties` function for the set of properties, we are interested in (here energies and nonadiabatic couplings).\n",
    "Note, the `NacCalculator` always returns nonadiabatic couplings $\\mathbf{C}_{ij}$ rather than the smoothed nonadiabatic couplings $\\mathbf{C}_{ij}^s$ employed in the training. \n",
    "Nevertheless, the predictions, need to be requested with the same property key as used in the training."
   ]
  },
  {
   "cell_type": "code",
   "execution_count": 4,
   "id": "4531486c",
   "metadata": {},
   "outputs": [
    {
     "data": {
      "text/plain": [
       "{'energy': array([-94.67488565, -94.42807255, -94.33222212]),\n",
       " 'smooth_nacs': array([[[-5.55834436e-02, -1.67016947e-17, -7.63236560e-19],\n",
       "         [-1.71284160e-01,  4.90413892e-17, -3.03844639e-19],\n",
       "         [-9.52767548e-01,  1.31373348e-16,  2.18561979e-17]],\n",
       " \n",
       "        [[-9.73515189e-02, -4.93364229e-17,  2.94756393e-18],\n",
       "         [-2.03955834e-01,  1.57202331e-18, -3.02399188e-18],\n",
       "         [ 7.18859946e-01, -4.18493612e-17,  5.87670367e-18]],\n",
       " \n",
       "        [[ 3.81299868e-02, -4.82265658e-02, -1.96809142e-04],\n",
       "         [-1.94629845e-02,  3.90448386e-02,  1.13046205e-03],\n",
       "         [ 1.16888676e-01, -9.81919929e-02,  4.69116636e-03]],\n",
       " \n",
       "        [[-3.24237656e-02, -1.53159303e-02,  2.94397172e-03],\n",
       "         [ 1.06732541e-01,  4.91115399e-02, -8.72029081e-03],\n",
       "         [ 2.22506380e-02, -3.17968002e-02,  3.09087171e-04]],\n",
       " \n",
       "        [[-3.24237656e-02,  1.53159303e-02, -2.94397172e-03],\n",
       "         [ 1.06732541e-01, -4.91115399e-02,  8.72029081e-03],\n",
       "         [ 2.22506380e-02,  3.17968002e-02, -3.09087171e-04]],\n",
       " \n",
       "        [[ 3.81299868e-02,  4.82265658e-02,  1.96809142e-04],\n",
       "         [-1.94629845e-02, -3.90448386e-02, -1.13046205e-03],\n",
       "         [ 1.16888676e-01,  9.81919929e-02, -4.69116636e-03]]])}"
      ]
     },
     "execution_count": 4,
     "metadata": {},
     "output_type": "execute_result"
    }
   ],
   "source": [
    "# predict energies and nacs from NN model\n",
    "pred = target_mol.get_properties(['energy', 'smooth_nacs'])\n",
    "pred"
   ]
  },
  {
   "cell_type": "markdown",
   "id": "3ae3f05c",
   "metadata": {},
   "source": [
    "## Mean absolute error for energies"
   ]
  },
  {
   "cell_type": "code",
   "execution_count": 5,
   "id": "8e336c54",
   "metadata": {},
   "outputs": [
    {
     "name": "stdout",
     "output_type": "stream",
     "text": [
      "MAE: 0.03294638125980498\n"
     ]
    }
   ],
   "source": [
    "# reference energies from (6,4)-CASSCF/cc-pVDZ calculations\n",
    "ref = {'energy': np.array([-94.69603647, -94.43388056, -94.40410243])}\n",
    "\n",
    "mae = np.mean(\n",
    "    np.abs(np.asarray(pred['energy']).flatten() \n",
    "           - np.asarray(ref['energy']).flatten()\n",
    "          ))\n",
    "\n",
    "print('MAE: '+str(mae))"
   ]
  },
  {
   "cell_type": "markdown",
   "id": "5ec5aed3",
   "metadata": {},
   "source": [
    "## Visualization of prediction quality for energies"
   ]
  },
  {
   "cell_type": "code",
   "execution_count": 6,
   "id": "4a46cd29",
   "metadata": {},
   "outputs": [
    {
     "data": {
      "image/png": "[encoded data removed]",
      "text/plain": [
       "<Figure size 500x500 with 1 Axes>"
      ]
     },
     "metadata": {},
     "output_type": "display_data"
    }
   ],
   "source": [
    "# define plot\n",
    "plt.figure(figsize=(5, 5))\n",
    "plt.scatter(ref['energy'], pred['energy'], s=100.0)\n",
    "plt.rcParams[\"figure.autolayout\"] = True\n",
    "plt.rcParams[\"font.size\"] = 14\n",
    "\n",
    "# get limits of axis and aplly same for x and y-axis (square plot)\n",
    "limits = [*plt.xlim(), *plt.ylim()]\n",
    "lower_lim = min(limits)\n",
    "upper_lim = max(limits)\n",
    "plt.xlim(lower_lim, upper_lim)\n",
    "plt.ylim(lower_lim, upper_lim)\n",
    "\n",
    "# plot y=x line to guide eye\n",
    "plt.plot([lower_lim-2.5, upper_lim+2.5], [lower_lim-2.5, upper_lim+2.5], c='k', alpha=0.2, linewidth=8, linestyle='-')\n",
    "\n",
    "plt.xlabel('E$_i$(ref) / Ha')\n",
    "plt.ylabel('E$_i$(NN) / Ha')\n",
    "plt.title('MAE: '+str(round(mae, 4)))\n",
    "\n",
    "plt.show()"
   ]
  }
 ],
 "metadata": {
  "kernelspec": {
   "display_name": "Python 3 (ipykernel)",
   "language": "python",
   "name": "python3"
  },
  "language_info": {
   "codemirror_mode": {
    "name": "ipython",
    "version": 3
   },
   "file_extension": ".py",
   "mimetype": "text/x-python",
   "name": "python",
   "nbconvert_exporter": "python",
   "pygments_lexer": "ipython3",
   "version": "3.9.16"
  }
 },
 "nbformat": 4,
 "nbformat_minor": 5
}
